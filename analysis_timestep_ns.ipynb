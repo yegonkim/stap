{
 "cells": [
  {
   "cell_type": "code",
   "execution_count": 1,
   "metadata": {},
   "outputs": [],
   "source": [
    "\n",
    "import torch\n",
    "from torch import tensor\n",
    "\n",
    "\n",
    "step_0 = {6247: tensor([[False,  True, False, False, False, False, False, False, False, False,\n",
    "         False, False, False]]), 6386: tensor([[False,  True, False, False, False, False, False, False, False, False,\n",
    "         False, False, False]]), 4490: tensor([[ True, False, False,  True, False, False, False, False, False, False,\n",
    "         False, False, False]]), 8200: tensor([[False, False, False, False,  True, False, False, False, False, False,\n",
    "         False, False, False]]), 7499: tensor([[False, False, False, False, False, False, False, False, False, False,\n",
    "          True, False, False]]), 8297: tensor([[False, False, False, False, False, False, False,  True, False, False,\n",
    "         False, False, False]]), 6448: tensor([[False, False,  True, False, False, False, False, False, False, False,\n",
    "         False, False, False]]), 8864: tensor([[False, False,  True,  True, False, False, False, False, False, False,\n",
    "          True, False, False]]), 7051: tensor([[False, False,  True, False, False, False,  True, False, False, False,\n",
    "         False, False, False]]), 1150: tensor([[False, False, False, False, False, False, False, False, False, False,\n",
    "          True, False, False]]), 9596: tensor([[False,  True, False, False, False, False,  True, False, False, False,\n",
    "         False, False, False]]), 5775: tensor([[False,  True, False,  True, False, False, False, False, False, False,\n",
    "         False, False, False]]), 4832: tensor([[False,  True, False, False, False, False,  True, False, False, False,\n",
    "         False, False, False]]), 135: tensor([[False, False,  True, False, False, False, False, False, False, False,\n",
    "         False, False, False]]), 2475: tensor([[ True, False, False, False, False, False, False, False, False, False,\n",
    "         False, False, False]]), 3006: tensor([[False, False, False,  True, False, False, False, False, False, False,\n",
    "         False, False, False]]), 4991: tensor([[False, False,  True, False, False, False, False, False, False, False,\n",
    "         False, False, False]]), 6176: tensor([[False,  True, False, False, False, False, False, False, False, False,\n",
    "         False, False, False]]), 4775: tensor([[False, False,  True, False, False, False, False, False, False, False,\n",
    "         False, False, False]]), 9892: tensor([[False,  True, False, False, False, False, False, False, False, False,\n",
    "         False, False, False]]), 6926: tensor([[False, False, False, False,  True, False, False, False, False, False,\n",
    "         False, False, False]]), 7663: tensor([[False, False, False,  True, False, False, False, False, False, False,\n",
    "         False, False, False]]), 1475: tensor([[False,  True, False, False, False, False, False, False, False, False,\n",
    "         False, False, False]]), 6093: tensor([[False, False, False, False, False, False,  True, False, False, False,\n",
    "         False, False, False]]), 7710: tensor([[False,  True, False, False, False, False, False, False, False, False,\n",
    "         False, False, False]]), 2894: tensor([[False,  True, False, False, False, False, False, False, False, False,\n",
    "         False, False, False]]), 138: tensor([[False, False,  True, False, False, False, False, False, False, False,\n",
    "         False, False, False]]), 4225: tensor([[False,  True, False, False, False, False, False, False, False, False,\n",
    "         False, False, False]]), 485: tensor([[False, False, False,  True, False, False, False, False, False, False,\n",
    "         False, False, False]]), 8618: tensor([[False,  True, False,  True, False, False, False, False, False, False,\n",
    "         False, False, False]]), 6569: tensor([[False, False,  True, False,  True, False, False, False, False, False,\n",
    "         False,  True, False]]), 6621: tensor([[False,  True, False, False, False, False, False, False, False, False,\n",
    "         False, False, False]]), 3716: tensor([[False, False,  True, False, False, False, False, False, False, False,\n",
    "         False, False, False]]), 1557: tensor([[False,  True, False, False, False, False, False, False, False, False,\n",
    "         False, False, False]]), 5783: tensor([[False,  True, False, False, False, False, False, False, False, False,\n",
    "         False, False, False]]), 6224: tensor([[ True, False, False, False, False, False, False, False, False, False,\n",
    "         False, False, False]]), 5690: tensor([[False,  True, False, False,  True, False, False, False, False, False,\n",
    "         False, False, False]]), 9559: tensor([[False, False,  True, False, False, False, False, False, False, False,\n",
    "         False, False, False]]), 4959: tensor([[False, False, False, False, False, False, False, False,  True, False,\n",
    "         False, False, False]]), 3500: tensor([[False,  True, False, False, False, False, False, False, False, False,\n",
    "         False, False, False]]), 6587: tensor([[False, False, False,  True, False, False, False, False, False, False,\n",
    "         False, False, False]]), 6110: tensor([[ True, False, False, False, False, False, False, False, False, False,\n",
    "         False, False, False]]), 480: tensor([[ True, False, False, False,  True, False, False, False, False, False,\n",
    "         False, False, False]]), 3796: tensor([[False, False,  True, False, False, False, False, False, False, False,\n",
    "         False, False, False]]), 4875: tensor([[False, False,  True, False, False, False, False, False, False, False,\n",
    "         False, False, False]]), 2870: tensor([[ True, False, False, False, False, False, False, False, False, False,\n",
    "         False, False, False]]), 9817: tensor([[ True, False,  True, False, False, False, False, False, False, False,\n",
    "         False, False, False]]), 9014: tensor([[False, False, False, False, False, False, False,  True, False, False,\n",
    "         False, False, False]]), 9971: tensor([[False, False, False, False, False,  True, False, False,  True, False,\n",
    "         False, False, False]]), 2042: tensor([[False, False,  True, False, False, False, False, False, False, False,\n",
    "         False, False, False]]), 8220: tensor([[False, False, False, False, False, False, False,  True, False, False,\n",
    "         False, False, False]]), 6936: tensor([[False,  True, False, False, False, False, False, False, False, False,\n",
    "         False, False, False]]), 1844: tensor([[False, False,  True, False, False, False, False, False, False, False,\n",
    "         False, False, False]]), 4731: tensor([[False,  True, False, False, False, False, False, False, False, False,\n",
    "         False, False, False]]), 2560: tensor([[False, False,  True, False, False, False, False, False, False, False,\n",
    "         False, False, False]]), 2669: tensor([[False, False, False, False, False, False, False, False,  True, False,\n",
    "         False, False, False]]), 4227: tensor([[ True, False, False, False, False, False, False, False, False, False,\n",
    "         False, False, False]]), 3644: tensor([[False, False, False,  True,  True, False, False, False, False, False,\n",
    "         False, False, False]]), 8578: tensor([[False, False, False,  True, False, False, False, False, False, False,\n",
    "         False, False, False]]), 9705: tensor([[False, False, False, False,  True, False, False, False, False, False,\n",
    "         False, False, False]]), 1870: tensor([[ True, False, False, False, False, False, False, False, False, False,\n",
    "         False, False, False]]), 635: tensor([[False, False, False, False,  True, False, False, False, False, False,\n",
    "         False, False, False]]), 163: tensor([[False,  True,  True, False, False, False, False, False, False, False,\n",
    "         False, False, False]]), 3652: tensor([[False,  True, False, False, False, False, False, False, False, False,\n",
    "         False, False, False]]), 231: tensor([[False, False, False, False,  True, False, False, False, False, False,\n",
    "         False, False, False]]), 4650: tensor([[False, False, False,  True, False, False, False, False, False, False,\n",
    "         False, False, False]]), 7957: tensor([[False, False, False, False,  True, False, False, False,  True, False,\n",
    "         False, False, False]]), 3412: tensor([[False, False,  True, False, False, False, False, False, False, False,\n",
    "         False, False, False]]), 780: tensor([[False, False, False, False, False, False,  True, False, False, False,\n",
    "         False, False, False]]), 9210: tensor([[False, False,  True, False, False, False, False, False, False, False,\n",
    "         False, False, False]]), 8266: tensor([[False,  True, False, False, False, False, False, False, False, False,\n",
    "         False, False, False]]), 5256: tensor([[False, False, False, False, False,  True, False, False, False, False,\n",
    "         False, False, False]]), 2399: tensor([[False,  True, False, False, False, False, False, False, False, False,\n",
    "         False, False, False]]), 8342: tensor([[ True, False, False, False, False, False, False, False, False, False,\n",
    "         False, False, False]]), 9866: tensor([[False,  True, False, False, False, False, False, False, False, False,\n",
    "         False, False, False]]), 8467: tensor([[False, False, False,  True, False, False, False, False, False, False,\n",
    "         False, False, False]]), 6347: tensor([[False, False,  True, False, False, False, False, False, False, False,\n",
    "         False, False, False]]), 8437: tensor([[False, False, False,  True, False, False, False, False, False, False,\n",
    "         False, False, False]]), 5914: tensor([[False, False,  True, False, False, False,  True, False, False, False,\n",
    "         False, False, False]]), 9092: tensor([[False, False, False,  True, False, False, False, False, False, False,\n",
    "         False, False, False]]), 9097: tensor([[False,  True, False, False, False, False, False, False,  True, False,\n",
    "         False, False, False]]), 7234: tensor([[False, False, False, False,  True, False, False, False, False, False,\n",
    "         False, False, False]]), 9492: tensor([[False,  True, False, False, False, False, False, False, False, False,\n",
    "         False, False, False]]), 6950: tensor([[False, False,  True, False,  True, False, False, False, False, False,\n",
    "         False, False, False]])}"
   ]
  },
  {
   "cell_type": "code",
   "execution_count": 2,
   "metadata": {},
   "outputs": [],
   "source": [
    "S_list = []\n",
    "for k in step_0:\n",
    "    S_list.append(step_0[k].squeeze())\n",
    "\n",
    "S = torch.stack(S_list, dim=0)"
   ]
  },
  {
   "cell_type": "code",
   "execution_count": 5,
   "metadata": {},
   "outputs": [
    {
     "data": {
      "text/plain": [
       "([<matplotlib.axis.YTick at 0x7fda1a923190>,\n",
       "  <matplotlib.axis.YTick at 0x7fda1a922b30>,\n",
       "  <matplotlib.axis.YTick at 0x7fda1a94a0e0>,\n",
       "  <matplotlib.axis.YTick at 0x7fda1a790790>,\n",
       "  <matplotlib.axis.YTick at 0x7fda1a791240>,\n",
       "  <matplotlib.axis.YTick at 0x7fda1a791cf0>,\n",
       "  <matplotlib.axis.YTick at 0x7fda1a7927a0>,\n",
       "  <matplotlib.axis.YTick at 0x7fda1a7915a0>,\n",
       "  <matplotlib.axis.YTick at 0x7fda1a793040>],\n",
       " [Text(0, 0, '0'),\n",
       "  Text(0, 10, '10'),\n",
       "  Text(0, 20, '20'),\n",
       "  Text(0, 30, '30'),\n",
       "  Text(0, 40, '40'),\n",
       "  Text(0, 50, '50'),\n",
       "  Text(0, 60, '60'),\n",
       "  Text(0, 70, '70'),\n",
       "  Text(0, 80, '80')])"
      ]
     },
     "execution_count": 5,
     "metadata": {},
     "output_type": "execute_result"
    },
    {
     "data": {
      "image/png": "[encoded data removed]",
      "text/plain": [
       "<Figure size 640x480 with 1 Axes>"
      ]
     },
     "metadata": {},
     "output_type": "display_data"
    }
   ],
   "source": [
    "from matplotlib import pyplot as plt\n",
    "from seaborn import heatmap\n",
    "\n",
    "\n",
    "heatmap(S, cmap='viridis', cbar=False)\n",
    "# make y ticks less frequent\n",
    "plt.yticks(range(0, S.shape[0], 10), range(0, S.shape[0], 10))\n",
    "\n"
   ]
  },
  {
   "cell_type": "code",
   "execution_count": null,
   "metadata": {},
   "outputs": [],
   "source": []
  }
 ],
 "metadata": {
  "kernelspec": {
   "display_name": "lupi",
   "language": "python",
   "name": "python3"
  },
  "language_info": {
   "codemirror_mode": {
    "name": "ipython",
    "version": 3
   },
   "file_extension": ".py",
   "mimetype": "text/x-python",
   "name": "python",
   "nbconvert_exporter": "python",
   "pygments_lexer": "ipython3",
   "version": "3.10.13"
  }
 },
 "nbformat": 4,
 "nbformat_minor": 2
}
