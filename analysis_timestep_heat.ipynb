{
 "cells": [
  {
   "cell_type": "code",
   "execution_count": 1,
   "metadata": {},
   "outputs": [],
   "source": [
    "\n",
    "import torch\n",
    "from torch import tensor\n",
    "\n",
    "\n",
    "step_0 = {9881: tensor([[ True, False, False, False, False, False, False, False, False,  True,\n",
    "         False, False, False]]), 37: tensor([[ True, False, False, False, False, False, False, False, False, False,\n",
    "         False, False, False]]), 9549: tensor([[ True, False, False, False, False, False, False, False, False, False,\n",
    "         False, False, False]]), 9558: tensor([[ True, False, False, False, False, False, False, False, False, False,\n",
    "         False, False, False]]), 8476: tensor([[ True, False, False, False, False, False, False, False, False, False,\n",
    "         False, False, False]]), 4595: tensor([[False,  True, False, False, False, False, False, False, False, False,\n",
    "         False, False, False]]), 6422: tensor([[ True, False, False, False, False, False, False, False, False, False,\n",
    "         False, False, False]]), 43: tensor([[ True, False, False, False, False, False, False, False, False, False,\n",
    "         False, False, False]]), 838: tensor([[ True, False, False, False, False, False, False, False, False, False,\n",
    "         False, False, False]]), 4056: tensor([[False,  True, False, False, False, False, False, False, False, False,\n",
    "         False, False, False]]), 3090: tensor([[ True, False, False, False,  True, False, False, False, False, False,\n",
    "         False, False, False]]), 2382: tensor([[ True, False, False, False, False, False, False, False, False, False,\n",
    "         False, False, False]]), 8087: tensor([[False,  True, False, False, False, False, False, False, False, False,\n",
    "         False, False, False]]), 8956: tensor([[ True,  True, False, False, False, False, False, False, False, False,\n",
    "         False, False, False]]), 418: tensor([[ True, False, False, False, False, False, False, False, False, False,\n",
    "         False, False, False]]), 5380: tensor([[ True, False, False, False, False, False, False, False, False, False,\n",
    "         False, False, False]]), 3655: tensor([[ True, False, False, False, False, False, False, False, False, False,\n",
    "         False, False, False]]), 9258: tensor([[False,  True, False, False, False, False, False, False, False, False,\n",
    "         False, False, False]]), 3538: tensor([[ True, False, False, False, False, False, False, False, False, False,\n",
    "         False, False, False]]), 6674: tensor([[False,  True, False, False, False, False, False, False, False, False,\n",
    "         False, False, False]]), 187: tensor([[ True, False, False, False, False, False, False, False, False, False,\n",
    "         False, False, False]]), 2355: tensor([[ True,  True, False, False, False, False, False, False, False, False,\n",
    "         False, False,  True]]), 7933: tensor([[False,  True, False, False, False,  True, False, False, False, False,\n",
    "         False, False, False]]), 7380: tensor([[False,  True, False, False, False, False, False, False, False, False,\n",
    "         False, False, False]]), 9794: tensor([[ True, False, False, False, False, False, False, False, False, False,\n",
    "         False, False, False]]), 647: tensor([[ True,  True, False, False, False, False, False, False, False, False,\n",
    "         False, False, False]]), 5925: tensor([[ True, False, False, False, False, False, False, False, False, False,\n",
    "         False, False, False]]), 757: tensor([[False,  True, False, False, False, False, False, False, False, False,\n",
    "         False, False, False]]), 8161: tensor([[ True, False, False, False, False, False, False, False, False, False,\n",
    "         False, False, False]]), 768: tensor([[ True, False, False, False, False,  True, False, False, False, False,\n",
    "         False, False, False]]), 8902: tensor([[ True, False, False, False, False, False, False, False, False, False,\n",
    "         False, False, False]]), 4886: tensor([[ True, False, False, False, False, False, False, False, False, False,\n",
    "         False, False, False]]), 1774: tensor([[ True, False, False, False, False,  True, False, False, False, False,\n",
    "         False, False, False]]), 5037: tensor([[ True, False, False, False, False, False, False, False, False, False,\n",
    "         False, False, False]]), 9004: tensor([[ True, False, False, False, False, False, False, False, False, False,\n",
    "         False, False, False]]), 2804: tensor([[False,  True, False, False, False, False, False, False, False, False,\n",
    "         False, False, False]]), 3469: tensor([[ True, False, False, False, False, False, False, False, False, False,\n",
    "         False, False, False]]), 1410: tensor([[ True, False, False, False,  True, False, False, False, False, False,\n",
    "         False, False, False]]), 9388: tensor([[False,  True, False, False, False, False, False, False, False, False,\n",
    "         False, False, False]]), 6867: tensor([[False,  True, False, False, False, False, False, False, False, False,\n",
    "         False, False, False]]), 9008: tensor([[ True,  True, False, False, False, False, False, False, False, False,\n",
    "         False, False, False]]), 8805: tensor([[ True, False, False, False, False, False, False, False, False, False,\n",
    "         False, False, False]]), 644: tensor([[ True, False,  True, False, False, False, False, False, False, False,\n",
    "         False, False, False]]), 1298: tensor([[False,  True, False, False,  True, False, False, False, False, False,\n",
    "         False, False, False]]), 8672: tensor([[ True, False, False, False,  True, False, False, False, False, False,\n",
    "         False, False, False]]), 7871: tensor([[False,  True, False, False, False, False, False, False, False, False,\n",
    "         False, False, False]]), 6349: tensor([[ True, False, False, False, False, False, False, False, False, False,\n",
    "         False, False, False]]), 3854: tensor([[False,  True, False, False, False, False, False, False, False, False,\n",
    "         False, False, False]]), 2948: tensor([[ True, False, False, False,  True, False, False, False, False, False,\n",
    "         False, False, False]]), 6942: tensor([[ True, False,  True, False, False, False, False, False, False, False,\n",
    "         False, False, False]]), 9539: tensor([[False, False,  True, False, False, False, False, False, False, False,\n",
    "         False, False, False]]), 7239: tensor([[ True, False, False, False, False, False, False, False, False, False,\n",
    "         False, False, False]]), 1687: tensor([[ True, False, False, False, False, False, False, False, False, False,\n",
    "         False, False, False]]), 2368: tensor([[ True, False, False, False, False, False, False, False, False, False,\n",
    "         False, False, False]]), 1586: tensor([[ True, False,  True, False, False, False, False, False, False, False,\n",
    "         False, False, False]]), 529: tensor([[ True, False, False, False, False, False, False, False, False, False,\n",
    "         False, False, False]]), 9469: tensor([[ True, False,  True, False, False, False, False, False, False,  True,\n",
    "         False, False, False]]), 6711: tensor([[ True, False, False, False, False, False, False, False, False, False,\n",
    "         False, False, False]]), 3201: tensor([[ True,  True, False, False, False, False, False, False, False, False,\n",
    "         False, False, False]]), 359: tensor([[ True, False, False, False, False, False, False, False, False, False,\n",
    "         False, False, False]]), 5524: tensor([[False,  True, False, False, False, False, False, False, False, False,\n",
    "         False, False, False]]), 371: tensor([[ True, False, False, False, False, False, False, False, False, False,\n",
    "         False, False, False]]), 4801: tensor([[False,  True, False, False, False, False, False, False, False, False,\n",
    "         False, False, False]]), 2872: tensor([[ True, False, False, False, False,  True, False, False, False, False,\n",
    "         False, False, False]]), 3957: tensor([[False,  True,  True, False, False, False, False, False, False, False,\n",
    "         False, False, False]]), 3428: tensor([[False,  True, False, False, False, False, False, False, False, False,\n",
    "         False, False, False]]), 4946: tensor([[ True, False, False, False, False, False, False, False, False, False,\n",
    "         False, False, False]]), 3612: tensor([[ True, False,  True, False, False, False, False, False, False, False,\n",
    "         False, False, False]]), 7527: tensor([[ True, False, False, False, False, False, False, False, False, False,\n",
    "         False, False, False]]), 5190: tensor([[False,  True, False, False, False, False, False, False, False, False,\n",
    "         False, False, False]]), 7688: tensor([[False,  True, False, False,  True, False, False, False, False, False,\n",
    "         False, False, False]]), 7189: tensor([[ True, False, False, False, False, False, False, False, False, False,\n",
    "         False, False, False]]), 9816: tensor([[ True, False, False, False, False, False, False, False, False, False,\n",
    "         False, False, False]]), 3045: tensor([[False,  True, False, False, False, False, False, False, False, False,\n",
    "         False, False, False]]), 5750: tensor([[ True, False, False, False, False, False, False, False, False, False,\n",
    "         False, False, False]]), 8638: tensor([[ True, False, False, False, False, False, False, False, False, False,\n",
    "         False, False, False]]), 6533: tensor([[False,  True, False, False, False, False, False, False, False, False,\n",
    "         False, False, False]]), 6665: tensor([[ True, False, False, False, False, False, False, False, False, False,\n",
    "         False, False, False]]), 1175: tensor([[ True, False, False, False, False, False, False, False, False, False,\n",
    "         False, False, False]]), 8801: tensor([[ True, False, False, False, False, False, False, False, False, False,\n",
    "         False, False, False]])}"
   ]
  },
  {
   "cell_type": "code",
   "execution_count": 2,
   "metadata": {},
   "outputs": [],
   "source": [
    "S_list = []\n",
    "for k in step_0:\n",
    "    S_list.append(step_0[k].squeeze())\n",
    "\n",
    "S = torch.stack(S_list, dim=0)"
   ]
  },
  {
   "cell_type": "code",
   "execution_count": 9,
   "metadata": {},
   "outputs": [
    {
     "data": {
      "text/plain": [
       "([<matplotlib.axis.YTick at 0x7ff4421aaa40>,\n",
       "  <matplotlib.axis.YTick at 0x7ff4421aa3e0>,\n",
       "  <matplotlib.axis.YTick at 0x7ff4421cd2a0>,\n",
       "  <matplotlib.axis.YTick at 0x7ff4421f5cc0>,\n",
       "  <matplotlib.axis.YTick at 0x7ff4421f7dc0>,\n",
       "  <matplotlib.axis.YTick at 0x7ff442210c10>,\n",
       "  <matplotlib.axis.YTick at 0x7ff4422116c0>,\n",
       "  <matplotlib.axis.YTick at 0x7ff4421f7c70>],\n",
       " [Text(0, 0, '0'),\n",
       "  Text(0, 10, '10'),\n",
       "  Text(0, 20, '20'),\n",
       "  Text(0, 30, '30'),\n",
       "  Text(0, 40, '40'),\n",
       "  Text(0, 50, '50'),\n",
       "  Text(0, 60, '60'),\n",
       "  Text(0, 70, '70')])"
      ]
     },
     "execution_count": 9,
     "metadata": {},
     "output_type": "execute_result"
    },
    {
     "data": {
      "image/png": "[encoded data removed]",
      "text/plain": [
       "<Figure size 640x480 with 1 Axes>"
      ]
     },
     "metadata": {},
     "output_type": "display_data"
    }
   ],
   "source": [
    "from matplotlib import pyplot as plt\n",
    "from seaborn import heatmap\n",
    "\n",
    "heatmap(S, cmap='viridis', cbar=False)\n",
    "# make y ticks less frequent\n",
    "plt.yticks(range(0, S.shape[0], 10), range(0, S.shape[0], 10))\n"
   ]
  },
  {
   "cell_type": "code",
   "execution_count": null,
   "metadata": {},
   "outputs": [],
   "source": []
  }
 ],
 "metadata": {
  "kernelspec": {
   "display_name": "lupi",
   "language": "python",
   "name": "python3"
  },
  "language_info": {
   "codemirror_mode": {
    "name": "ipython",
    "version": 3
   },
   "file_extension": ".py",
   "mimetype": "text/x-python",
   "name": "python",
   "nbconvert_exporter": "python",
   "pygments_lexer": "ipython3",
   "version": "3.10.13"
  }
 },
 "nbformat": 4,
 "nbformat_minor": 2
}
