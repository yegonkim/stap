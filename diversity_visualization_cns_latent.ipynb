{
 "cells": [
  {
   "cell_type": "code",
   "execution_count": 1,
   "metadata": {},
   "outputs": [
    {
     "data": {
      "text/plain": [
       "hydra.initialize()"
      ]
     },
     "execution_count": 1,
     "metadata": {},
     "output_type": "execute_result"
    }
   ],
   "source": [
    "import h5py\n",
    "import torch\n",
    "import numpy as np\n",
    "import matplotlib.pyplot as plt\n",
    "import hydra\n",
    "\n",
    "# with h5py.File(f'data_large/Burgers_train_100000_default.h5', 'r') as f:\n",
    "#     # Traj_dataset.traj_train = torch.tensor(f['train']['pde_140-256'][:10000, :131], dtype=torch.float32, device=cfg.device)\n",
    "#     traj = torch.tensor(f['train']['pde_140-256'][:1000, :131], dtype=torch.float32)\n",
    "device = torch.device('cuda' if torch.cuda.is_available() else 'cpu')\n",
    "\n",
    "hydra.initialize(config_path=\"cfg_flexible\", version_base=None)"
   ]
  },
  {
   "cell_type": "code",
   "execution_count": 2,
   "metadata": {},
   "outputs": [],
   "source": [
    "\n",
    "from omegaconf import DictConfig, OmegaConf\n",
    "from generate_data import evolve\n",
    "from tqdm import tqdm\n",
    "\n",
    "\n",
    "cfg = hydra.compose(config_name=\"config\", overrides=[\"task=CNS2\"])"
   ]
  },
  {
   "cell_type": "code",
   "execution_count": 3,
   "metadata": {},
   "outputs": [],
   "source": [
    "with h5py.File(cfg.dataset.train_path, 'r') as f:\n",
    "    # Traj_dataset.traj_train = torch.tensor(f['train']['pde_140-256'][:10000, :131], dtype=torch.float32, device=cfg.device)\n",
    "    traj = torch.tensor(f['train']['pde'][:1000, :131:5], dtype=torch.float32)"
   ]
  },
  {
   "cell_type": "code",
   "execution_count": 4,
   "metadata": {},
   "outputs": [
    {
     "name": "stdout",
     "output_type": "stream",
     "text": [
      "torch.Size([1000, 27, 4, 32, 32])\n"
     ]
    }
   ],
   "source": [
    "print(traj.shape)"
   ]
  },
  {
   "cell_type": "code",
   "execution_count": 5,
   "metadata": {},
   "outputs": [
    {
     "name": "stderr",
     "output_type": "stream",
     "text": [
      "100%|██████████| 100/100 [05:03<00:00,  3.04s/it]\n"
     ]
    }
   ],
   "source": [
    "\n",
    "from neuralop.models import FNO\n",
    "\n",
    "nt = cfg.nt\n",
    "ensemble_size = cfg.ensemble_size\n",
    "num_acquire = cfg.num_acquire\n",
    "device = cfg.device\n",
    "epochs = cfg.train.epochs\n",
    "lr = cfg.train.lr\n",
    "batch_size = cfg.train.batch_size\n",
    "initial_datasize = 128\n",
    "\n",
    "def train(Y, train_nts, **kwargs):\n",
    "    model = FNO(n_modes=cfg.model.n_modes, hidden_channels=64,\n",
    "                in_channels=4, out_channels=4)\n",
    "\n",
    "    model = model.to(device)\n",
    "\n",
    "    optimizer = torch.optim.Adam(model.parameters(), lr=lr)\n",
    "    scheduler = torch.optim.lr_scheduler.CosineAnnealingLR(optimizer, epochs)\n",
    "    criterion = torch.nn.MSELoss()\n",
    "\n",
    "    inputs = []\n",
    "    outputs = []\n",
    "    for b in range(Y.shape[0]):\n",
    "        for t in range(train_nts[b].item()-1):\n",
    "            inputs.append(Y[b,t])\n",
    "            outputs.append(Y[b, t+1])\n",
    "    inputs = torch.stack(inputs, dim=0)\n",
    "    outputs = torch.stack(outputs, dim=0)\n",
    "\n",
    "    # print(inputs.shape)\n",
    "    # print(outputs.shape)\n",
    "\n",
    "    dataset = torch.utils.data.TensorDataset(inputs, outputs)\n",
    "    dataloader = torch.utils.data.DataLoader(dataset, batch_size=batch_size, shuffle=True)\n",
    "\n",
    "    model.train()\n",
    "    for epoch in tqdm(range(epochs)):\n",
    "        model.train()\n",
    "        # max_unrolling = epoch if epoch <= unrolling else unrolling\n",
    "        # unrolling_list = [r for r in range(max_unrolling + 1)]\n",
    "\n",
    "        total_loss = 0\n",
    "        for x, y in dataloader:\n",
    "            optimizer.zero_grad()\n",
    "            x, y = x.to(device), y.to(device)\n",
    "            \n",
    "            pred = model(x)\n",
    "            loss = criterion(pred, y)\n",
    "\n",
    "            # loss = torch.sqrt(loss)\n",
    "            loss.backward()\n",
    "            optimizer.step()\n",
    "            total_loss += loss.item()\n",
    "        scheduler.step()\n",
    "        # wandb.log({f'train/loss_{acquire_step}': total_loss})\n",
    "    return model\n",
    "\n",
    "Y = traj.to(device).squeeze(2)\n",
    "train_nts = torch.zeros(Y.shape[0], device=device).long()\n",
    "train_nts[:initial_datasize] = nt\n",
    "\n",
    "model = train(Y[:initial_datasize], train_nts[:initial_datasize])\n"
   ]
  },
  {
   "cell_type": "code",
   "execution_count": 6,
   "metadata": {},
   "outputs": [],
   "source": [
    "# data = traj.flatten(2) # (1000, 131, 1) -> (1000, 131)\n",
    "\n",
    "# selected = torch.zeros(*data.shape[0:2]).bool()\n",
    "# selected[:10, :] = True\n",
    "\n",
    "# selected_scattered = torch.zeros(*data.shape[0:2]).bool()\n",
    "# selected_scattered = selected_scattered.flatten()\n",
    "# selected_scattered[torch.randperm(selected_scattered.shape[0])[:selected.sum()]] = True\n",
    "\n",
    "# data = data.flatten(0,1) # (datasize*nt, nx)\n",
    "# selected = selected.flatten(0,1) # (datasize*nt)aa\n",
    "\n",
    "# # perform PCA on data\n",
    "# from sklearn.decomposition import PCA\n",
    "# pca = PCA(n_components=2)\n",
    "# print(data.shape)\n",
    "# data_transformed = pca.fit_transform(data)\n",
    "# print(data_transformed.shape)\n",
    "\n",
    "# # # plot the first two principal components\n",
    "# # # plot selected components in red\n",
    "# # # plot selected_scattered components in green\n",
    "# # # make the points small\n",
    "# # # make the plot square size\n",
    "# # plt.figure()\n",
    "# # plt.scatter(data_transformed[:,0], data_transformed[:,1], c='b', s=0.1)\n",
    "# # plt.scatter(data_transformed[selected,0], data_transformed[selected,1], c='k')\n",
    "# # plt.gca().set_aspect('equal', adjustable='box')\n",
    "# # plt.xlabel('PC1')\n",
    "# # plt.ylabel('PC2')\n",
    "# # plt.legend(['All states from 1000 trajectories', 'All states from 10 trajectories'])\n",
    "\n",
    "# # plt.figure()\n",
    "# # plt.scatter(data_transformed[:,0], data_transformed[:,1], c='b', s=0.1)\n",
    "# # plt.scatter(data_transformed[selected_scattered,0], data_transformed[selected_scattered,1], c='r')\n",
    "# # plt.gca().set_aspect('equal', adjustable='box')\n",
    "# # plt.xlabel('PC1')\n",
    "# # plt.ylabel('PC2')\n",
    "# # plt.legend(['All states from 1000 trajectories', 'Randomly selected states'])\n"
   ]
  },
  {
   "cell_type": "code",
   "execution_count": 7,
   "metadata": {},
   "outputs": [],
   "source": [
    "# import seaborn as sns\n",
    "# import matplotlib.pyplot as plt\n",
    "# import numpy as np\n",
    "# from sklearn.decomposition import PCA\n",
    "# import torch\n",
    "\n",
    "# # Assuming the previous setup (data preparation and PCA) remains the same\n",
    "# # Scatter plot using seaborn\n",
    "\n",
    "# # Set seaborn style for prettier plots\n",
    "# sns.set(style='whitegrid')\n",
    "\n",
    "# # Create subplots\n",
    "# fig, axes = plt.subplots(1, 2, figsize=(12, 6))  # 1 row, 2 columns\n",
    "\n",
    "# # Calculate the limits based on the data (both x and y should have the same limits)\n",
    "# min_limit = min(np.min(data_transformed[:, 0]), np.min(data_transformed[:, 1]))\n",
    "# max_limit = max(np.max(data_transformed[:, 0]), np.max(data_transformed[:, 1]))\n",
    "\n",
    "# # First plot: selected components in black, larger and with different transparency for blue\n",
    "# sns.scatterplot(ax=axes[0], x=data_transformed[:, 0], y=data_transformed[:, 1], color='blue', s=5, alpha=0.4, label='All states from 1000 trajectories')  # smaller blue dots\n",
    "# sns.scatterplot(ax=axes[0], x=data_transformed[selected, 0], y=data_transformed[selected, 1], color='black', s=50, edgecolor='white', linewidth=0.5, label='All states from 10 trajectories')  # larger black dots with white edge\n",
    "# axes[0].set_aspect('equal', adjustable='box')\n",
    "# axes[0].set_xlabel('PC1')\n",
    "# axes[0].set_ylabel('PC2')\n",
    "# axes[0].legend()\n",
    "# axes[0].set_xlim(min_limit, max_limit)\n",
    "# axes[0].set_ylim(min_limit, max_limit)\n",
    "\n",
    "# # Second plot: selected_scattered components in red, larger with edge color\n",
    "# sns.scatterplot(ax=axes[1], x=data_transformed[:, 0], y=data_transformed[:, 1], color='blue', s=5, alpha=0.4, label='All states from 1000 trajectories')  # smaller blue dots\n",
    "# sns.scatterplot(ax=axes[1], x=data_transformed[selected_scattered, 0], y=data_transformed[selected_scattered, 1], color='red', s=50, edgecolor='white', linewidth=0.5, label='Randomly selected states')  # larger red dots with white edge\n",
    "# axes[1].set_aspect('equal', adjustable='box')\n",
    "# axes[1].set_xlabel('PC1')\n",
    "# axes[1].set_ylabel('PC2')\n",
    "# axes[1].legend()\n",
    "# axes[1].set_xlim(min_limit, max_limit)\n",
    "# axes[1].set_ylim(min_limit, max_limit)\n",
    "\n",
    "# # Adjust layout\n",
    "# plt.tight_layout()\n",
    "\n",
    "# # Show the plots\n",
    "# plt.show()\n"
   ]
  },
  {
   "cell_type": "code",
   "execution_count": 8,
   "metadata": {},
   "outputs": [
    {
     "data": {
      "text/plain": [
       "torch.Size([1000, 27, 4, 32, 32])"
      ]
     },
     "execution_count": 8,
     "metadata": {},
     "output_type": "execute_result"
    }
   ],
   "source": [
    "traj.shape"
   ]
  },
  {
   "cell_type": "code",
   "execution_count": 9,
   "metadata": {},
   "outputs": [
    {
     "name": "stdout",
     "output_type": "stream",
     "text": [
      "torch.Size([128, 4, 32, 32])\n",
      "torch.Size([128, 4, 32, 32])\n",
      "torch.Size([128, 4, 32, 32])\n",
      "torch.Size([128, 4, 32, 32])\n",
      "torch.Size([128, 4, 32, 32])\n",
      "torch.Size([128, 4, 32, 32])\n",
      "torch.Size([128, 4, 32, 32])\n",
      "torch.Size([128, 4, 32, 32])\n",
      "torch.Size([128, 4, 32, 32])\n",
      "torch.Size([128, 4, 32, 32])\n",
      "torch.Size([128, 4, 32, 32])\n",
      "torch.Size([128, 4, 32, 32])\n",
      "torch.Size([128, 4, 32, 32])\n",
      "torch.Size([128, 4, 32, 32])\n",
      "torch.Size([128, 4, 32, 32])\n",
      "torch.Size([128, 4, 32, 32])\n",
      "torch.Size([128, 4, 32, 32])\n",
      "torch.Size([128, 4, 32, 32])\n",
      "torch.Size([128, 4, 32, 32])\n",
      "torch.Size([128, 4, 32, 32])\n",
      "torch.Size([128, 4, 32, 32])\n",
      "torch.Size([128, 4, 32, 32])\n",
      "torch.Size([128, 4, 32, 32])\n",
      "torch.Size([128, 4, 32, 32])\n",
      "torch.Size([128, 4, 32, 32])\n",
      "torch.Size([128, 4, 32, 32])\n",
      "torch.Size([128, 4, 32, 32])\n",
      "torch.Size([128, 27, 262144])\n",
      "torch.Size([3456, 262144])\n",
      "(3456, 2)\n"
     ]
    }
   ],
   "source": [
    "\n",
    "data = traj[:128] # (1000, 131, 1, 256) -> (1000, 131, 256)\n",
    "bs = data.shape[0]\n",
    "nt = data.shape[1]\n",
    "\n",
    "model.eval()\n",
    "\n",
    "activations = {}\n",
    "\n",
    "def get_activation(name):\n",
    "    def hook(model, input, output):\n",
    "        activations[name] = output.detach()\n",
    "    return hook\n",
    "\n",
    "model.projection.fcs[0].register_forward_hook(get_activation('hidden'))\n",
    "\n",
    "\n",
    "hiddens = []\n",
    "with torch.no_grad():\n",
    "    for x in data.flatten(0,1).split(128):\n",
    "        # x has shape (128, 256)\n",
    "        x = x.to(device) # (128, 1, 256)\n",
    "        print(x.shape)\n",
    "        model(x)\n",
    "        hidden = activations['hidden'] # (128, ...)\n",
    "        hidden = hidden.flatten(1) # (128, 64)\n",
    "        hiddens.append(hidden.cpu())\n",
    "hiddens = torch.cat(hiddens, dim=0) # (1000*131, 64)\n",
    "hiddens = hiddens.view(bs, nt, *hiddens.shape[1:]) # (1000, 131, 64)\n",
    "hiddens = hiddens.flatten(2)\n",
    "\n",
    "print(hiddens.shape)\n",
    "\n",
    "selected = torch.zeros(*hiddens.shape[0:2]).bool()\n",
    "selected[:10, :] = True\n",
    "\n",
    "selected_scattered = torch.zeros(*hiddens.shape[0:2]).bool()\n",
    "selected_scattered = selected_scattered.flatten()\n",
    "selected_scattered[torch.randperm(selected_scattered.shape[0])[:selected.sum()]] = True\n",
    "\n",
    "hiddens = hiddens.flatten(0,1) # (datasize*nt, nx)\n",
    "selected = selected.flatten(0,1) # (datasize*nt)aa\n",
    "\n",
    "\n",
    "# perform PCA on data\n",
    "from sklearn.decomposition import PCA\n",
    "pca = PCA(n_components=2)\n",
    "print(hiddens.shape)\n",
    "hiddens_transformed = pca.fit_transform(hiddens)\n",
    "print(hiddens_transformed.shape)\n"
   ]
  },
  {
   "cell_type": "code",
   "execution_count": 10,
   "metadata": {},
   "outputs": [
    {
     "data": {
      "image/png": "[encoded data removed]",
      "text/plain": [
       "<Figure size 1200x600 with 2 Axes>"
      ]
     },
     "metadata": {},
     "output_type": "display_data"
    }
   ],
   "source": [
    "import seaborn as sns\n",
    "import matplotlib.pyplot as plt\n",
    "import numpy as np\n",
    "from sklearn.decomposition import PCA\n",
    "import torch\n",
    "\n",
    "# Assuming the previous setup (data preparation and PCA) remains the same\n",
    "# Scatter plot using seaborn\n",
    "\n",
    "# Set seaborn style for prettier plots\n",
    "sns.set(style='whitegrid')\n",
    "\n",
    "# Create subplots\n",
    "fig, axes = plt.subplots(1, 2, figsize=(12, 6))  # 1 row, 2 columns\n",
    "\n",
    "# Calculate the limits based on the data (both x and y should have the same limits)\n",
    "min_limit = min(np.min(hiddens_transformed[:, 0]), np.min(hiddens_transformed[:, 1]))\n",
    "max_limit = max(np.max(hiddens_transformed[:, 0]), np.max(hiddens_transformed[:, 1]))\n",
    "\n",
    "# First plot: selected components in black, larger and with different transparency for blue\n",
    "sns.scatterplot(ax=axes[0], x=hiddens_transformed[:, 0], y=hiddens_transformed[:, 1], color='blue', s=5, alpha=0.4, label='All states from 1000 trajectories')  # smaller blue dots\n",
    "sns.scatterplot(ax=axes[0], x=hiddens_transformed[selected, 0], y=hiddens_transformed[selected, 1], color='black', s=50, edgecolor='white', linewidth=0.5, label='All states from 10 trajectories')  # larger black dots with white edge\n",
    "axes[0].set_aspect('equal', adjustable='box')\n",
    "axes[0].set_xlabel('PC1')\n",
    "axes[0].set_ylabel('PC2')\n",
    "axes[0].legend()\n",
    "axes[0].set_xlim(min_limit, max_limit)\n",
    "axes[0].set_ylim(min_limit, max_limit)\n",
    "\n",
    "# Second plot: selected_scattered components in red, larger with edge color\n",
    "sns.scatterplot(ax=axes[1], x=hiddens_transformed[:, 0], y=hiddens_transformed[:, 1], color='blue', s=5, alpha=0.4, label='All states from 1000 trajectories')  # smaller blue dots\n",
    "sns.scatterplot(ax=axes[1], x=hiddens_transformed[selected_scattered, 0], y=hiddens_transformed[selected_scattered, 1], color='red', s=50, edgecolor='white', linewidth=0.5, label='Randomly selected states')  # larger red dots with white edge\n",
    "axes[1].set_aspect('equal', adjustable='box')\n",
    "axes[1].set_xlabel('PC1')\n",
    "axes[1].set_ylabel('PC2')\n",
    "axes[1].legend()\n",
    "axes[1].set_xlim(min_limit, max_limit)\n",
    "axes[1].set_ylim(min_limit, max_limit)\n",
    "\n",
    "# Adjust layout\n",
    "plt.tight_layout()\n",
    "\n",
    "# Show the plots\n",
    "plt.show()\n"
   ]
  },
  {
   "cell_type": "code",
   "execution_count": null,
   "metadata": {},
   "outputs": [],
   "source": []
  }
 ],
 "metadata": {
  "kernelspec": {
   "display_name": "lupi",
   "language": "python",
   "name": "python3"
  },
  "language_info": {
   "codemirror_mode": {
    "name": "ipython",
    "version": 3
   },
   "file_extension": ".py",
   "mimetype": "text/x-python",
   "name": "python",
   "nbconvert_exporter": "python",
   "pygments_lexer": "ipython3",
   "version": "3.10.13"
  }
 },
 "nbformat": 4,
 "nbformat_minor": 2
}
