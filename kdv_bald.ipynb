{
 "cells": [
  {
   "cell_type": "code",
   "execution_count": 1,
   "metadata": {},
   "outputs": [],
   "source": [
    "import h5py\n",
    "import torch\n",
    "\n",
    "device = torch.device('cuda' if torch.cuda.is_available() else 'cpu')"
   ]
  },
  {
   "cell_type": "code",
   "execution_count": 2,
   "metadata": {},
   "outputs": [],
   "source": [
    "# with h5py.File('data/KdV_train_1024_default.h5', 'r') as f:\n",
    "#     traj_train = torch.tensor(f['train']['pde_140-256'][:], dtype=torch.float32)\n",
    "# with h5py.File('data/KdV_valid_1024_default.h5', 'r') as f:\n",
    "#     traj_valid = torch.tensor(f['valid']['pde_140-256'][:], dtype=torch.float32)\n",
    "# with h5py.File('data/KdV_test_4096_default.h5', 'r') as f:\n",
    "#     traj_test = torch.tensor(f['test']['pde_140-256'][:], dtype=torch.float32)\n",
    "\n",
    "class args:\n",
    "    equation = 'KdV'\n",
    "\n",
    "class Traj_dataset:\n",
    "    traj_train = None\n",
    "    traj_valid = None\n",
    "    traj_test = None\n",
    "\n",
    "with h5py.File(f'data/{args.equation}_train_1024_default.h5', 'r') as f:\n",
    "    Traj_dataset.traj_train = torch.tensor(f['train']['pde_140-256'][:], dtype=torch.float32)[:, :131]\n",
    "with h5py.File(f'data/{args.equation}_valid_1024_default.h5', 'r') as f:\n",
    "    Traj_dataset.traj_valid = torch.tensor(f['valid']['pde_140-256'][:], dtype=torch.float32)[:, :131]\n",
    "with h5py.File(f'data/{args.equation}_test_4096_default.h5', 'r') as f:\n",
    "    Traj_dataset.traj_test = torch.tensor(f['test']['pde_140-256'][:], dtype=torch.float32)[:, :131]"
   ]
  },
  {
   "cell_type": "code",
   "execution_count": 3,
   "metadata": {},
   "outputs": [],
   "source": [
    "from typing import Any, Dict, List, Tuple\n",
    "import torch.nn.functional as F\n",
    "\n",
    "class LpLoss(object):\n",
    "    def __init__(self, d=2, p=2, size_average=True, reduction=True):\n",
    "        super(LpLoss, self).__init__()\n",
    "\n",
    "        #Dimension and Lp-norm type are postive\n",
    "        assert d > 0 and p > 0\n",
    "\n",
    "        self.d = d\n",
    "        self.p = p\n",
    "        self.reduction = reduction\n",
    "        self.size_average = size_average\n",
    "\n",
    "    def abs(self, x, y):\n",
    "        num_examples = x.size()[0]\n",
    "\n",
    "        #Assume uniform mesh\n",
    "        h = 1.0 / (x.size()[1] - 1.0) if x.size()[1] > 1 else 1.0\n",
    "\n",
    "        all_norms = (h**(self.d/self.p))*torch.norm(x.view(num_examples,-1) - y.view(num_examples,-1), self.p, 1)\n",
    "\n",
    "        if self.reduction:\n",
    "            if self.size_average:\n",
    "                return torch.mean(all_norms)\n",
    "            else:\n",
    "                return torch.sum(all_norms)\n",
    "\n",
    "        return all_norms\n",
    "\n",
    "    def rel(self, x, y):\n",
    "        num_examples = x.size()[0]\n",
    "\n",
    "        diff_norms = torch.norm(x.reshape(num_examples,-1) - y.reshape(num_examples,-1), self.p, 1)\n",
    "        y_norms = torch.norm(y.reshape(num_examples,-1), self.p, 1)\n",
    "\n",
    "        if self.reduction:\n",
    "            if self.size_average:\n",
    "                return torch.mean(diff_norms/y_norms)\n",
    "            else:\n",
    "                return torch.sum(diff_norms/y_norms)\n",
    "\n",
    "        return diff_norms/y_norms\n",
    "\n",
    "    def __call__(self, x, y):\n",
    "        return self.rel(x, y)\n",
    "\n",
    "def compute_metrics(y, y_pred, d=1) :\n",
    "    L2_func = LpLoss(d=d, p=2, reduction=False)\n",
    "    if y.shape != y_pred.shape :\n",
    "        raise NotImplementedError\n",
    "    l2 = L2_func.abs(y, y_pred) # [bs]\n",
    "    relative_l2 = L2_func.rel(y, y_pred) # [bs]\n",
    "    mse = F.mse_loss(y_pred, y, reduction='none') # [bs]\n",
    "    mse = mse.mean(dim=tuple(range(1, mse.ndim)))\n",
    "    return l2, relative_l2, mse\n"
   ]
  },
  {
   "cell_type": "code",
   "execution_count": 4,
   "metadata": {},
   "outputs": [],
   "source": [
    "epochs = 500\n",
    "lr = 0.001\n",
    "batch_size = 32"
   ]
  },
  {
   "cell_type": "code",
   "execution_count": 6,
   "metadata": {},
   "outputs": [],
   "source": [
    "import sys\n",
    "sys.path.append('/mnt/home/yegonkim/.local/lib/python3.10/site-packages' )"
   ]
  },
  {
   "cell_type": "code",
   "execution_count": 8,
   "metadata": {},
   "outputs": [
    {
     "ename": "AttributeError",
     "evalue": "module 'wandb.sdk' has no attribute 'lib'",
     "output_type": "error",
     "traceback": [
      "\u001b[0;31m---------------------------------------------------------------------------\u001b[0m",
      "\u001b[0;31mAttributeError\u001b[0m                            Traceback (most recent call last)",
      "\u001b[0;32m/tmp/ipykernel_4638/1681046366.py\u001b[0m in \u001b[0;36m<cell line: 3>\u001b[0;34m()\u001b[0m\n\u001b[1;32m      1\u001b[0m \u001b[0;32mimport\u001b[0m \u001b[0mtorch\u001b[0m\u001b[0;34m\u001b[0m\u001b[0;34m\u001b[0m\u001b[0m\n\u001b[1;32m      2\u001b[0m \u001b[0;32mimport\u001b[0m \u001b[0mnumpy\u001b[0m \u001b[0;32mas\u001b[0m \u001b[0mnp\u001b[0m\u001b[0;34m\u001b[0m\u001b[0;34m\u001b[0m\u001b[0m\n\u001b[0;32m----> 3\u001b[0;31m \u001b[0;32mfrom\u001b[0m \u001b[0mneuralop\u001b[0m\u001b[0;34m.\u001b[0m\u001b[0mmodels\u001b[0m \u001b[0;32mimport\u001b[0m \u001b[0mFNO\u001b[0m\u001b[0;34m\u001b[0m\u001b[0;34m\u001b[0m\u001b[0m\n\u001b[0m\u001b[1;32m      4\u001b[0m \u001b[0;32mfrom\u001b[0m \u001b[0mtqdm\u001b[0m \u001b[0;32mimport\u001b[0m \u001b[0mtqdm\u001b[0m\u001b[0;34m\u001b[0m\u001b[0;34m\u001b[0m\u001b[0m\n\u001b[1;32m      5\u001b[0m \u001b[0;34m\u001b[0m\u001b[0m\n",
      "\u001b[0;32m/mnt/home/yegonkim/miniconda3/envs/lupi/lib/python3.10/site-packages/neuralop/__init__.py\u001b[0m in \u001b[0;36m<module>\u001b[0;34m\u001b[0m\n\u001b[1;32m      1\u001b[0m \u001b[0m__version__\u001b[0m \u001b[0;34m=\u001b[0m \u001b[0;34m'0.3.0'\u001b[0m\u001b[0;34m\u001b[0m\u001b[0;34m\u001b[0m\u001b[0m\n\u001b[1;32m      2\u001b[0m \u001b[0;34m\u001b[0m\u001b[0m\n\u001b[0;32m----> 3\u001b[0;31m \u001b[0;32mfrom\u001b[0m \u001b[0;34m.\u001b[0m\u001b[0mmodels\u001b[0m \u001b[0;32mimport\u001b[0m \u001b[0mTFNO3d\u001b[0m\u001b[0;34m,\u001b[0m \u001b[0mTFNO2d\u001b[0m\u001b[0;34m,\u001b[0m \u001b[0mTFNO1d\u001b[0m\u001b[0;34m,\u001b[0m \u001b[0mTFNO\u001b[0m\u001b[0;34m\u001b[0m\u001b[0;34m\u001b[0m\u001b[0m\n\u001b[0m\u001b[1;32m      4\u001b[0m \u001b[0;32mfrom\u001b[0m \u001b[0;34m.\u001b[0m\u001b[0mmodels\u001b[0m \u001b[0;32mimport\u001b[0m \u001b[0mget_model\u001b[0m\u001b[0;34m\u001b[0m\u001b[0;34m\u001b[0m\u001b[0m\n\u001b[1;32m      5\u001b[0m \u001b[0;32mfrom\u001b[0m \u001b[0;34m.\u001b[0m \u001b[0;32mimport\u001b[0m \u001b[0mdatasets\u001b[0m\u001b[0;34m\u001b[0m\u001b[0;34m\u001b[0m\u001b[0m\n",
      "\u001b[0;32m/mnt/home/yegonkim/miniconda3/envs/lupi/lib/python3.10/site-packages/neuralop/models/__init__.py\u001b[0m in \u001b[0;36m<module>\u001b[0;34m\u001b[0m\n\u001b[0;32m----> 1\u001b[0;31m \u001b[0;32mfrom\u001b[0m \u001b[0;34m.\u001b[0m\u001b[0mfno\u001b[0m \u001b[0;32mimport\u001b[0m \u001b[0mTFNO\u001b[0m\u001b[0;34m,\u001b[0m \u001b[0mTFNO1d\u001b[0m\u001b[0;34m,\u001b[0m \u001b[0mTFNO2d\u001b[0m\u001b[0;34m,\u001b[0m \u001b[0mTFNO3d\u001b[0m\u001b[0;34m\u001b[0m\u001b[0;34m\u001b[0m\u001b[0m\n\u001b[0m\u001b[1;32m      2\u001b[0m \u001b[0;32mfrom\u001b[0m \u001b[0;34m.\u001b[0m\u001b[0mfno\u001b[0m \u001b[0;32mimport\u001b[0m \u001b[0mFNO\u001b[0m\u001b[0;34m,\u001b[0m \u001b[0mFNO1d\u001b[0m\u001b[0;34m,\u001b[0m \u001b[0mFNO2d\u001b[0m\u001b[0;34m,\u001b[0m \u001b[0mFNO3d\u001b[0m\u001b[0;34m\u001b[0m\u001b[0;34m\u001b[0m\u001b[0m\n\u001b[1;32m      3\u001b[0m \u001b[0;32mfrom\u001b[0m \u001b[0;34m.\u001b[0m\u001b[0mfno\u001b[0m \u001b[0;32mimport\u001b[0m \u001b[0mSFNO\u001b[0m\u001b[0;34m\u001b[0m\u001b[0;34m\u001b[0m\u001b[0m\n\u001b[1;32m      4\u001b[0m \u001b[0;32mfrom\u001b[0m \u001b[0;34m.\u001b[0m\u001b[0muno\u001b[0m \u001b[0;32mimport\u001b[0m \u001b[0mUNO\u001b[0m\u001b[0;34m\u001b[0m\u001b[0;34m\u001b[0m\u001b[0m\n\u001b[1;32m      5\u001b[0m \u001b[0;31m# from .fnogno import FNOGNO\u001b[0m\u001b[0;34m\u001b[0m\u001b[0;34m\u001b[0m\u001b[0m\n",
      "\u001b[0;32m/mnt/home/yegonkim/miniconda3/envs/lupi/lib/python3.10/site-packages/neuralop/models/fno.py\u001b[0m in \u001b[0;36m<module>\u001b[0;34m\u001b[0m\n\u001b[1;32m      4\u001b[0m \u001b[0;32mimport\u001b[0m \u001b[0mtorch\u001b[0m\u001b[0;34m.\u001b[0m\u001b[0mnn\u001b[0m\u001b[0;34m.\u001b[0m\u001b[0mfunctional\u001b[0m \u001b[0;32mas\u001b[0m \u001b[0mF\u001b[0m\u001b[0;34m\u001b[0m\u001b[0;34m\u001b[0m\u001b[0m\n\u001b[1;32m      5\u001b[0m \u001b[0;34m\u001b[0m\u001b[0m\n\u001b[0;32m----> 6\u001b[0;31m \u001b[0;32mfrom\u001b[0m \u001b[0;34m.\u001b[0m\u001b[0;34m.\u001b[0m\u001b[0mlayers\u001b[0m\u001b[0;34m.\u001b[0m\u001b[0mspectral_convolution\u001b[0m \u001b[0;32mimport\u001b[0m \u001b[0mSpectralConv\u001b[0m\u001b[0;34m\u001b[0m\u001b[0;34m\u001b[0m\u001b[0m\n\u001b[0m\u001b[1;32m      7\u001b[0m \u001b[0;32mfrom\u001b[0m \u001b[0;34m.\u001b[0m\u001b[0;34m.\u001b[0m\u001b[0mlayers\u001b[0m\u001b[0;34m.\u001b[0m\u001b[0mspherical_convolution\u001b[0m \u001b[0;32mimport\u001b[0m \u001b[0mSphericalConv\u001b[0m\u001b[0;34m\u001b[0m\u001b[0;34m\u001b[0m\u001b[0m\n\u001b[1;32m      8\u001b[0m \u001b[0;32mfrom\u001b[0m \u001b[0;34m.\u001b[0m\u001b[0;34m.\u001b[0m\u001b[0mlayers\u001b[0m\u001b[0;34m.\u001b[0m\u001b[0mpadding\u001b[0m \u001b[0;32mimport\u001b[0m \u001b[0mDomainPadding\u001b[0m\u001b[0;34m\u001b[0m\u001b[0;34m\u001b[0m\u001b[0m\n",
      "\u001b[0;32m/mnt/home/yegonkim/miniconda3/envs/lupi/lib/python3.10/site-packages/neuralop/layers/spectral_convolution.py\u001b[0m in \u001b[0;36m<module>\u001b[0;34m\u001b[0m\n\u001b[1;32m      1\u001b[0m \u001b[0;32mfrom\u001b[0m \u001b[0mtyping\u001b[0m \u001b[0;32mimport\u001b[0m \u001b[0mList\u001b[0m\u001b[0;34m,\u001b[0m \u001b[0mOptional\u001b[0m\u001b[0;34m,\u001b[0m \u001b[0mTuple\u001b[0m\u001b[0;34m,\u001b[0m \u001b[0mUnion\u001b[0m\u001b[0;34m\u001b[0m\u001b[0;34m\u001b[0m\u001b[0m\n\u001b[1;32m      2\u001b[0m \u001b[0;34m\u001b[0m\u001b[0m\n\u001b[0;32m----> 3\u001b[0;31m \u001b[0;32mfrom\u001b[0m \u001b[0;34m.\u001b[0m\u001b[0;34m.\u001b[0m\u001b[0mutils\u001b[0m \u001b[0;32mimport\u001b[0m \u001b[0mvalidate_scaling_factor\u001b[0m\u001b[0;34m\u001b[0m\u001b[0;34m\u001b[0m\u001b[0m\n\u001b[0m\u001b[1;32m      4\u001b[0m \u001b[0;34m\u001b[0m\u001b[0m\n\u001b[1;32m      5\u001b[0m \u001b[0;32mimport\u001b[0m \u001b[0mtorch\u001b[0m\u001b[0;34m\u001b[0m\u001b[0;34m\u001b[0m\u001b[0m\n",
      "\u001b[0;32m/mnt/home/yegonkim/miniconda3/envs/lupi/lib/python3.10/site-packages/neuralop/utils.py\u001b[0m in \u001b[0;36m<module>\u001b[0;34m\u001b[0m\n\u001b[1;32m      2\u001b[0m \u001b[0;32mfrom\u001b[0m \u001b[0mmath\u001b[0m \u001b[0;32mimport\u001b[0m \u001b[0mprod\u001b[0m\u001b[0;34m\u001b[0m\u001b[0;34m\u001b[0m\u001b[0m\n\u001b[1;32m      3\u001b[0m \u001b[0;32mimport\u001b[0m \u001b[0mtorch\u001b[0m\u001b[0;34m\u001b[0m\u001b[0;34m\u001b[0m\u001b[0m\n\u001b[0;32m----> 4\u001b[0;31m \u001b[0;32mimport\u001b[0m \u001b[0mwandb\u001b[0m\u001b[0;34m\u001b[0m\u001b[0;34m\u001b[0m\u001b[0m\n\u001b[0m\u001b[1;32m      5\u001b[0m \u001b[0;32mimport\u001b[0m \u001b[0mwarnings\u001b[0m\u001b[0;34m\u001b[0m\u001b[0;34m\u001b[0m\u001b[0m\n\u001b[1;32m      6\u001b[0m \u001b[0;34m\u001b[0m\u001b[0m\n",
      "\u001b[0;32m/mnt/home/yegonkim/miniconda3/envs/lupi/lib/python3.10/site-packages/wandb/__init__.py\u001b[0m in \u001b[0;36m<module>\u001b[0;34m\u001b[0m\n\u001b[1;32m     29\u001b[0m \u001b[0;32mimport\u001b[0m \u001b[0mwandb\u001b[0m\u001b[0;34m\u001b[0m\u001b[0;34m\u001b[0m\u001b[0m\n\u001b[1;32m     30\u001b[0m \u001b[0;34m\u001b[0m\u001b[0m\n\u001b[0;32m---> 31\u001b[0;31m \u001b[0mwandb\u001b[0m\u001b[0;34m.\u001b[0m\u001b[0mwandb_lib\u001b[0m \u001b[0;34m=\u001b[0m \u001b[0mwandb_sdk\u001b[0m\u001b[0;34m.\u001b[0m\u001b[0mlib\u001b[0m  \u001b[0;31m# type: ignore\u001b[0m\u001b[0;34m\u001b[0m\u001b[0;34m\u001b[0m\u001b[0m\n\u001b[0m\u001b[1;32m     32\u001b[0m \u001b[0;34m\u001b[0m\u001b[0m\n\u001b[1;32m     33\u001b[0m \u001b[0minit\u001b[0m \u001b[0;34m=\u001b[0m \u001b[0mwandb_sdk\u001b[0m\u001b[0;34m.\u001b[0m\u001b[0minit\u001b[0m\u001b[0;34m\u001b[0m\u001b[0;34m\u001b[0m\u001b[0m\n",
      "\u001b[0;31mAttributeError\u001b[0m: module 'wandb.sdk' has no attribute 'lib'"
     ]
    }
   ],
   "source": [
    "import torch\n",
    "import numpy as np\n",
    "from neuralop.models import FNO\n",
    "from tqdm import tqdm\n",
    "\n",
    "\n",
    "def experiment_direct(initial_datasize=256, batch_acquire=32, num_acquire=1, device='cpu', **cfg):\n",
    "\n",
    "    def train(X_train, Y_train):\n",
    "        model = FNO(n_modes=(256, ), hidden_channels=64,\n",
    "                        in_channels=1, out_channels=1)\n",
    "\n",
    "        model = model.to(device)\n",
    "\n",
    "        model.train()\n",
    "\n",
    "        optimizer = torch.optim.Adam(model.parameters(), lr=lr)\n",
    "        scheduler = torch.optim.lr_scheduler.CosineAnnealingLR(optimizer, epochs)\n",
    "        criterion = torch.nn.MSELoss()\n",
    "\n",
    "        dataset = torch.utils.data.TensorDataset(X_train, Y_train)\n",
    "        dataloader = torch.utils.data.DataLoader(dataset, batch_size=batch_size, shuffle=True)\n",
    "\n",
    "        for epoch in range(epochs):\n",
    "            for x, y in dataloader:\n",
    "                x, y = x.to(device), y.to(device)\n",
    "                optimizer.zero_grad()\n",
    "                y_pred = model(x)\n",
    "                loss = criterion(y_pred, y)\n",
    "                loss.backward()\n",
    "                optimizer.step()\n",
    "            scheduler.step()\n",
    "        \n",
    "        return model\n",
    "\n",
    "    def test(model):\n",
    "        X_test = Traj_dataset.traj_test[:,0,:].unsqueeze(1)\n",
    "        Y_test = Traj_dataset.traj_test[:,-1,:].unsqueeze(1)\n",
    "\n",
    "        testset = torch.utils.data.TensorDataset(X_test, Y_test)\n",
    "        testloader = torch.utils.data.DataLoader(testset, batch_size=batch_size, shuffle=False)\n",
    "\n",
    "        model.eval()\n",
    "        \n",
    "        Y_test_pred = []\n",
    "        with torch.no_grad():\n",
    "            for x, y in testloader:\n",
    "                x, y = x.to(device), y.to(device)\n",
    "                y_pred = model(x)\n",
    "                Y_test_pred.append(y_pred)\n",
    "            Y_test_pred = torch.cat(Y_test_pred, dim=0).to(Y_test.device)\n",
    "        \n",
    "        metrics = compute_metrics(Y_test, Y_test_pred, d=1)\n",
    "        return metrics\n",
    "\n",
    "    def select_var(ensemble, X_pool, batch_acquire):\n",
    "        for model in ensemble:\n",
    "            model.eval()\n",
    "        with torch.no_grad():\n",
    "            y_preds = [model(X_pool) for model in ensemble]\n",
    "            y_preds = torch.stack(y_preds, dim=0) # [ensemble_size, pool_size, ...]\n",
    "            y_preds_var = y_preds.var(dim=0) # [pool_size, ...]\n",
    "            y_preds_var = y_preds_var.mean(dim=tuple(range(1, y_preds_var.ndim))) # [pool_size]\n",
    "        new_idxs = torch.argsort(y_preds_var, descending=True)[:batch_acquire]\n",
    "        return new_idxs\n",
    "\n",
    "    ensemble_size = cfg.get('ensemble_size', 5)\n",
    "\n",
    "    results = {'datasize': [], 'rel_l2': []}\n",
    "\n",
    "    X = Traj_dataset.traj_train[:,0].unsqueeze(1)\n",
    "    Y = Traj_dataset.traj_train[:,-1].unsqueeze(1)\n",
    "\n",
    "    train_idxs = torch.arange(initial_datasize, device=device)\n",
    "    pool_idxs = torch.arange(initial_datasize, X.shape[0], device=device)\n",
    "\n",
    "    X_train = X[train_idxs]\n",
    "    Y_train = Y[train_idxs]\n",
    "\n",
    "    X_pool = X[pool_idxs]\n",
    "\n",
    "    ensemble = [train(X_train, Y_train) for _ in range(ensemble_size)]\n",
    "\n",
    "    results['datasize'].append(train_idxs.shape[0])\n",
    "    rel_l2_list = [test(model)[1].mean().item() for model in ensemble]\n",
    "    results['rel_l2'].append(rel_l2_list)\n",
    "\n",
    "    for i in tqdm(range(num_acquire)):\n",
    "        new_idxs = select_var(ensemble, X_pool, batch_acquire)\n",
    "\n",
    "        new_idxs = new_idxs.to(device)\n",
    "        # print(f'{len(new_idxs)=}')\n",
    "        logical_new_idxs = torch.zeros(pool_idxs.shape[-1], dtype=torch.bool, device=device)\n",
    "        logical_new_idxs[new_idxs] = True\n",
    "        train_idxs = torch.cat([train_idxs, pool_idxs[logical_new_idxs]], dim=-1)\n",
    "        pool_idxs = pool_idxs[~logical_new_idxs]\n",
    "\n",
    "        X_train = X[train_idxs]\n",
    "        Y_train = Y[train_idxs]\n",
    "\n",
    "        X_pool = X[pool_idxs]\n",
    "\n",
    "        ensemble = [train(X_train, Y_train) for _ in range(ensemble_size)]\n",
    "\n",
    "        results['datasize'].append(train_idxs.shape[0])\n",
    "        rel_l2_list = [test(model)[1].mean().item() for model in ensemble]\n",
    "        results['rel_l2'].append(rel_l2_list)\n",
    "    \n",
    "    return results\n",
    "\n",
    "results = experiment_direct(initial_datasize=256, batch_acquire=32, num_acquire=1, device=device)"
   ]
  },
  {
   "cell_type": "code",
   "execution_count": 13,
   "metadata": {},
   "outputs": [
    {
     "name": "stderr",
     "output_type": "stream",
     "text": [
      "100%|██████████| 100/100 [00:00<00:00, 153.56it/s]\n",
      "100%|██████████| 100/100 [00:04<00:00, 22.41it/s]\n",
      "100%|██████████| 100/100 [00:22<00:00,  4.46it/s]\n",
      "100%|██████████| 3/3 [00:28<00:00,  9.66s/it]\n"
     ]
    },
    {
     "name": "stdout",
     "output_type": "stream",
     "text": [
      "0.44473329186439514\n"
     ]
    },
    {
     "data": {
      "image/png": "[encoded data removed]",
      "text/plain": [
       "<Figure size 640x480 with 1 Axes>"
      ]
     },
     "metadata": {},
     "output_type": "display_data"
    }
   ],
   "source": [
    "import torch\n",
    "import numpy as np\n",
    "from neuralop.models import FNO\n",
    "from tqdm import tqdm\n",
    "\n",
    "\n",
    "\n",
    "def experiment_2(datasize=1024, device='cpu'):\n",
    "\n",
    "    model = FNO(n_modes=(256, ), hidden_channels=64,\n",
    "                    in_channels=1, out_channels=14)\n",
    "\n",
    "    model = model.to(device)\n",
    "\n",
    "    model.train()\n",
    "\n",
    "    X_train = traj_train[:datasize,0].unsqueeze(1)\n",
    "    Y_train = traj_train[:datasize,9::10]\n",
    "\n",
    "    X_test = traj_test[:,0,:].unsqueeze(1)\n",
    "    Y_test = traj_test[:,-1,:].unsqueeze(1)\n",
    "\n",
    "\n",
    "    epochs = 100\n",
    "    lr = 0.001\n",
    "    bs = 32\n",
    "    optimizer = torch.optim.Adam(model.parameters(), lr=lr)\n",
    "    scheduler = torch.optim.lr_scheduler.CosineAnnealingLR(optimizer, epochs)\n",
    "    criterion = torch.nn.MSELoss()\n",
    "\n",
    "    dataset = torch.utils.data.TensorDataset(X_train, Y_train)\n",
    "    dataloader = torch.utils.data.DataLoader(dataset, batch_size=bs, shuffle=True)\n",
    "\n",
    "    testset = torch.utils.data.TensorDataset(X_test, Y_test)\n",
    "    testloader = torch.utils.data.DataLoader(testset, batch_size=bs, shuffle=False)\n",
    "\n",
    "    for epoch in tqdm(range(epochs)):\n",
    "        for x, y in dataloader:\n",
    "            x, y = x.to(device), y.to(device)\n",
    "            optimizer.zero_grad()\n",
    "            y_pred = model(x)\n",
    "            loss = criterion(y_pred, y)\n",
    "            loss.backward()\n",
    "            optimizer.step()\n",
    "        scheduler.step()\n",
    "\n",
    "\n",
    "    model.eval()\n",
    "    \n",
    "    Y_test_pred = []\n",
    "    with torch.no_grad():\n",
    "        for x, y in testloader:\n",
    "            x, y = x.to(device), y.to(device)\n",
    "            y_pred = model(x)[:,-1:]\n",
    "            Y_test_pred.append(y_pred)\n",
    "        Y_test_pred = torch.cat(Y_test_pred, dim=0).to(Y_test.device)\n",
    "    \n",
    "    metrics = compute_metrics(Y_test, Y_test_pred, d=1)\n",
    "\n",
    "    return metrics\n",
    "\n",
    "datasize_list = 2 ** np.linspace(5,10,3)\n",
    "# datasize_list = [1024]\n",
    "rel_l2_list = []\n",
    "for datasize in tqdm(datasize_list):\n",
    "    metrics = experiment_2(datasize=int(datasize), device=device)\n",
    "    rel_l2_list.append(metrics[1].mean().item())\n",
    "    # print(metrics)\n",
    "    # loss_list.append(loss.item())\n",
    "\n",
    "import matplotlib.pyplot as plt\n",
    "plt.plot(datasize_list, rel_l2_list, 'o-')\n",
    "plt.xscale('log')\n",
    "plt.yscale('log')\n",
    "print(rel_l2_list)\n"
   ]
  },
  {
   "cell_type": "code",
   "execution_count": 14,
   "metadata": {},
   "outputs": [
    {
     "name": "stderr",
     "output_type": "stream",
     "text": [
      "100%|██████████| 100/100 [00:01<00:00, 96.90it/s]\n",
      "100%|██████████| 100/100 [00:06<00:00, 16.54it/s]\n",
      "100%|██████████| 100/100 [00:40<00:00,  2.48it/s]\n",
      "100%|██████████| 3/3 [00:48<00:00, 16.28s/it]\n"
     ]
    },
    {
     "name": "stdout",
     "output_type": "stream",
     "text": [
      "0.4734871983528137\n"
     ]
    },
    {
     "data": {
      "image/png": "[encoded data removed]",
      "text/plain": [
       "<Figure size 640x480 with 1 Axes>"
      ]
     },
     "metadata": {},
     "output_type": "display_data"
    }
   ],
   "source": [
    "import torch\n",
    "import numpy as np\n",
    "from neuralop.models import FNO\n",
    "from tqdm import tqdm\n",
    "\n",
    "\n",
    "\n",
    "def experiment_3(datasize=1024, device='cpu'):\n",
    "\n",
    "    model = FNO(n_modes=(256, ), hidden_channels=64,\n",
    "                    in_channels=1, out_channels=140)\n",
    "\n",
    "    model = model.to(device)\n",
    "\n",
    "    model.train()\n",
    "\n",
    "    X_train = traj_train[:datasize,0].unsqueeze(1)\n",
    "    Y_train = traj_train[:datasize,:]\n",
    "\n",
    "    X_test = traj_test[:,0,:].unsqueeze(1)\n",
    "    Y_test = traj_test[:,-1,:].unsqueeze(1)\n",
    "\n",
    "\n",
    "    epochs = 100\n",
    "    lr = 0.001\n",
    "    bs = 32\n",
    "    optimizer = torch.optim.Adam(model.parameters(), lr=lr)\n",
    "    scheduler = torch.optim.lr_scheduler.CosineAnnealingLR(optimizer, epochs)\n",
    "    criterion = torch.nn.MSELoss()\n",
    "\n",
    "    dataset = torch.utils.data.TensorDataset(X_train, Y_train)\n",
    "    dataloader = torch.utils.data.DataLoader(dataset, batch_size=bs, shuffle=True)\n",
    "\n",
    "    testset = torch.utils.data.TensorDataset(X_test, Y_test)\n",
    "    testloader = torch.utils.data.DataLoader(testset, batch_size=bs, shuffle=False)\n",
    "\n",
    "    for epoch in tqdm(range(epochs)):\n",
    "        for x, y in dataloader:\n",
    "            x, y = x.to(device), y.to(device)\n",
    "            optimizer.zero_grad()\n",
    "            y_pred = model(x)\n",
    "            loss = criterion(y_pred, y)\n",
    "            loss.backward()\n",
    "            optimizer.step()\n",
    "        scheduler.step()\n",
    "\n",
    "\n",
    "    model.eval()\n",
    "    \n",
    "    Y_test_pred = []\n",
    "    with torch.no_grad():\n",
    "        for x, y in testloader:\n",
    "            x, y = x.to(device), y.to(device)\n",
    "            y_pred = model(x)[:,-1:]\n",
    "            Y_test_pred.append(y_pred)\n",
    "        Y_test_pred = torch.cat(Y_test_pred, dim=0).to(Y_test.device)\n",
    "    \n",
    "    metrics = compute_metrics(Y_test, Y_test_pred, d=1)\n",
    "\n",
    "    return metrics\n",
    "\n",
    "datasize_list = 2 ** np.linspace(5,10,3)\n",
    "# datasize_list = [1024]\n",
    "rel_l2_list = []\n",
    "for datasize in tqdm(datasize_list):\n",
    "    metrics = experiment_3(datasize=int(datasize), device=device)\n",
    "    rel_l2_list.append(metrics[1].mean().item())\n",
    "    # print(metrics)\n",
    "    # loss_list.append(loss.item())\n",
    "\n",
    "import matplotlib.pyplot as plt\n",
    "plt.plot(datasize_list, rel_l2_list, 'o-')\n",
    "plt.xscale('log')\n",
    "plt.yscale('log')\n",
    "print(rel_l2_list)\n"
   ]
  },
  {
   "cell_type": "code",
   "execution_count": 8,
   "metadata": {},
   "outputs": [
    {
     "name": "stderr",
     "output_type": "stream",
     "text": [
      "100%|██████████| 500/500 [00:24<00:00, 20.55it/s]\n",
      "100%|██████████| 500/500 [00:46<00:00, 10.77it/s]\n",
      "100%|██████████| 500/500 [01:33<00:00,  5.35it/s]\n",
      "100%|██████████| 500/500 [03:04<00:00,  2.72it/s]\n",
      "100%|██████████| 4/4 [05:49<00:00, 87.44s/it] \n"
     ]
    },
    {
     "name": "stdout",
     "output_type": "stream",
     "text": [
      "[1.0127394199371338, 0.7636476755142212, 0.47838324308395386, 0.2835148870944977]\n"
     ]
    },
    {
     "data": {
      "image/png": "[encoded data removed]",
      "text/plain": [
       "<Figure size 640x480 with 1 Axes>"
      ]
     },
     "metadata": {},
     "output_type": "display_data"
    }
   ],
   "source": [
    "import torch\n",
    "import numpy as np\n",
    "from neuralop.models import FNO\n",
    "from tqdm import tqdm\n",
    "\n",
    "\n",
    "\n",
    "def experiment_4(datasize=1024, device='cpu'):\n",
    "\n",
    "    model = FNO(n_modes=(256, ), hidden_channels=64,\n",
    "                    in_channels=1, out_channels=1)\n",
    "\n",
    "    model = model.to(device)\n",
    "\n",
    "    model.train()\n",
    "\n",
    "    traj = torch.cat([traj_train, traj_valid], dim=0)\n",
    "\n",
    "    X_train = traj[:datasize,0].unsqueeze(1)\n",
    "    Y_train = traj[:datasize,-1].unsqueeze(1)\n",
    "\n",
    "    X_test = traj_test[:,0,:].unsqueeze(1)\n",
    "    Y_test = traj_test[:,-1,:].unsqueeze(1)\n",
    "\n",
    "\n",
    "    epochs = 500\n",
    "    lr = 0.001\n",
    "    bs = 32\n",
    "    optimizer = torch.optim.Adam(model.parameters(), lr=lr)\n",
    "    scheduler = torch.optim.lr_scheduler.CosineAnnealingLR(optimizer, epochs)\n",
    "    criterion = torch.nn.MSELoss()\n",
    "\n",
    "    dataset = torch.utils.data.TensorDataset(X_train, Y_train)\n",
    "    dataloader = torch.utils.data.DataLoader(dataset, batch_size=bs, shuffle=True)\n",
    "\n",
    "    testset = torch.utils.data.TensorDataset(X_test, Y_test)\n",
    "    testloader = torch.utils.data.DataLoader(testset, batch_size=bs, shuffle=False)\n",
    "\n",
    "    for epoch in tqdm(range(epochs)):\n",
    "        for x, y in dataloader:\n",
    "            x, y = x.to(device), y.to(device)\n",
    "            optimizer.zero_grad()\n",
    "            y_pred = model(x)\n",
    "            loss = criterion(y_pred, y)\n",
    "            loss.backward()\n",
    "            optimizer.step()\n",
    "        scheduler.step()\n",
    "\n",
    "\n",
    "    model.eval()\n",
    "    \n",
    "    Y_test_pred = []\n",
    "    with torch.no_grad():\n",
    "        for x, y in testloader:\n",
    "            x, y = x.to(device), y.to(device)\n",
    "            y_pred = model(x)\n",
    "            Y_test_pred.append(y_pred)\n",
    "        Y_test_pred = torch.cat(Y_test_pred, dim=0).to(Y_test.device)\n",
    "    \n",
    "    metrics = compute_metrics(Y_test, Y_test_pred, d=1)\n",
    "\n",
    "    return metrics\n",
    "\n",
    "\n",
    "datasize_list = 2 ** np.linspace(8,11,4)\n",
    "# datasize_list = [1024]\n",
    "rel_l2_list = []\n",
    "for datasize in tqdm(datasize_list):\n",
    "    metrics = experiment_4(datasize=int(datasize), device=device)\n",
    "    rel_l2_list.append(metrics[1].mean().item())\n",
    "    # print(metrics)\n",
    "    # loss_list.append(loss.item())\n",
    "\n",
    "import matplotlib.pyplot as plt\n",
    "plt.plot(datasize_list, rel_l2_list, 'o-')\n",
    "plt.xscale('log')\n",
    "plt.yscale('log')\n",
    "print(rel_l2_list)\n"
   ]
  },
  {
   "cell_type": "code",
   "execution_count": 19,
   "metadata": {},
   "outputs": [
    {
     "name": "stderr",
     "output_type": "stream",
     "text": [
      "100%|██████████| 500/500 [00:58<00:00,  8.61it/s]\n",
      "100%|██████████| 500/500 [01:56<00:00,  4.29it/s]\n",
      "100%|██████████| 500/500 [03:46<00:00,  2.21it/s]\n",
      "100%|██████████| 3/3 [06:42<00:00, 134.05s/it]\n"
     ]
    },
    {
     "name": "stdout",
     "output_type": "stream",
     "text": [
      "0.23067039251327515\n"
     ]
    },
    {
     "data": {
      "image/png": "[encoded data removed]",
      "text/plain": [
       "<Figure size 640x480 with 1 Axes>"
      ]
     },
     "metadata": {},
     "output_type": "display_data"
    }
   ],
   "source": [
    "import torch\n",
    "import numpy as np\n",
    "from neuralop.models import FNO\n",
    "from tqdm import tqdm\n",
    "\n",
    "\n",
    "\n",
    "def experiment_5(datasize=1024, device='cpu'):\n",
    "\n",
    "    model = FNO(n_modes=(256, ), hidden_channels=64,\n",
    "                    in_channels=1, out_channels=14)\n",
    "\n",
    "    model = model.to(device)\n",
    "\n",
    "    model.train()\n",
    "\n",
    "    traj = torch.cat([traj_train, traj_valid], dim=0)\n",
    "\n",
    "    X_train = traj[:datasize,0].unsqueeze(1)\n",
    "    Y_train = traj[:datasize,0::10]\n",
    "\n",
    "    X_test = traj_test[:,0,:].unsqueeze(1)\n",
    "    Y_test = traj_test[:,-1,:].unsqueeze(1)\n",
    "\n",
    "\n",
    "    epochs = 500\n",
    "    lr = 0.001\n",
    "    bs = 32\n",
    "    optimizer = torch.optim.Adam(model.parameters(), lr=lr)\n",
    "    scheduler = torch.optim.lr_scheduler.CosineAnnealingLR(optimizer, epochs)\n",
    "    criterion = torch.nn.MSELoss()\n",
    "\n",
    "    dataset = torch.utils.data.TensorDataset(X_train, Y_train)\n",
    "    dataloader = torch.utils.data.DataLoader(dataset, batch_size=bs, shuffle=True)\n",
    "\n",
    "    testset = torch.utils.data.TensorDataset(X_test, Y_test)\n",
    "    testloader = torch.utils.data.DataLoader(testset, batch_size=bs, shuffle=False)\n",
    "\n",
    "    for epoch in tqdm(range(epochs)):\n",
    "        for x, y in dataloader:\n",
    "            x, y = x.to(device), y.to(device)\n",
    "            optimizer.zero_grad()\n",
    "            y_pred = model(x)\n",
    "            loss = criterion(y_pred, y)\n",
    "            loss.backward()\n",
    "            optimizer.step()\n",
    "        scheduler.step()\n",
    "\n",
    "\n",
    "    model.eval()\n",
    "    \n",
    "    Y_test_pred = []\n",
    "    with torch.no_grad():\n",
    "        for x, y in testloader:\n",
    "            x, y = x.to(device), y.to(device)\n",
    "            y_pred = model(x)[:,-1:]\n",
    "            Y_test_pred.append(y_pred)\n",
    "        Y_test_pred = torch.cat(Y_test_pred, dim=0).to(Y_test.device)\n",
    "    \n",
    "    metrics = compute_metrics(Y_test, Y_test_pred, d=1)\n",
    "\n",
    "    return metrics\n",
    "\n",
    "datasize_list = 2 ** np.linspace(8,11,4)\n",
    "# datasize_list = [1024]\n",
    "rel_l2_list = []\n",
    "for datasize in tqdm(datasize_list):\n",
    "    metrics = experiment_5(datasize=int(datasize), device=device)\n",
    "    rel_l2_list.append(metrics[1].mean().item())\n",
    "    # print(metrics)\n",
    "    # loss_list.append(loss.item())\n",
    "\n",
    "import matplotlib.pyplot as plt\n",
    "plt.plot(datasize_list, rel_l2_list, 'o-')\n",
    "plt.xscale('log')\n",
    "plt.yscale('log')\n",
    "print(rel_l2_list)\n"
   ]
  },
  {
   "cell_type": "code",
   "execution_count": 22,
   "metadata": {},
   "outputs": [
    {
     "name": "stderr",
     "output_type": "stream",
     "text": [
      "100%|██████████| 500/500 [01:43<00:00,  4.82it/s]\n",
      "100%|██████████| 500/500 [03:06<00:00,  2.68it/s]\n",
      "100%|██████████| 500/500 [06:24<00:00,  1.30it/s]\n",
      "100%|██████████| 3/3 [11:16<00:00, 225.35s/it]\n"
     ]
    },
    {
     "name": "stdout",
     "output_type": "stream",
     "text": [
      "[0.5718531608581543, 0.3814239799976349, 0.25865742564201355]\n"
     ]
    },
    {
     "data": {
      "image/png": "[encoded data removed]",
      "text/plain": [
       "<Figure size 640x480 with 1 Axes>"
      ]
     },
     "metadata": {},
     "output_type": "display_data"
    }
   ],
   "source": [
    "import torch\n",
    "import numpy as np\n",
    "from neuralop.models import FNO\n",
    "from tqdm import tqdm\n",
    "\n",
    "\n",
    "\n",
    "def experiment_6(datasize=1024, device='cpu'):\n",
    "\n",
    "    model = FNO(n_modes=(256, ), hidden_channels=64,\n",
    "                    in_channels=1, out_channels=140)\n",
    "\n",
    "    model = model.to(device)\n",
    "\n",
    "    model.train()\n",
    "\n",
    "    traj = torch.cat([traj_train, traj_valid], dim=0)\n",
    "\n",
    "    X_train = traj[:datasize,0].unsqueeze(1)\n",
    "    Y_train = traj[:datasize,:]\n",
    "\n",
    "    X_test = traj_test[:,0,:].unsqueeze(1)\n",
    "    Y_test = traj_test[:,-1,:].unsqueeze(1)\n",
    "\n",
    "\n",
    "    epochs = 500\n",
    "    lr = 0.001\n",
    "    bs = 32\n",
    "    optimizer = torch.optim.Adam(model.parameters(), lr=lr)\n",
    "    scheduler = torch.optim.lr_scheduler.CosineAnnealingLR(optimizer, epochs)\n",
    "    criterion = torch.nn.MSELoss()\n",
    "\n",
    "    dataset = torch.utils.data.TensorDataset(X_train, Y_train)\n",
    "    dataloader = torch.utils.data.DataLoader(dataset, batch_size=bs, shuffle=True)\n",
    "\n",
    "    testset = torch.utils.data.TensorDataset(X_test, Y_test)\n",
    "    testloader = torch.utils.data.DataLoader(testset, batch_size=bs, shuffle=False)\n",
    "\n",
    "    for epoch in tqdm(range(epochs)):\n",
    "        for x, y in dataloader:\n",
    "            x, y = x.to(device), y.to(device)\n",
    "            optimizer.zero_grad()\n",
    "            y_pred = model(x)\n",
    "            loss = criterion(y_pred, y)\n",
    "            loss.backward()\n",
    "            optimizer.step()\n",
    "        scheduler.step()\n",
    "\n",
    "\n",
    "    model.eval()\n",
    "    \n",
    "    Y_test_pred = []\n",
    "    with torch.no_grad():\n",
    "        for x, y in testloader:\n",
    "            x, y = x.to(device), y.to(device)\n",
    "            y_pred = model(x)[:,-1:]\n",
    "            Y_test_pred.append(y_pred)\n",
    "        Y_test_pred = torch.cat(Y_test_pred, dim=0).to(Y_test.device)\n",
    "    \n",
    "    metrics = compute_metrics(Y_test, Y_test_pred, d=1)\n",
    "\n",
    "    return metrics\n",
    "\n",
    "datasize_list = 2 ** np.linspace(8,11,4)\n",
    "# datasize_list = [1024]\n",
    "rel_l2_list = []\n",
    "for datasize in tqdm(datasize_list):\n",
    "    metrics = experiment_6(datasize=int(datasize), device=device)\n",
    "    rel_l2_list.append(metrics[1].mean().item())\n",
    "    # print(metrics)\n",
    "    # loss_list.append(loss.item())\n",
    "\n",
    "import matplotlib.pyplot as plt\n",
    "plt.plot(datasize_list, rel_l2_list, 'o-')\n",
    "plt.xscale('log')\n",
    "plt.yscale('log')\n",
    "print(rel_l2_list)\n"
   ]
  },
  {
   "cell_type": "code",
   "execution_count": 7,
   "metadata": {},
   "outputs": [
    {
     "data": {
      "text/plain": [
       "torch.Size([1024, 14, 256])"
      ]
     },
     "execution_count": 7,
     "metadata": {},
     "output_type": "execute_result"
    }
   ],
   "source": [
    "traj_train[:,0:131:10].shape"
   ]
  },
  {
   "cell_type": "code",
   "execution_count": 29,
   "metadata": {},
   "outputs": [
    {
     "name": "stderr",
     "output_type": "stream",
     "text": [
      "Epoch 9: 2.0591709805303253:   2%|▏         | 10/500 [00:43<41:11,  5.04s/it]"
     ]
    },
    {
     "name": "stdout",
     "output_type": "stream",
     "text": [
      "Epoch 9: 0.7579634785652161\n"
     ]
    },
    {
     "name": "stderr",
     "output_type": "stream",
     "text": [
      "Epoch 19: 0.3156185319676297:   4%|▍         | 20/500 [01:23<40:11,  5.02s/it] "
     ]
    },
    {
     "name": "stdout",
     "output_type": "stream",
     "text": [
      "Epoch 19: 0.5466873645782471\n"
     ]
    },
    {
     "name": "stderr",
     "output_type": "stream",
     "text": [
      "Epoch 29: 0.5199064172265935:   6%|▌         | 30/500 [02:07<40:19,  5.15s/it] "
     ]
    },
    {
     "name": "stdout",
     "output_type": "stream",
     "text": [
      "Epoch 29: 0.2766586244106293\n"
     ]
    },
    {
     "name": "stderr",
     "output_type": "stream",
     "text": [
      "Epoch 39: 0.19478101060303743:   8%|▊         | 40/500 [02:46<35:12,  4.59s/it]"
     ]
    },
    {
     "name": "stdout",
     "output_type": "stream",
     "text": [
      "Epoch 39: 0.3599174916744232\n"
     ]
    },
    {
     "name": "stderr",
     "output_type": "stream",
     "text": [
      "Epoch 49: 0.1356526488052623:  10%|█         | 50/500 [03:27<37:37,  5.02s/it] "
     ]
    },
    {
     "name": "stdout",
     "output_type": "stream",
     "text": [
      "Epoch 49: 0.38581717014312744\n"
     ]
    },
    {
     "name": "stderr",
     "output_type": "stream",
     "text": [
      "Epoch 59: 0.4026398817732115:  12%|█▏        | 60/500 [04:11<37:50,  5.16s/it] "
     ]
    },
    {
     "name": "stdout",
     "output_type": "stream",
     "text": [
      "Epoch 59: 0.2643512189388275\n"
     ]
    },
    {
     "name": "stderr",
     "output_type": "stream",
     "text": [
      "Epoch 69: 0.1782258454240946:  14%|█▍        | 70/500 [04:55<36:50,  5.14s/it] "
     ]
    },
    {
     "name": "stdout",
     "output_type": "stream",
     "text": [
      "Epoch 69: 0.18178319931030273\n"
     ]
    },
    {
     "name": "stderr",
     "output_type": "stream",
     "text": [
      "Epoch 79: 0.07954608312320488:  16%|█▌        | 80/500 [05:39<35:54,  5.13s/it]"
     ]
    },
    {
     "name": "stdout",
     "output_type": "stream",
     "text": [
      "Epoch 79: 0.4568058252334595\n"
     ]
    },
    {
     "name": "stderr",
     "output_type": "stream",
     "text": [
      "Epoch 89: 0.07858873851728276:  18%|█▊        | 90/500 [06:23<35:01,  5.13s/it] "
     ]
    },
    {
     "name": "stdout",
     "output_type": "stream",
     "text": [
      "Epoch 89: 0.41509443521499634\n"
     ]
    },
    {
     "name": "stderr",
     "output_type": "stream",
     "text": [
      "Epoch 99: 0.09744475696243171:  20%|██        | 100/500 [07:07<33:54,  5.09s/it]"
     ]
    },
    {
     "name": "stdout",
     "output_type": "stream",
     "text": [
      "Epoch 99: 0.1802845150232315\n"
     ]
    },
    {
     "name": "stderr",
     "output_type": "stream",
     "text": [
      "Epoch 109: 0.03731080873421888:  22%|██▏       | 110/500 [07:51<33:28,  5.15s/it] "
     ]
    },
    {
     "name": "stdout",
     "output_type": "stream",
     "text": [
      "Epoch 109: 0.27548447251319885\n"
     ]
    },
    {
     "name": "stderr",
     "output_type": "stream",
     "text": [
      "Epoch 119: 0.07656706913803646:  24%|██▍       | 120/500 [08:35<32:19,  5.10s/it] "
     ]
    },
    {
     "name": "stdout",
     "output_type": "stream",
     "text": [
      "Epoch 119: 0.6386719346046448\n"
     ]
    },
    {
     "name": "stderr",
     "output_type": "stream",
     "text": [
      "Epoch 129: 0.05073275834274682:  26%|██▌       | 130/500 [09:18<30:35,  4.96s/it] "
     ]
    },
    {
     "name": "stdout",
     "output_type": "stream",
     "text": [
      "Epoch 129: 0.2506380081176758\n"
     ]
    },
    {
     "name": "stderr",
     "output_type": "stream",
     "text": [
      "Epoch 139: 0.053517557475970534:  28%|██▊       | 140/500 [10:01<30:25,  5.07s/it]"
     ]
    },
    {
     "name": "stdout",
     "output_type": "stream",
     "text": [
      "Epoch 139: 0.30343449115753174\n"
     ]
    },
    {
     "name": "stderr",
     "output_type": "stream",
     "text": [
      "Epoch 149: 0.06709585263888584:  30%|███       | 150/500 [10:45<29:47,  5.11s/it] "
     ]
    },
    {
     "name": "stdout",
     "output_type": "stream",
     "text": [
      "Epoch 149: 0.5397531390190125\n"
     ]
    },
    {
     "name": "stderr",
     "output_type": "stream",
     "text": [
      "Epoch 159: 0.023199682712856884:  32%|███▏      | 160/500 [11:29<28:43,  5.07s/it]"
     ]
    },
    {
     "name": "stdout",
     "output_type": "stream",
     "text": [
      "Epoch 159: 0.14454127848148346\n"
     ]
    },
    {
     "name": "stderr",
     "output_type": "stream",
     "text": [
      "Epoch 169: 0.05735197776721179:  34%|███▍      | 170/500 [12:12<27:40,  5.03s/it] "
     ]
    },
    {
     "name": "stdout",
     "output_type": "stream",
     "text": [
      "Epoch 169: 0.31258416175842285\n"
     ]
    },
    {
     "name": "stderr",
     "output_type": "stream",
     "text": [
      "Epoch 179: 0.01908025953161996:  36%|███▌      | 180/500 [12:55<26:48,  5.03s/it] "
     ]
    },
    {
     "name": "stdout",
     "output_type": "stream",
     "text": [
      "Epoch 179: 0.13889393210411072\n"
     ]
    },
    {
     "name": "stderr",
     "output_type": "stream",
     "text": [
      "Epoch 189: 0.020667927333761327:  38%|███▊      | 190/500 [13:34<24:11,  4.68s/it]"
     ]
    },
    {
     "name": "stdout",
     "output_type": "stream",
     "text": [
      "Epoch 189: 0.11461084336042404\n"
     ]
    },
    {
     "name": "stderr",
     "output_type": "stream",
     "text": [
      "Epoch 199: 0.07221269286947063:  40%|████      | 200/500 [14:14<23:16,  4.66s/it] "
     ]
    },
    {
     "name": "stdout",
     "output_type": "stream",
     "text": [
      "Epoch 199: 0.36562520265579224\n"
     ]
    },
    {
     "name": "stderr",
     "output_type": "stream",
     "text": [
      "Epoch 209: 0.057666580959448765:  42%|████▏     | 210/500 [14:56<24:34,  5.08s/it]"
     ]
    },
    {
     "name": "stdout",
     "output_type": "stream",
     "text": [
      "Epoch 209: 0.27368786931037903\n"
     ]
    },
    {
     "name": "stderr",
     "output_type": "stream",
     "text": [
      "Epoch 219: 0.013999611895997077:  44%|████▍     | 220/500 [15:41<24:08,  5.17s/it]"
     ]
    },
    {
     "name": "stdout",
     "output_type": "stream",
     "text": [
      "Epoch 219: 0.16459375619888306\n"
     ]
    },
    {
     "name": "stderr",
     "output_type": "stream",
     "text": [
      "Epoch 229: 0.018484945112959394:  46%|████▌     | 230/500 [16:25<23:12,  5.16s/it]"
     ]
    },
    {
     "name": "stdout",
     "output_type": "stream",
     "text": [
      "Epoch 229: 0.6343560814857483\n"
     ]
    },
    {
     "name": "stderr",
     "output_type": "stream",
     "text": [
      "Epoch 239: 0.015117064532660152:  48%|████▊     | 240/500 [17:10<22:30,  5.19s/it]"
     ]
    },
    {
     "name": "stdout",
     "output_type": "stream",
     "text": [
      "Epoch 239: 0.25413089990615845\n"
     ]
    },
    {
     "name": "stderr",
     "output_type": "stream",
     "text": [
      "Epoch 249: 0.006837870011395353:  50%|█████     | 250/500 [17:54<21:24,  5.14s/it]"
     ]
    },
    {
     "name": "stdout",
     "output_type": "stream",
     "text": [
      "Epoch 249: 0.11753278970718384\n"
     ]
    },
    {
     "name": "stderr",
     "output_type": "stream",
     "text": [
      "Epoch 259: 0.00877984603312143:  52%|█████▏    | 260/500 [18:38<20:42,  5.18s/it] "
     ]
    },
    {
     "name": "stdout",
     "output_type": "stream",
     "text": [
      "Epoch 259: 0.21633771061897278\n"
     ]
    },
    {
     "name": "stderr",
     "output_type": "stream",
     "text": [
      "Epoch 269: 0.026070999091871272:  54%|█████▍    | 270/500 [19:19<19:24,  5.06s/it]"
     ]
    },
    {
     "name": "stdout",
     "output_type": "stream",
     "text": [
      "Epoch 269: 0.1411091387271881\n"
     ]
    },
    {
     "name": "stderr",
     "output_type": "stream",
     "text": [
      "Epoch 279: 0.020867956518486608:  56%|█████▌    | 280/500 [20:02<18:53,  5.15s/it] "
     ]
    },
    {
     "name": "stdout",
     "output_type": "stream",
     "text": [
      "Epoch 279: 0.11288626492023468\n"
     ]
    },
    {
     "name": "stderr",
     "output_type": "stream",
     "text": [
      "Epoch 289: 0.015557481531232042:  58%|█████▊    | 290/500 [20:46<17:51,  5.10s/it]"
     ]
    },
    {
     "name": "stdout",
     "output_type": "stream",
     "text": [
      "Epoch 289: 0.446380615234375\n"
     ]
    },
    {
     "name": "stderr",
     "output_type": "stream",
     "text": [
      "Epoch 299: 0.01497660199947859:  60%|██████    | 300/500 [21:29<17:08,  5.14s/it]  "
     ]
    },
    {
     "name": "stdout",
     "output_type": "stream",
     "text": [
      "Epoch 299: 0.19533300399780273\n"
     ]
    },
    {
     "name": "stderr",
     "output_type": "stream",
     "text": [
      "Epoch 309: 0.009937010310295591:  62%|██████▏   | 310/500 [22:11<16:09,  5.10s/it] "
     ]
    },
    {
     "name": "stdout",
     "output_type": "stream",
     "text": [
      "Epoch 309: 0.17461900413036346\n"
     ]
    },
    {
     "name": "stderr",
     "output_type": "stream",
     "text": [
      "Epoch 319: 0.0020533458699674156:  64%|██████▍   | 320/500 [22:50<13:55,  4.64s/it]"
     ]
    },
    {
     "name": "stdout",
     "output_type": "stream",
     "text": [
      "Epoch 319: 0.11243234574794769\n"
     ]
    },
    {
     "name": "stderr",
     "output_type": "stream",
     "text": [
      "Epoch 329: 0.008187936552985775:  66%|██████▌   | 330/500 [23:30<13:13,  4.67s/it] "
     ]
    },
    {
     "name": "stdout",
     "output_type": "stream",
     "text": [
      "Epoch 329: 0.08151792734861374\n"
     ]
    },
    {
     "name": "stderr",
     "output_type": "stream",
     "text": [
      "Epoch 339: 0.0030435481391464236:  68%|██████▊   | 340/500 [24:10<12:26,  4.67s/it]"
     ]
    },
    {
     "name": "stdout",
     "output_type": "stream",
     "text": [
      "Epoch 339: 0.16115525364875793\n"
     ]
    },
    {
     "name": "stderr",
     "output_type": "stream",
     "text": [
      "Epoch 349: 0.00144538815152373:  70%|███████   | 350/500 [24:52<12:40,  5.07s/it]  "
     ]
    },
    {
     "name": "stdout",
     "output_type": "stream",
     "text": [
      "Epoch 349: 0.1203872412443161\n"
     ]
    },
    {
     "name": "stderr",
     "output_type": "stream",
     "text": [
      "Epoch 359: 0.002787992940852746:  72%|███████▏  | 360/500 [25:34<10:58,  4.70s/it] "
     ]
    },
    {
     "name": "stdout",
     "output_type": "stream",
     "text": [
      "Epoch 359: 0.08712530881166458\n"
     ]
    },
    {
     "name": "stderr",
     "output_type": "stream",
     "text": [
      "Epoch 369: 0.0013832834162599283:  74%|███████▍  | 370/500 [26:13<10:03,  4.64s/it]"
     ]
    },
    {
     "name": "stdout",
     "output_type": "stream",
     "text": [
      "Epoch 369: 0.08541268110275269\n"
     ]
    },
    {
     "name": "stderr",
     "output_type": "stream",
     "text": [
      "Epoch 379: 0.001579507817666581:  76%|███████▌  | 380/500 [26:53<09:59,  4.99s/it] "
     ]
    },
    {
     "name": "stdout",
     "output_type": "stream",
     "text": [
      "Epoch 379: 0.087444968521595\n"
     ]
    },
    {
     "name": "stderr",
     "output_type": "stream",
     "text": [
      "Epoch 389: 0.0012147648577069958:  78%|███████▊  | 390/500 [27:33<08:35,  4.68s/it]"
     ]
    },
    {
     "name": "stdout",
     "output_type": "stream",
     "text": [
      "Epoch 389: 0.08667729794979095\n"
     ]
    },
    {
     "name": "stderr",
     "output_type": "stream",
     "text": [
      "Epoch 399: 0.0012444753492957261:  80%|████████  | 400/500 [28:15<08:25,  5.06s/it]"
     ]
    },
    {
     "name": "stdout",
     "output_type": "stream",
     "text": [
      "Epoch 399: 0.09512484073638916\n"
     ]
    },
    {
     "name": "stderr",
     "output_type": "stream",
     "text": [
      "Epoch 409: 0.0010255148461340013:  82%|████████▏ | 410/500 [28:56<07:00,  4.67s/it]"
     ]
    },
    {
     "name": "stdout",
     "output_type": "stream",
     "text": [
      "Epoch 409: 0.07517120242118835\n"
     ]
    },
    {
     "name": "stderr",
     "output_type": "stream",
     "text": [
      "Epoch 419: 0.0009179858008678821:  84%|████████▍ | 420/500 [29:36<06:24,  4.81s/it]"
     ]
    },
    {
     "name": "stdout",
     "output_type": "stream",
     "text": [
      "Epoch 419: 0.07248620688915253\n"
     ]
    },
    {
     "name": "stderr",
     "output_type": "stream",
     "text": [
      "Epoch 429: 0.0005815887593314528:  86%|████████▌ | 430/500 [30:20<05:57,  5.11s/it]"
     ]
    },
    {
     "name": "stdout",
     "output_type": "stream",
     "text": [
      "Epoch 429: 0.07531760632991791\n"
     ]
    },
    {
     "name": "stderr",
     "output_type": "stream",
     "text": [
      "Epoch 439: 0.0004868874470105311:  88%|████████▊ | 440/500 [31:00<04:57,  4.95s/it]"
     ]
    },
    {
     "name": "stdout",
     "output_type": "stream",
     "text": [
      "Epoch 439: 0.09402938932180405\n"
     ]
    },
    {
     "name": "stderr",
     "output_type": "stream",
     "text": [
      "Epoch 449: 0.00044383790768165454:  90%|█████████ | 450/500 [31:44<04:16,  5.14s/it]"
     ]
    },
    {
     "name": "stdout",
     "output_type": "stream",
     "text": [
      "Epoch 449: 0.07451662421226501\n"
     ]
    },
    {
     "name": "stderr",
     "output_type": "stream",
     "text": [
      "Epoch 459: 0.0003884953999317986:  92%|█████████▏| 460/500 [32:23<03:04,  4.61s/it] "
     ]
    },
    {
     "name": "stdout",
     "output_type": "stream",
     "text": [
      "Epoch 459: 0.07096677273511887\n"
     ]
    },
    {
     "name": "stderr",
     "output_type": "stream",
     "text": [
      "Epoch 469: 0.00036716862027219577:  94%|█████████▍| 470/500 [33:02<02:17,  4.60s/it]"
     ]
    },
    {
     "name": "stdout",
     "output_type": "stream",
     "text": [
      "Epoch 469: 0.07096024602651596\n"
     ]
    },
    {
     "name": "stderr",
     "output_type": "stream",
     "text": [
      "Epoch 479: 0.00035278042375352925:  96%|█████████▌| 480/500 [33:44<01:42,  5.11s/it]"
     ]
    },
    {
     "name": "stdout",
     "output_type": "stream",
     "text": [
      "Epoch 479: 0.06995964795351028\n"
     ]
    },
    {
     "name": "stderr",
     "output_type": "stream",
     "text": [
      "Epoch 489: 0.000353349114931234:  98%|█████████▊| 490/500 [34:29<00:52,  5.22s/it]  "
     ]
    },
    {
     "name": "stdout",
     "output_type": "stream",
     "text": [
      "Epoch 489: 0.07269006222486496\n"
     ]
    },
    {
     "name": "stderr",
     "output_type": "stream",
     "text": [
      "Epoch 499: 0.0003529877427297379: 100%|██████████| 500/500 [35:14<00:00,  4.23s/it] "
     ]
    },
    {
     "name": "stdout",
     "output_type": "stream",
     "text": [
      "Epoch 499: 0.06975848972797394\n"
     ]
    },
    {
     "name": "stderr",
     "output_type": "stream",
     "text": [
      "\n"
     ]
    },
    {
     "name": "stdout",
     "output_type": "stream",
     "text": [
      "0.06975848972797394\n"
     ]
    }
   ],
   "source": [
    "import torch\n",
    "import numpy as np\n",
    "from neuralop.models import FNO\n",
    "from tqdm import tqdm\n",
    "import random\n",
    "\n",
    "class cfg:\n",
    "    unrolling = 1\n",
    "    nt = 14\n",
    "\n",
    "def experiment_7(datasize=1024, device='cpu'):\n",
    "\n",
    "    model = FNO(n_modes=(256, ), hidden_channels=64,\n",
    "                    in_channels=1, out_channels=1)\n",
    "\n",
    "    model = model.to(device)\n",
    "\n",
    "    model.train()\n",
    "\n",
    "    timestep = (traj_train.shape[1] - 1) // (cfg.nt - 1) # 10\n",
    "    assert timestep == 10\n",
    "\n",
    "    X_train = traj_train[:datasize,0].unsqueeze(1)\n",
    "    Y_train = traj_train[:datasize,0::timestep]\n",
    "\n",
    "    assert Y_train.shape[1] == cfg.nt\n",
    "\n",
    "    X_test = traj_test[:,0,:].unsqueeze(1)\n",
    "    Y_test = traj_test[:,-1,:].unsqueeze(1)\n",
    "\n",
    "\n",
    "    epochs = 500\n",
    "    lr = 0.001\n",
    "    bs = 32\n",
    "    optimizer = torch.optim.Adam(model.parameters(), lr=lr)\n",
    "    scheduler = torch.optim.lr_scheduler.CosineAnnealingLR(optimizer, epochs)\n",
    "    criterion = torch.nn.MSELoss()\n",
    "\n",
    "    dataset = torch.utils.data.TensorDataset(X_train, Y_train)\n",
    "    dataloader = torch.utils.data.DataLoader(dataset, batch_size=bs, shuffle=True)\n",
    "\n",
    "    testset = torch.utils.data.TensorDataset(X_test, Y_test)\n",
    "    testloader = torch.utils.data.DataLoader(testset, batch_size=bs, shuffle=False)\n",
    "\n",
    "    pbar = tqdm(range(epochs))\n",
    "    for epoch in pbar:\n",
    "        model.train()\n",
    "        max_unrolling = epoch if epoch <= cfg.unrolling else cfg.unrolling\n",
    "        unrolling = [r for r in range(max_unrolling + 1)]\n",
    "\n",
    "        # Loop over every epoch as often as the number of timesteps in one trajectory.\n",
    "        # Since the starting point is randomly drawn, this in expectation has every possible starting point/sample combination of the training data.\n",
    "        # Therefore in expectation the whole available training information is covered.\n",
    "        total_loss = 0\n",
    "        for i in range(cfg.nt):\n",
    "            for x, y in dataloader:\n",
    "                optimizer.zero_grad()\n",
    "                x, y = x.to(device), y.to(device) # y has shape [bs, nt, nx]\n",
    "\n",
    "                unrolled = random.choice(unrolling)\n",
    "                bs = x.shape[0]\n",
    "\n",
    "                steps = [t for t in range(0, cfg.nt - 1 - unrolled)]\n",
    "                random_steps = random.choices(steps, k=bs)\n",
    "\n",
    "                inputs = torch.stack([y[b, random_steps[b]] for b in range(bs)], dim=0).unsqueeze(1)\n",
    "                outputs = torch.stack([y[b, random_steps[b] + unrolled+1] for b in range(bs)], dim=0).unsqueeze(1)\n",
    "\n",
    "                # pushforward\n",
    "                with torch.no_grad():\n",
    "                    model.eval()\n",
    "                    for _ in range(unrolled):\n",
    "                        inputs = model(inputs)\n",
    "                    model.train()\n",
    "                \n",
    "                pred = model(inputs)\n",
    "                loss = criterion(pred, outputs)\n",
    "\n",
    "                # loss = torch.sqrt(loss)\n",
    "                loss.backward()\n",
    "                optimizer.step()\n",
    "                total_loss += loss.item()\n",
    "        scheduler.step()\n",
    "        pbar.set_description(f'Epoch {epoch}: {total_loss}')\n",
    "\n",
    "\n",
    "        if (epoch+1) % 10 == 0:    \n",
    "            model.eval()\n",
    "        \n",
    "            Y_test_pred = []\n",
    "            with torch.no_grad():\n",
    "                for x, y in testloader:\n",
    "                    x, y = x.to(device), y.to(device)\n",
    "                    for _ in range(cfg.nt-1):\n",
    "                        x = model(x)\n",
    "                    Y_test_pred.append(x)\n",
    "                Y_test_pred = torch.cat(Y_test_pred, dim=0).to(Y_test.device)\n",
    "            \n",
    "            metrics = compute_metrics(Y_test, Y_test_pred, d=1)\n",
    "            print(f'Epoch {epoch}: {metrics[1].mean().item()}')\n",
    "\n",
    "    model.eval()\n",
    "    \n",
    "    Y_test_pred = []\n",
    "    with torch.no_grad():\n",
    "        for x, y in testloader:\n",
    "            x, y = x.to(device), y.to(device)\n",
    "            for _ in range(cfg.nt-1):\n",
    "                x = model(x)\n",
    "            Y_test_pred.append(x)\n",
    "        Y_test_pred = torch.cat(Y_test_pred, dim=0).to(Y_test.device)\n",
    "    \n",
    "    metrics = compute_metrics(Y_test, Y_test_pred, d=1)\n",
    "\n",
    "    return metrics\n",
    "\n",
    "metrics = experiment_7(datasize=int(1024), device=device)\n",
    "print(metrics[1].mean().item())\n",
    "\n",
    "# # datasize_list = 2 ** np.linspace(8,11,4)\n",
    "# datasize_list = [1024]\n",
    "# rel_l2_list = []\n",
    "# for datasize in tqdm(datasize_list):\n",
    "#     metrics = experiment_7(datasize=int(datasize), device=device)\n",
    "#     rel_l2_list.append(metrics[1].mean().item())\n",
    "#     # print(metrics)\n",
    "#     # loss_list.append(loss.item())\n",
    "\n",
    "# import matplotlib.pyplot as plt\n",
    "# plt.plot(datasize_list, rel_l2_list, 'o-')\n",
    "# plt.xscale('log')\n",
    "# plt.yscale('log')\n",
    "# print(rel_l2_list)\n"
   ]
  },
  {
   "cell_type": "code",
   "execution_count": 35,
   "metadata": {},
   "outputs": [
    {
     "name": "stderr",
     "output_type": "stream",
     "text": [
      "  0%|          | 0/500 [00:00<?, ?it/s]"
     ]
    },
    {
     "name": "stderr",
     "output_type": "stream",
     "text": [
      "Epoch 99: 0.03580907318973914:  20%|██        | 100/500 [00:47<10:01,  1.50s/it]"
     ]
    },
    {
     "name": "stdout",
     "output_type": "stream",
     "text": [
      "Epoch 99: 0.743078351020813\n"
     ]
    },
    {
     "name": "stderr",
     "output_type": "stream",
     "text": [
      "Epoch 199: 0.02266362914815545:  40%|████      | 200/500 [01:33<07:30,  1.50s/it]  "
     ]
    },
    {
     "name": "stdout",
     "output_type": "stream",
     "text": [
      "Epoch 199: 0.35807880759239197\n"
     ]
    },
    {
     "name": "stderr",
     "output_type": "stream",
     "text": [
      "Epoch 299: 0.0019802354645435116:  60%|██████    | 300/500 [02:20<04:56,  1.48s/it]"
     ]
    },
    {
     "name": "stdout",
     "output_type": "stream",
     "text": [
      "Epoch 299: 0.25653505325317383\n"
     ]
    },
    {
     "name": "stderr",
     "output_type": "stream",
     "text": [
      "Epoch 399: 0.00010032965451500786:  80%|████████  | 400/500 [03:08<02:29,  1.49s/it]"
     ]
    },
    {
     "name": "stdout",
     "output_type": "stream",
     "text": [
      "Epoch 399: 0.15289203822612762\n"
     ]
    },
    {
     "name": "stderr",
     "output_type": "stream",
     "text": [
      "Epoch 499: 5.328673097437786e-05: 100%|██████████| 500/500 [03:56<00:00,  2.12it/s] "
     ]
    },
    {
     "name": "stdout",
     "output_type": "stream",
     "text": [
      "Epoch 499: 0.12587201595306396\n"
     ]
    },
    {
     "name": "stderr",
     "output_type": "stream",
     "text": [
      "\n"
     ]
    },
    {
     "name": "stdout",
     "output_type": "stream",
     "text": [
      "0.12587201595306396\n"
     ]
    },
    {
     "name": "stderr",
     "output_type": "stream",
     "text": [
      "Epoch 0: 8.275171692832373:   0%|          | 1/500 [00:05<44:46,  5.38s/it]\n"
     ]
    },
    {
     "ename": "KeyboardInterrupt",
     "evalue": "",
     "output_type": "error",
     "traceback": [
      "\u001b[0;31m---------------------------------------------------------------------------\u001b[0m",
      "\u001b[0;31mKeyboardInterrupt\u001b[0m                         Traceback (most recent call last)",
      "Cell \u001b[0;32mIn[35], line 137\u001b[0m\n\u001b[1;32m    120\u001b[0m \u001b[38;5;28mprint\u001b[39m(metrics[\u001b[38;5;241m1\u001b[39m]\u001b[38;5;241m.\u001b[39mmean()\u001b[38;5;241m.\u001b[39mitem())\n\u001b[1;32m    122\u001b[0m \u001b[38;5;66;03m# # datasize_list = 2 ** np.linspace(8,11,4)\u001b[39;00m\n\u001b[1;32m    123\u001b[0m \u001b[38;5;66;03m# datasize_list = [1024]\u001b[39;00m\n\u001b[1;32m    124\u001b[0m \u001b[38;5;66;03m# rel_l2_list = []\u001b[39;00m\n\u001b[0;32m   (...)\u001b[0m\n\u001b[1;32m    134\u001b[0m \u001b[38;5;66;03m# plt.yscale('log')\u001b[39;00m\n\u001b[1;32m    135\u001b[0m \u001b[38;5;66;03m# print(rel_l2_list)\u001b[39;00m\n\u001b[0;32m--> 137\u001b[0m metrics \u001b[38;5;241m=\u001b[39m \u001b[43mexperiment_7\u001b[49m\u001b[43m(\u001b[49m\u001b[43mdatasize\u001b[49m\u001b[38;5;241;43m=\u001b[39;49m\u001b[38;5;28;43mint\u001b[39;49m\u001b[43m(\u001b[49m\u001b[38;5;241;43m1024\u001b[39;49m\u001b[43m)\u001b[49m\u001b[43m,\u001b[49m\u001b[43m \u001b[49m\u001b[43mdevice\u001b[49m\u001b[38;5;241;43m=\u001b[39;49m\u001b[43mdevice\u001b[49m\u001b[43m)\u001b[49m\n\u001b[1;32m    138\u001b[0m \u001b[38;5;28mprint\u001b[39m(metrics[\u001b[38;5;241m1\u001b[39m]\u001b[38;5;241m.\u001b[39mmean()\u001b[38;5;241m.\u001b[39mitem())\n",
      "Cell \u001b[0;32mIn[35], line 82\u001b[0m, in \u001b[0;36mexperiment_7\u001b[0;34m(datasize, device)\u001b[0m\n\u001b[1;32m     79\u001b[0m loss \u001b[38;5;241m=\u001b[39m criterion(pred, outputs)\n\u001b[1;32m     81\u001b[0m \u001b[38;5;66;03m# loss = torch.sqrt(loss)\u001b[39;00m\n\u001b[0;32m---> 82\u001b[0m \u001b[43mloss\u001b[49m\u001b[38;5;241;43m.\u001b[39;49m\u001b[43mbackward\u001b[49m\u001b[43m(\u001b[49m\u001b[43m)\u001b[49m\n\u001b[1;32m     83\u001b[0m optimizer\u001b[38;5;241m.\u001b[39mstep()\n\u001b[1;32m     84\u001b[0m total_loss \u001b[38;5;241m+\u001b[39m\u001b[38;5;241m=\u001b[39m loss\u001b[38;5;241m.\u001b[39mitem()\n",
      "File \u001b[0;32m~/miniconda3/envs/operator/lib/python3.10/site-packages/torch/_tensor.py:522\u001b[0m, in \u001b[0;36mTensor.backward\u001b[0;34m(self, gradient, retain_graph, create_graph, inputs)\u001b[0m\n\u001b[1;32m    512\u001b[0m \u001b[38;5;28;01mif\u001b[39;00m has_torch_function_unary(\u001b[38;5;28mself\u001b[39m):\n\u001b[1;32m    513\u001b[0m     \u001b[38;5;28;01mreturn\u001b[39;00m handle_torch_function(\n\u001b[1;32m    514\u001b[0m         Tensor\u001b[38;5;241m.\u001b[39mbackward,\n\u001b[1;32m    515\u001b[0m         (\u001b[38;5;28mself\u001b[39m,),\n\u001b[0;32m   (...)\u001b[0m\n\u001b[1;32m    520\u001b[0m         inputs\u001b[38;5;241m=\u001b[39minputs,\n\u001b[1;32m    521\u001b[0m     )\n\u001b[0;32m--> 522\u001b[0m \u001b[43mtorch\u001b[49m\u001b[38;5;241;43m.\u001b[39;49m\u001b[43mautograd\u001b[49m\u001b[38;5;241;43m.\u001b[39;49m\u001b[43mbackward\u001b[49m\u001b[43m(\u001b[49m\n\u001b[1;32m    523\u001b[0m \u001b[43m    \u001b[49m\u001b[38;5;28;43mself\u001b[39;49m\u001b[43m,\u001b[49m\u001b[43m \u001b[49m\u001b[43mgradient\u001b[49m\u001b[43m,\u001b[49m\u001b[43m \u001b[49m\u001b[43mretain_graph\u001b[49m\u001b[43m,\u001b[49m\u001b[43m \u001b[49m\u001b[43mcreate_graph\u001b[49m\u001b[43m,\u001b[49m\u001b[43m \u001b[49m\u001b[43minputs\u001b[49m\u001b[38;5;241;43m=\u001b[39;49m\u001b[43minputs\u001b[49m\n\u001b[1;32m    524\u001b[0m \u001b[43m\u001b[49m\u001b[43m)\u001b[49m\n",
      "File \u001b[0;32m~/miniconda3/envs/operator/lib/python3.10/site-packages/torch/autograd/__init__.py:266\u001b[0m, in \u001b[0;36mbackward\u001b[0;34m(tensors, grad_tensors, retain_graph, create_graph, grad_variables, inputs)\u001b[0m\n\u001b[1;32m    261\u001b[0m     retain_graph \u001b[38;5;241m=\u001b[39m create_graph\n\u001b[1;32m    263\u001b[0m \u001b[38;5;66;03m# The reason we repeat the same comment below is that\u001b[39;00m\n\u001b[1;32m    264\u001b[0m \u001b[38;5;66;03m# some Python versions print out the first line of a multi-line function\u001b[39;00m\n\u001b[1;32m    265\u001b[0m \u001b[38;5;66;03m# calls in the traceback and some print out the last line\u001b[39;00m\n\u001b[0;32m--> 266\u001b[0m \u001b[43mVariable\u001b[49m\u001b[38;5;241;43m.\u001b[39;49m\u001b[43m_execution_engine\u001b[49m\u001b[38;5;241;43m.\u001b[39;49m\u001b[43mrun_backward\u001b[49m\u001b[43m(\u001b[49m\u001b[43m  \u001b[49m\u001b[38;5;66;43;03m# Calls into the C++ engine to run the backward pass\u001b[39;49;00m\n\u001b[1;32m    267\u001b[0m \u001b[43m    \u001b[49m\u001b[43mtensors\u001b[49m\u001b[43m,\u001b[49m\n\u001b[1;32m    268\u001b[0m \u001b[43m    \u001b[49m\u001b[43mgrad_tensors_\u001b[49m\u001b[43m,\u001b[49m\n\u001b[1;32m    269\u001b[0m \u001b[43m    \u001b[49m\u001b[43mretain_graph\u001b[49m\u001b[43m,\u001b[49m\n\u001b[1;32m    270\u001b[0m \u001b[43m    \u001b[49m\u001b[43mcreate_graph\u001b[49m\u001b[43m,\u001b[49m\n\u001b[1;32m    271\u001b[0m \u001b[43m    \u001b[49m\u001b[43minputs\u001b[49m\u001b[43m,\u001b[49m\n\u001b[1;32m    272\u001b[0m \u001b[43m    \u001b[49m\u001b[43mallow_unreachable\u001b[49m\u001b[38;5;241;43m=\u001b[39;49m\u001b[38;5;28;43;01mTrue\u001b[39;49;00m\u001b[43m,\u001b[49m\n\u001b[1;32m    273\u001b[0m \u001b[43m    \u001b[49m\u001b[43maccumulate_grad\u001b[49m\u001b[38;5;241;43m=\u001b[39;49m\u001b[38;5;28;43;01mTrue\u001b[39;49;00m\u001b[43m,\u001b[49m\n\u001b[1;32m    274\u001b[0m \u001b[43m\u001b[49m\u001b[43m)\u001b[49m\n",
      "\u001b[0;31mKeyboardInterrupt\u001b[0m: "
     ]
    }
   ],
   "source": [
    "import torch\n",
    "import numpy as np\n",
    "from neuralop.models import FNO\n",
    "from tqdm import tqdm\n",
    "import random\n",
    "\n",
    "class cfg:\n",
    "    unrolling = 0\n",
    "    nt = 14\n",
    "\n",
    "def experiment_7(datasize=1024, device='cpu'):\n",
    "\n",
    "    model = FNO(n_modes=(256, ), hidden_channels=64,\n",
    "                    in_channels=1, out_channels=1)\n",
    "\n",
    "    model = model.to(device)\n",
    "\n",
    "    model.train()\n",
    "\n",
    "    timestep = (traj_train.shape[1] - 1) // (cfg.nt - 1) # 10\n",
    "    assert timestep == 10\n",
    "\n",
    "    X_train = traj_train[:datasize,0].unsqueeze(1)\n",
    "    Y_train = traj_train[:datasize,0::timestep]\n",
    "\n",
    "    assert Y_train.shape[1] == cfg.nt\n",
    "\n",
    "    X_test = traj_test[:,0,:].unsqueeze(1)\n",
    "    Y_test = traj_test[:,-1,:].unsqueeze(1)\n",
    "\n",
    "\n",
    "    epochs = 500\n",
    "    lr = 0.001\n",
    "    bs = 32\n",
    "    optimizer = torch.optim.Adam(model.parameters(), lr=lr)\n",
    "    scheduler = torch.optim.lr_scheduler.CosineAnnealingLR(optimizer, epochs)\n",
    "    criterion = torch.nn.MSELoss()\n",
    "\n",
    "    dataset = torch.utils.data.TensorDataset(X_train, Y_train)\n",
    "    dataloader = torch.utils.data.DataLoader(dataset, batch_size=bs, shuffle=True)\n",
    "\n",
    "    testset = torch.utils.data.TensorDataset(X_test, Y_test)\n",
    "    testloader = torch.utils.data.DataLoader(testset, batch_size=bs, shuffle=False)\n",
    "\n",
    "    pbar = tqdm(range(epochs))\n",
    "    for epoch in pbar:\n",
    "        model.train()\n",
    "        max_unrolling = epoch if epoch <= cfg.unrolling else cfg.unrolling\n",
    "        unrolling = [r for r in range(max_unrolling + 1)]\n",
    "\n",
    "        # Loop over every epoch as often as the number of timesteps in one trajectory.\n",
    "        # Since the starting point is randomly drawn, this in expectation has every possible starting point/sample combination of the training data.\n",
    "        # Therefore in expectation the whole available training information is covered.\n",
    "        total_loss = 0\n",
    "        for i in range(cfg.nt):\n",
    "            for x, y in dataloader:\n",
    "                optimizer.zero_grad()\n",
    "                x, y = x.to(device), y.to(device) # y has shape [bs, nt, nx]\n",
    "\n",
    "                unrolled = random.choice(unrolling)\n",
    "                bs = x.shape[0]\n",
    "\n",
    "                steps = [t for t in range(0, cfg.nt - 1 - unrolled)]\n",
    "                random_steps = random.choices(steps, k=bs)\n",
    "\n",
    "                inputs = torch.stack([y[b, random_steps[b]] for b in range(bs)], dim=0).unsqueeze(1)\n",
    "                outputs = torch.stack([y[b, random_steps[b] + unrolled+1] for b in range(bs)], dim=0).unsqueeze(1)\n",
    "\n",
    "                # pushforward\n",
    "                with torch.no_grad():\n",
    "                    model.eval()\n",
    "                    for _ in range(unrolled):\n",
    "                        inputs = model(inputs)\n",
    "                    model.train()\n",
    "                \n",
    "                pred = model(inputs)\n",
    "                loss = criterion(pred, outputs)\n",
    "\n",
    "                # loss = torch.sqrt(loss)\n",
    "                loss.backward()\n",
    "                optimizer.step()\n",
    "                total_loss += loss.item()\n",
    "        scheduler.step()\n",
    "        pbar.set_description(f'Epoch {epoch}: {total_loss}')\n",
    "\n",
    "\n",
    "        if (epoch+1) % 100 == 0:    \n",
    "            model.eval()\n",
    "        \n",
    "            Y_test_pred = []\n",
    "            with torch.no_grad():\n",
    "                for x, y in testloader:\n",
    "                    x, y = x.to(device), y.to(device)\n",
    "                    for _ in range(cfg.nt-1):\n",
    "                        x = model(x)\n",
    "                    Y_test_pred.append(x)\n",
    "                Y_test_pred = torch.cat(Y_test_pred, dim=0).to(Y_test.device)\n",
    "            \n",
    "            metrics = compute_metrics(Y_test, Y_test_pred, d=1)\n",
    "            print(f'Epoch {epoch}: {metrics[1].mean().item()}')\n",
    "\n",
    "    model.eval()\n",
    "    \n",
    "    Y_test_pred = []\n",
    "    with torch.no_grad():\n",
    "        for x, y in testloader:\n",
    "            x, y = x.to(device), y.to(device)\n",
    "            for _ in range(cfg.nt-1):\n",
    "                x = model(x)\n",
    "            Y_test_pred.append(x)\n",
    "        Y_test_pred = torch.cat(Y_test_pred, dim=0).to(Y_test.device)\n",
    "    \n",
    "    metrics = compute_metrics(Y_test, Y_test_pred, d=1)\n",
    "\n",
    "    return metrics\n",
    "\n",
    "metrics = experiment_7(datasize=int(128), device=device)\n",
    "print(metrics[1].mean().item())\n",
    "\n",
    "# # datasize_list = 2 ** np.linspace(8,11,4)\n",
    "# datasize_list = [1024]\n",
    "# rel_l2_list = []\n",
    "# for datasize in tqdm(datasize_list):\n",
    "#     metrics = experiment_7(datasize=int(datasize), device=device)\n",
    "#     rel_l2_list.append(metrics[1].mean().item())\n",
    "#     # print(metrics)\n",
    "#     # loss_list.append(loss.item())\n",
    "\n",
    "# import matplotlib.pyplot as plt\n",
    "# plt.plot(datasize_list, rel_l2_list, 'o-')\n",
    "# plt.xscale('log')\n",
    "# plt.yscale('log')\n",
    "# print(rel_l2_list)\n"
   ]
  },
  {
   "cell_type": "code",
   "execution_count": 36,
   "metadata": {},
   "outputs": [
    {
     "name": "stderr",
     "output_type": "stream",
     "text": [
      "Epoch 99: 0.052730042225448415:  20%|██        | 100/500 [00:52<10:36,  1.59s/it]"
     ]
    },
    {
     "name": "stdout",
     "output_type": "stream",
     "text": [
      "Epoch 99: 0.6809247732162476\n"
     ]
    },
    {
     "name": "stderr",
     "output_type": "stream",
     "text": [
      "Epoch 199: 0.013361447556235362:  40%|████      | 200/500 [01:45<07:41,  1.54s/it] "
     ]
    },
    {
     "name": "stdout",
     "output_type": "stream",
     "text": [
      "Epoch 199: 0.6291029453277588\n"
     ]
    },
    {
     "name": "stderr",
     "output_type": "stream",
     "text": [
      "Epoch 299: 0.0014892618428348214:  60%|██████    | 300/500 [02:38<05:10,  1.55s/it]"
     ]
    },
    {
     "name": "stdout",
     "output_type": "stream",
     "text": [
      "Epoch 299: 0.3856046497821808\n"
     ]
    },
    {
     "name": "stderr",
     "output_type": "stream",
     "text": [
      "Epoch 399: 0.00037118823911441723:  80%|████████  | 400/500 [03:30<02:29,  1.49s/it]"
     ]
    },
    {
     "name": "stdout",
     "output_type": "stream",
     "text": [
      "Epoch 399: 0.33926084637641907\n"
     ]
    },
    {
     "name": "stderr",
     "output_type": "stream",
     "text": [
      "Epoch 499: 0.00019136279775011644: 100%|██████████| 500/500 [04:19<00:00,  1.93it/s]"
     ]
    },
    {
     "name": "stdout",
     "output_type": "stream",
     "text": [
      "Epoch 499: 0.3321656584739685\n"
     ]
    },
    {
     "name": "stderr",
     "output_type": "stream",
     "text": [
      "\n"
     ]
    },
    {
     "name": "stdout",
     "output_type": "stream",
     "text": [
      "0.3321656584739685\n"
     ]
    }
   ],
   "source": [
    "import torch\n",
    "import numpy as np\n",
    "from neuralop.models import FNO\n",
    "from tqdm import tqdm\n",
    "import random\n",
    "\n",
    "class cfg:\n",
    "    unrolling = 1\n",
    "    nt = 14\n",
    "\n",
    "def experiment_7(datasize=1024, device='cpu'):\n",
    "\n",
    "    model = FNO(n_modes=(256, ), hidden_channels=64,\n",
    "                    in_channels=1, out_channels=1)\n",
    "\n",
    "    model = model.to(device)\n",
    "\n",
    "    model.train()\n",
    "\n",
    "    timestep = (traj_train.shape[1] - 1) // (cfg.nt - 1) # 10\n",
    "    assert timestep == 10\n",
    "\n",
    "    X_train = traj_train[:datasize,0].unsqueeze(1)\n",
    "    Y_train = traj_train[:datasize,0::timestep]\n",
    "\n",
    "    assert Y_train.shape[1] == cfg.nt\n",
    "\n",
    "    X_test = traj_test[:,0,:].unsqueeze(1)\n",
    "    Y_test = traj_test[:,-1,:].unsqueeze(1)\n",
    "\n",
    "\n",
    "    epochs = 500\n",
    "    lr = 0.001\n",
    "    bs = 32\n",
    "    optimizer = torch.optim.Adam(model.parameters(), lr=lr)\n",
    "    scheduler = torch.optim.lr_scheduler.CosineAnnealingLR(optimizer, epochs)\n",
    "    criterion = torch.nn.MSELoss()\n",
    "\n",
    "    dataset = torch.utils.data.TensorDataset(X_train, Y_train)\n",
    "    dataloader = torch.utils.data.DataLoader(dataset, batch_size=bs, shuffle=True)\n",
    "\n",
    "    testset = torch.utils.data.TensorDataset(X_test, Y_test)\n",
    "    testloader = torch.utils.data.DataLoader(testset, batch_size=bs, shuffle=False)\n",
    "\n",
    "    pbar = tqdm(range(epochs))\n",
    "    for epoch in pbar:\n",
    "        model.train()\n",
    "        max_unrolling = epoch if epoch <= cfg.unrolling else cfg.unrolling\n",
    "        unrolling = [r for r in range(max_unrolling + 1)]\n",
    "\n",
    "        # Loop over every epoch as often as the number of timesteps in one trajectory.\n",
    "        # Since the starting point is randomly drawn, this in expectation has every possible starting point/sample combination of the training data.\n",
    "        # Therefore in expectation the whole available training information is covered.\n",
    "        total_loss = 0\n",
    "        for i in range(cfg.nt):\n",
    "            for x, y in dataloader:\n",
    "                optimizer.zero_grad()\n",
    "                x, y = x.to(device), y.to(device) # y has shape [bs, nt, nx]\n",
    "\n",
    "                unrolled = random.choice(unrolling)\n",
    "                bs = x.shape[0]\n",
    "\n",
    "                steps = [t for t in range(0, cfg.nt - 1 - unrolled)]\n",
    "                random_steps = random.choices(steps, k=bs)\n",
    "\n",
    "                inputs = torch.stack([y[b, random_steps[b]] for b in range(bs)], dim=0).unsqueeze(1)\n",
    "                outputs = torch.stack([y[b, random_steps[b] + unrolled+1] for b in range(bs)], dim=0).unsqueeze(1)\n",
    "\n",
    "                # pushforward\n",
    "                with torch.no_grad():\n",
    "                    model.eval()\n",
    "                    for _ in range(unrolled):\n",
    "                        inputs = model(inputs)\n",
    "                    model.train()\n",
    "                \n",
    "                pred = model(inputs)\n",
    "                loss = criterion(pred, outputs)\n",
    "\n",
    "                # loss = torch.sqrt(loss)\n",
    "                loss.backward()\n",
    "                optimizer.step()\n",
    "                total_loss += loss.item()\n",
    "        scheduler.step()\n",
    "        pbar.set_description(f'Epoch {epoch}: {total_loss}')\n",
    "\n",
    "\n",
    "        if (epoch+1) % 100 == 0:    \n",
    "            model.eval()\n",
    "        \n",
    "            Y_test_pred = []\n",
    "            with torch.no_grad():\n",
    "                for x, y in testloader:\n",
    "                    x, y = x.to(device), y.to(device)\n",
    "                    for _ in range(cfg.nt-1):\n",
    "                        x = model(x)\n",
    "                    Y_test_pred.append(x)\n",
    "                Y_test_pred = torch.cat(Y_test_pred, dim=0).to(Y_test.device)\n",
    "            \n",
    "            metrics = compute_metrics(Y_test, Y_test_pred, d=1)\n",
    "            print(f'Epoch {epoch}: {metrics[1].mean().item()}')\n",
    "\n",
    "    model.eval()\n",
    "    \n",
    "    Y_test_pred = []\n",
    "    with torch.no_grad():\n",
    "        for x, y in testloader:\n",
    "            x, y = x.to(device), y.to(device)\n",
    "            for _ in range(cfg.nt-1):\n",
    "                x = model(x)\n",
    "            Y_test_pred.append(x)\n",
    "        Y_test_pred = torch.cat(Y_test_pred, dim=0).to(Y_test.device)\n",
    "    \n",
    "    metrics = compute_metrics(Y_test, Y_test_pred, d=1)\n",
    "\n",
    "    return metrics\n",
    "\n",
    "metrics = experiment_7(datasize=int(128), device=device)\n",
    "print(metrics[1].mean().item())\n",
    "\n",
    "# # datasize_list = 2 ** np.linspace(8,11,4)\n",
    "# datasize_list = [1024]\n",
    "# rel_l2_list = []\n",
    "# for datasize in tqdm(datasize_list):\n",
    "#     metrics = experiment_7(datasize=int(datasize), device=device)\n",
    "#     rel_l2_list.append(metrics[1].mean().item())\n",
    "#     # print(metrics)\n",
    "#     # loss_list.append(loss.item())\n",
    "\n",
    "# import matplotlib.pyplot as plt\n",
    "# plt.plot(datasize_list, rel_l2_list, 'o-')\n",
    "# plt.xscale('log')\n",
    "# plt.yscale('log')\n",
    "# print(rel_l2_list)\n"
   ]
  },
  {
   "cell_type": "code",
   "execution_count": 37,
   "metadata": {},
   "outputs": [
    {
     "name": "stderr",
     "output_type": "stream",
     "text": [
      "Epoch 99: 0.03297178119282762:  20%|██        | 100/500 [05:36<29:52,  4.48s/it]"
     ]
    },
    {
     "name": "stdout",
     "output_type": "stream",
     "text": [
      "Epoch 99: 0.32939431071281433\n"
     ]
    },
    {
     "name": "stderr",
     "output_type": "stream",
     "text": [
      "Epoch 199: 0.005080248587546521:  40%|████      | 200/500 [11:48<30:41,  6.14s/it] "
     ]
    },
    {
     "name": "stdout",
     "output_type": "stream",
     "text": [
      "Epoch 199: 0.19090096652507782\n"
     ]
    },
    {
     "name": "stderr",
     "output_type": "stream",
     "text": [
      "Epoch 299: 0.0009965568253278434:  60%|██████    | 300/500 [17:48<15:30,  4.65s/it]"
     ]
    },
    {
     "name": "stdout",
     "output_type": "stream",
     "text": [
      "Epoch 299: 0.06757449358701706\n"
     ]
    },
    {
     "name": "stderr",
     "output_type": "stream",
     "text": [
      "Epoch 399: 0.00018807791974495558:  80%|████████  | 400/500 [23:40<07:48,  4.68s/it]"
     ]
    },
    {
     "name": "stdout",
     "output_type": "stream",
     "text": [
      "Epoch 399: 0.06641793251037598\n"
     ]
    },
    {
     "name": "stderr",
     "output_type": "stream",
     "text": [
      "Epoch 499: 7.316759043618504e-05: 100%|██████████| 500/500 [29:47<00:00,  3.58s/it] "
     ]
    },
    {
     "name": "stdout",
     "output_type": "stream",
     "text": [
      "Epoch 499: 0.018813734874129295\n"
     ]
    },
    {
     "name": "stderr",
     "output_type": "stream",
     "text": [
      "\n"
     ]
    },
    {
     "name": "stdout",
     "output_type": "stream",
     "text": [
      "0.018813734874129295\n"
     ]
    }
   ],
   "source": [
    "import torch\n",
    "import numpy as np\n",
    "from neuralop.models import FNO\n",
    "from tqdm import tqdm\n",
    "import random\n",
    "\n",
    "class cfg:\n",
    "    unrolling = 0\n",
    "    nt = 14\n",
    "\n",
    "def experiment_7(datasize=1024, device='cpu'):\n",
    "\n",
    "    model = FNO(n_modes=(256, ), hidden_channels=64,\n",
    "                    in_channels=1, out_channels=1)\n",
    "\n",
    "    model = model.to(device)\n",
    "\n",
    "    model.train()\n",
    "\n",
    "    timestep = (traj_train.shape[1] - 1) // (cfg.nt - 1) # 10\n",
    "    assert timestep == 10\n",
    "\n",
    "    X_train = traj_train[:datasize,0].unsqueeze(1)\n",
    "    Y_train = traj_train[:datasize,0::timestep]\n",
    "\n",
    "    assert Y_train.shape[1] == cfg.nt\n",
    "\n",
    "    X_test = traj_test[:,0,:].unsqueeze(1)\n",
    "    Y_test = traj_test[:,-1,:].unsqueeze(1)\n",
    "\n",
    "\n",
    "    epochs = 500\n",
    "    lr = 0.001\n",
    "    bs = 32\n",
    "    optimizer = torch.optim.Adam(model.parameters(), lr=lr)\n",
    "    scheduler = torch.optim.lr_scheduler.CosineAnnealingLR(optimizer, epochs)\n",
    "    criterion = torch.nn.MSELoss()\n",
    "\n",
    "    dataset = torch.utils.data.TensorDataset(X_train, Y_train)\n",
    "    dataloader = torch.utils.data.DataLoader(dataset, batch_size=bs, shuffle=True)\n",
    "\n",
    "    testset = torch.utils.data.TensorDataset(X_test, Y_test)\n",
    "    testloader = torch.utils.data.DataLoader(testset, batch_size=bs, shuffle=False)\n",
    "\n",
    "    pbar = tqdm(range(epochs))\n",
    "    for epoch in pbar:\n",
    "        model.train()\n",
    "        max_unrolling = epoch if epoch <= cfg.unrolling else cfg.unrolling\n",
    "        unrolling = [r for r in range(max_unrolling + 1)]\n",
    "\n",
    "        # Loop over every epoch as often as the number of timesteps in one trajectory.\n",
    "        # Since the starting point is randomly drawn, this in expectation has every possible starting point/sample combination of the training data.\n",
    "        # Therefore in expectation the whole available training information is covered.\n",
    "        total_loss = 0\n",
    "        for i in range(cfg.nt):\n",
    "            for x, y in dataloader:\n",
    "                optimizer.zero_grad()\n",
    "                x, y = x.to(device), y.to(device) # y has shape [bs, nt, nx]\n",
    "\n",
    "                unrolled = random.choice(unrolling)\n",
    "                bs = x.shape[0]\n",
    "\n",
    "                steps = [t for t in range(0, cfg.nt - 1 - unrolled)]\n",
    "                random_steps = random.choices(steps, k=bs)\n",
    "\n",
    "                inputs = torch.stack([y[b, random_steps[b]] for b in range(bs)], dim=0).unsqueeze(1)\n",
    "                outputs = torch.stack([y[b, random_steps[b] + unrolled+1] for b in range(bs)], dim=0).unsqueeze(1)\n",
    "\n",
    "                # pushforward\n",
    "                with torch.no_grad():\n",
    "                    model.eval()\n",
    "                    for _ in range(unrolled):\n",
    "                        inputs = model(inputs)\n",
    "                    model.train()\n",
    "                \n",
    "                pred = model(inputs)\n",
    "                loss = criterion(pred, outputs)\n",
    "\n",
    "                # loss = torch.sqrt(loss)\n",
    "                loss.backward()\n",
    "                optimizer.step()\n",
    "                total_loss += loss.item()\n",
    "        scheduler.step()\n",
    "        pbar.set_description(f'Epoch {epoch}: {total_loss}')\n",
    "\n",
    "\n",
    "        if (epoch+1) % 100 == 0:    \n",
    "            model.eval()\n",
    "        \n",
    "            Y_test_pred = []\n",
    "            with torch.no_grad():\n",
    "                for x, y in testloader:\n",
    "                    x, y = x.to(device), y.to(device)\n",
    "                    for _ in range(cfg.nt-1):\n",
    "                        x = model(x)\n",
    "                    Y_test_pred.append(x)\n",
    "                Y_test_pred = torch.cat(Y_test_pred, dim=0).to(Y_test.device)\n",
    "            \n",
    "            metrics = compute_metrics(Y_test, Y_test_pred, d=1)\n",
    "            print(f'Epoch {epoch}: {metrics[1].mean().item()}')\n",
    "\n",
    "    model.eval()\n",
    "    \n",
    "    Y_test_pred = []\n",
    "    with torch.no_grad():\n",
    "        for x, y in testloader:\n",
    "            x, y = x.to(device), y.to(device)\n",
    "            for _ in range(cfg.nt-1):\n",
    "                x = model(x)\n",
    "            Y_test_pred.append(x)\n",
    "        Y_test_pred = torch.cat(Y_test_pred, dim=0).to(Y_test.device)\n",
    "    \n",
    "    metrics = compute_metrics(Y_test, Y_test_pred, d=1)\n",
    "\n",
    "    return metrics\n",
    "\n",
    "metrics = experiment_7(datasize=int(1024), device=device)\n",
    "print(metrics[1].mean().item())\n",
    "\n",
    "# # datasize_list = 2 ** np.linspace(8,11,4)\n",
    "# datasize_list = [1024]\n",
    "# rel_l2_list = []\n",
    "# for datasize in tqdm(datasize_list):\n",
    "#     metrics = experiment_7(datasize=int(datasize), device=device)\n",
    "#     rel_l2_list.append(metrics[1].mean().item())\n",
    "#     # print(metrics)\n",
    "#     # loss_list.append(loss.item())\n",
    "\n",
    "# import matplotlib.pyplot as plt\n",
    "# plt.plot(datasize_list, rel_l2_list, 'o-')\n",
    "# plt.xscale('log')\n",
    "# plt.yscale('log')\n",
    "# print(rel_l2_list)\n"
   ]
  },
  {
   "cell_type": "code",
   "execution_count": 38,
   "metadata": {},
   "outputs": [
    {
     "name": "stderr",
     "output_type": "stream",
     "text": [
      "Epoch 99: 0.11482645213436626:  20%|██        | 100/500 [06:42<34:41,  5.20s/it]"
     ]
    },
    {
     "name": "stdout",
     "output_type": "stream",
     "text": [
      "Epoch 99: 0.3163425028324127\n"
     ]
    },
    {
     "name": "stderr",
     "output_type": "stream",
     "text": [
      "Epoch 199: 0.043258798490114714:  40%|████      | 200/500 [13:37<25:53,  5.18s/it]"
     ]
    },
    {
     "name": "stdout",
     "output_type": "stream",
     "text": [
      "Epoch 199: 0.28844961524009705\n"
     ]
    },
    {
     "name": "stderr",
     "output_type": "stream",
     "text": [
      "Epoch 299: 0.01570138475085514:  60%|██████    | 300/500 [20:22<17:07,  5.14s/it]  "
     ]
    },
    {
     "name": "stdout",
     "output_type": "stream",
     "text": [
      "Epoch 299: 0.10947953164577484\n"
     ]
    },
    {
     "name": "stderr",
     "output_type": "stream",
     "text": [
      "Epoch 399: 0.002701114028525353:  80%|████████  | 400/500 [27:16<08:42,  5.22s/it] "
     ]
    },
    {
     "name": "stdout",
     "output_type": "stream",
     "text": [
      "Epoch 399: 0.08543503284454346\n"
     ]
    },
    {
     "name": "stderr",
     "output_type": "stream",
     "text": [
      "Epoch 499: 0.0003726458682251632: 100%|██████████| 500/500 [34:08<00:00,  4.10s/it] "
     ]
    },
    {
     "name": "stdout",
     "output_type": "stream",
     "text": [
      "Epoch 499: 0.07151971757411957\n"
     ]
    },
    {
     "name": "stderr",
     "output_type": "stream",
     "text": [
      "\n"
     ]
    },
    {
     "name": "stdout",
     "output_type": "stream",
     "text": [
      "0.07151971757411957\n"
     ]
    }
   ],
   "source": [
    "import torch\n",
    "import numpy as np\n",
    "from neuralop.models import FNO\n",
    "from tqdm import tqdm\n",
    "import random\n",
    "\n",
    "class cfg:\n",
    "    unrolling = 1\n",
    "    nt = 14\n",
    "\n",
    "def experiment_7(datasize=1024, device='cpu'):\n",
    "\n",
    "    model = FNO(n_modes=(256, ), hidden_channels=64,\n",
    "                    in_channels=1, out_channels=1)\n",
    "\n",
    "    model = model.to(device)\n",
    "\n",
    "    model.train()\n",
    "\n",
    "    timestep = (traj_train.shape[1] - 1) // (cfg.nt - 1) # 10\n",
    "    assert timestep == 10\n",
    "\n",
    "    X_train = traj_train[:datasize,0].unsqueeze(1)\n",
    "    Y_train = traj_train[:datasize,0::timestep]\n",
    "\n",
    "    assert Y_train.shape[1] == cfg.nt\n",
    "\n",
    "    X_test = traj_test[:,0,:].unsqueeze(1)\n",
    "    Y_test = traj_test[:,-1,:].unsqueeze(1)\n",
    "\n",
    "\n",
    "    epochs = 500\n",
    "    lr = 0.001\n",
    "    bs = 32\n",
    "    optimizer = torch.optim.Adam(model.parameters(), lr=lr)\n",
    "    scheduler = torch.optim.lr_scheduler.CosineAnnealingLR(optimizer, epochs)\n",
    "    criterion = torch.nn.MSELoss()\n",
    "\n",
    "    dataset = torch.utils.data.TensorDataset(X_train, Y_train)\n",
    "    dataloader = torch.utils.data.DataLoader(dataset, batch_size=bs, shuffle=True)\n",
    "\n",
    "    testset = torch.utils.data.TensorDataset(X_test, Y_test)\n",
    "    testloader = torch.utils.data.DataLoader(testset, batch_size=bs, shuffle=False)\n",
    "\n",
    "    pbar = tqdm(range(epochs))\n",
    "    for epoch in pbar:\n",
    "        model.train()\n",
    "        max_unrolling = epoch if epoch <= cfg.unrolling else cfg.unrolling\n",
    "        unrolling = [r for r in range(max_unrolling + 1)]\n",
    "\n",
    "        # Loop over every epoch as often as the number of timesteps in one trajectory.\n",
    "        # Since the starting point is randomly drawn, this in expectation has every possible starting point/sample combination of the training data.\n",
    "        # Therefore in expectation the whole available training information is covered.\n",
    "        total_loss = 0\n",
    "        for i in range(cfg.nt):\n",
    "            for x, y in dataloader:\n",
    "                optimizer.zero_grad()\n",
    "                x, y = x.to(device), y.to(device) # y has shape [bs, nt, nx]\n",
    "\n",
    "                unrolled = random.choice(unrolling)\n",
    "                bs = x.shape[0]\n",
    "\n",
    "                steps = [t for t in range(0, cfg.nt - 1 - unrolled)]\n",
    "                random_steps = random.choices(steps, k=bs)\n",
    "\n",
    "                inputs = torch.stack([y[b, random_steps[b]] for b in range(bs)], dim=0).unsqueeze(1)\n",
    "                outputs = torch.stack([y[b, random_steps[b] + unrolled+1] for b in range(bs)], dim=0).unsqueeze(1)\n",
    "\n",
    "                # pushforward\n",
    "                with torch.no_grad():\n",
    "                    model.eval()\n",
    "                    for _ in range(unrolled):\n",
    "                        inputs = model(inputs)\n",
    "                    model.train()\n",
    "                \n",
    "                pred = model(inputs)\n",
    "                loss = criterion(pred, outputs)\n",
    "\n",
    "                # loss = torch.sqrt(loss)\n",
    "                loss.backward()\n",
    "                optimizer.step()\n",
    "                total_loss += loss.item()\n",
    "        scheduler.step()\n",
    "        pbar.set_description(f'Epoch {epoch}: {total_loss}')\n",
    "\n",
    "\n",
    "        if (epoch+1) % 100 == 0:    \n",
    "            model.eval()\n",
    "        \n",
    "            Y_test_pred = []\n",
    "            with torch.no_grad():\n",
    "                for x, y in testloader:\n",
    "                    x, y = x.to(device), y.to(device)\n",
    "                    for _ in range(cfg.nt-1):\n",
    "                        x = model(x)\n",
    "                    Y_test_pred.append(x)\n",
    "                Y_test_pred = torch.cat(Y_test_pred, dim=0).to(Y_test.device)\n",
    "            \n",
    "            metrics = compute_metrics(Y_test, Y_test_pred, d=1)\n",
    "            print(f'Epoch {epoch}: {metrics[1].mean().item()}')\n",
    "\n",
    "    model.eval()\n",
    "    \n",
    "    Y_test_pred = []\n",
    "    with torch.no_grad():\n",
    "        for x, y in testloader:\n",
    "            x, y = x.to(device), y.to(device)\n",
    "            for _ in range(cfg.nt-1):\n",
    "                x = model(x)\n",
    "            Y_test_pred.append(x)\n",
    "        Y_test_pred = torch.cat(Y_test_pred, dim=0).to(Y_test.device)\n",
    "    \n",
    "    metrics = compute_metrics(Y_test, Y_test_pred, d=1)\n",
    "\n",
    "    return metrics\n",
    "\n",
    "metrics = experiment_7(datasize=int(1024), device=device)\n",
    "print(metrics[1].mean().item())\n",
    "\n",
    "# # datasize_list = 2 ** np.linspace(8,11,4)\n",
    "# datasize_list = [1024]\n",
    "# rel_l2_list = []\n",
    "# for datasize in tqdm(datasize_list):\n",
    "#     metrics = experiment_7(datasize=int(datasize), device=device)\n",
    "#     rel_l2_list.append(metrics[1].mean().item())\n",
    "#     # print(metrics)\n",
    "#     # loss_list.append(loss.item())\n",
    "\n",
    "# import matplotlib.pyplot as plt\n",
    "# plt.plot(datasize_list, rel_l2_list, 'o-')\n",
    "# plt.xscale('log')\n",
    "# plt.yscale('log')\n",
    "# print(rel_l2_list)\n"
   ]
  },
  {
   "cell_type": "code",
   "execution_count": null,
   "metadata": {},
   "outputs": [],
   "source": []
  }
 ],
 "metadata": {
  "kernelspec": {
   "display_name": "operator",
   "language": "python",
   "name": "python3"
  },
  "language_info": {
   "codemirror_mode": {
    "name": "ipython",
    "version": 3
   },
   "file_extension": ".py",
   "mimetype": "text/x-python",
   "name": "python",
   "nbconvert_exporter": "python",
   "pygments_lexer": "ipython3",
   "version": "3.10.13"
  }
 },
 "nbformat": 4,
 "nbformat_minor": 2
}
