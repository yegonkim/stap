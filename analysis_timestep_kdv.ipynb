{
 "cells": [
  {
   "cell_type": "code",
   "execution_count": 1,
   "metadata": {},
   "outputs": [],
   "source": [
    "\n",
    "import torch\n",
    "from torch import tensor\n",
    "\n",
    "\n",
    "step_0 = {4166: tensor([[False, False, False, False, False, False, False, False, False,  True,\n",
    "         False, False, False]]), 7786: tensor([[ True, False, False, False, False, False, False, False, False, False,\n",
    "         False, False, False]]), 6290: tensor([[ True, False, False, False, False, False, False, False, False, False,\n",
    "         False, False, False]]), 6060: tensor([[False, False,  True, False, False, False, False, False, False, False,\n",
    "         False, False, False]]), 3501: tensor([[ True, False, False, False, False, False, False, False, False, False,\n",
    "         False, False, False]]), 1333: tensor([[False, False,  True, False, False, False, False, False, False, False,\n",
    "         False, False, False]]), 9211: tensor([[False, False, False, False, False, False,  True, False,  True, False,\n",
    "         False, False, False]]), 5010: tensor([[False, False, False,  True, False,  True, False, False, False, False,\n",
    "         False, False, False]]), 4228: tensor([[False, False,  True, False, False, False, False, False, False, False,\n",
    "         False, False,  True]]), 8712: tensor([[False,  True, False,  True, False, False, False,  True, False, False,\n",
    "         False, False, False]]), 6797: tensor([[False, False, False, False, False, False, False, False, False,  True,\n",
    "         False, False, False]]), 6408: tensor([[False,  True,  True, False, False, False, False, False, False, False,\n",
    "         False, False, False]]), 3381: tensor([[False,  True, False, False, False, False, False, False, False, False,\n",
    "         False, False, False]]), 571: tensor([[False, False, False, False,  True, False, False, False, False, False,\n",
    "         False, False, False]]), 4323: tensor([[False, False, False,  True, False, False, False, False, False, False,\n",
    "         False, False, False]]), 5063: tensor([[False,  True, False, False, False, False, False, False, False, False,\n",
    "         False, False, False]]), 9043: tensor([[False, False,  True, False, False, False, False, False, False, False,\n",
    "         False, False, False]]), 5045: tensor([[False,  True,  True, False, False, False, False, False, False, False,\n",
    "         False, False, False]]), 9189: tensor([[ True, False, False, False, False, False, False,  True, False, False,\n",
    "         False,  True, False]]), 7752: tensor([[ True, False, False, False, False, False, False, False, False, False,\n",
    "         False, False, False]]), 9343: tensor([[False, False,  True, False, False, False, False, False, False, False,\n",
    "         False, False, False]]), 4112: tensor([[ True,  True, False, False,  True, False, False, False, False, False,\n",
    "         False, False, False]]), 4198: tensor([[False, False, False, False, False, False,  True, False, False, False,\n",
    "         False, False, False]]), 3986: tensor([[ True,  True, False, False, False, False, False, False, False, False,\n",
    "         False, False, False]]), 9324: tensor([[ True, False, False, False, False, False, False, False, False, False,\n",
    "         False, False, False]]), 4959: tensor([[ True, False, False, False, False, False, False, False, False, False,\n",
    "         False, False, False]]), 4395: tensor([[False, False, False,  True, False, False, False, False, False, False,\n",
    "         False, False, False]]), 8763: tensor([[ True,  True,  True,  True, False, False, False, False, False, False,\n",
    "         False, False, False]]), 5808: tensor([[ True,  True, False,  True,  True, False, False, False, False,  True,\n",
    "         False, False, False]]), 2017: tensor([[False, False, False,  True, False, False, False, False, False, False,\n",
    "          True, False, False]]), 7528: tensor([[False, False, False, False, False,  True, False, False, False, False,\n",
    "         False, False, False]]), 9700: tensor([[False, False, False,  True, False, False, False,  True, False, False,\n",
    "         False, False, False]]), 3739: tensor([[ True, False, False, False, False, False, False, False, False, False,\n",
    "         False, False, False]]), 6485: tensor([[False,  True, False, False, False, False, False, False, False, False,\n",
    "         False, False, False]]), 7634: tensor([[ True, False, False, False, False, False, False, False, False, False,\n",
    "         False, False, False]]), 3010: tensor([[ True, False, False,  True,  True, False, False, False, False, False,\n",
    "         False, False, False]]), 5019: tensor([[ True, False, False, False, False, False, False, False, False, False,\n",
    "         False, False, False]]), 5165: tensor([[False, False, False, False, False, False, False, False, False,  True,\n",
    "         False, False, False]]), 2892: tensor([[ True, False, False, False, False, False, False, False, False, False,\n",
    "         False, False, False]]), 891: tensor([[False, False,  True,  True, False, False, False, False, False, False,\n",
    "         False, False, False]]), 3352: tensor([[ True,  True, False, False, False, False, False, False, False, False,\n",
    "         False, False, False]]), 3664: tensor([[False, False, False, False, False,  True, False, False, False, False,\n",
    "         False, False, False]]), 8146: tensor([[False, False, False,  True, False, False, False, False, False, False,\n",
    "         False, False, False]]), 9511: tensor([[False, False, False, False, False, False, False, False, False, False,\n",
    "         False,  True, False]]), 9407: tensor([[ True, False, False, False, False, False, False, False, False, False,\n",
    "         False, False, False]]), 6215: tensor([[ True, False, False, False, False, False, False, False, False, False,\n",
    "         False, False, False]]), 4818: tensor([[ True, False, False, False, False, False, False, False, False, False,\n",
    "         False, False, False]]), 8263: tensor([[False, False, False, False, False, False, False,  True, False, False,\n",
    "          True, False, False]]), 4254: tensor([[False,  True, False, False, False, False, False, False, False, False,\n",
    "         False, False, False]]), 4967: tensor([[ True, False, False, False, False, False, False, False, False, False,\n",
    "         False, False, False]]), 1710: tensor([[ True, False, False, False, False, False, False, False, False, False,\n",
    "         False, False, False]]), 2559: tensor([[False, False, False, False,  True, False, False, False, False, False,\n",
    "         False, False, False]]), 851: tensor([[False,  True, False, False, False, False, False, False, False, False,\n",
    "         False, False, False]]), 6265: tensor([[False, False, False,  True, False,  True, False, False, False, False,\n",
    "         False, False, False]]), 5914: tensor([[ True, False, False, False, False, False, False, False, False, False,\n",
    "         False, False, False]]), 9675: tensor([[False, False,  True,  True, False, False, False, False, False, False,\n",
    "         False, False, False]]), 8706: tensor([[False, False, False,  True, False, False, False, False, False, False,\n",
    "         False, False, False]]), 3566: tensor([[ True, False, False, False, False, False, False, False, False, False,\n",
    "         False, False, False]]), 1873: tensor([[False, False, False, False, False, False, False, False, False, False,\n",
    "         False,  True, False]]), 176: tensor([[False, False,  True, False,  True, False, False, False, False, False,\n",
    "         False, False, False]]), 9262: tensor([[False,  True, False, False, False, False, False, False, False, False,\n",
    "         False, False, False]]), 6156: tensor([[False,  True, False, False, False, False, False, False, False, False,\n",
    "         False, False, False]]), 1745: tensor([[ True,  True, False, False, False, False, False, False, False, False,\n",
    "         False, False, False]]), 5168: tensor([[False, False,  True, False, False, False, False, False, False, False,\n",
    "         False, False, False]]), 7977: tensor([[ True, False, False, False, False, False, False, False, False, False,\n",
    "         False, False, False]]), 511: tensor([[ True, False, False, False, False, False, False, False, False, False,\n",
    "         False, False, False]]), 3113: tensor([[False, False,  True, False, False, False, False, False, False, False,\n",
    "         False, False, False]]), 1445: tensor([[False, False, False, False, False, False, False, False, False, False,\n",
    "          True, False, False]]), 8811: tensor([[False,  True, False, False, False, False, False, False, False, False,\n",
    "         False, False, False]]), 7965: tensor([[False,  True, False,  True, False, False, False, False, False, False,\n",
    "         False, False, False]]), 8255: tensor([[ True, False,  True, False, False, False, False, False, False, False,\n",
    "         False, False, False]]), 7286: tensor([[False, False, False, False, False, False, False, False, False,  True,\n",
    "         False, False, False]])}"
   ]
  },
  {
   "cell_type": "code",
   "execution_count": 2,
   "metadata": {},
   "outputs": [],
   "source": [
    "S_list = []\n",
    "for k in step_0:\n",
    "    S_list.append(step_0[k].squeeze())\n",
    "\n",
    "S = torch.stack(S_list, dim=0)"
   ]
  },
  {
   "cell_type": "code",
   "execution_count": 5,
   "metadata": {},
   "outputs": [
    {
     "data": {
      "text/plain": [
       "([<matplotlib.axis.YTick at 0x7f5db282d240>,\n",
       "  <matplotlib.axis.YTick at 0x7f5e89e9dba0>,\n",
       "  <matplotlib.axis.YTick at 0x7f5db282fbe0>,\n",
       "  <matplotlib.axis.YTick at 0x7f5db2865810>,\n",
       "  <matplotlib.axis.YTick at 0x7f5db287e830>,\n",
       "  <matplotlib.axis.YTick at 0x7f5db287f2e0>,\n",
       "  <matplotlib.axis.YTick at 0x7f5db287fd90>,\n",
       "  <matplotlib.axis.YTick at 0x7f5db2898880>],\n",
       " [Text(0, 0, '0'),\n",
       "  Text(0, 10, '10'),\n",
       "  Text(0, 20, '20'),\n",
       "  Text(0, 30, '30'),\n",
       "  Text(0, 40, '40'),\n",
       "  Text(0, 50, '50'),\n",
       "  Text(0, 60, '60'),\n",
       "  Text(0, 70, '70')])"
      ]
     },
     "execution_count": 5,
     "metadata": {},
     "output_type": "execute_result"
    },
    {
     "data": {
      "image/png": "[encoded data removed]",
      "text/plain": [
       "<Figure size 640x480 with 1 Axes>"
      ]
     },
     "metadata": {},
     "output_type": "display_data"
    }
   ],
   "source": [
    "from matplotlib import pyplot as plt\n",
    "from seaborn import heatmap\n",
    "\n",
    "heatmap(S, cmap='viridis', cbar=False)\n",
    "# make y ticks less frequent\n",
    "plt.yticks(range(0, S.shape[0], 10), range(0, S.shape[0], 10))\n"
   ]
  },
  {
   "cell_type": "code",
   "execution_count": null,
   "metadata": {},
   "outputs": [],
   "source": []
  }
 ],
 "metadata": {
  "kernelspec": {
   "display_name": "lupi",
   "language": "python",
   "name": "python3"
  },
  "language_info": {
   "codemirror_mode": {
    "name": "ipython",
    "version": 3
   },
   "file_extension": ".py",
   "mimetype": "text/x-python",
   "name": "python",
   "nbconvert_exporter": "python",
   "pygments_lexer": "ipython3",
   "version": "3.10.13"
  }
 },
 "nbformat": 4,
 "nbformat_minor": 2
}
