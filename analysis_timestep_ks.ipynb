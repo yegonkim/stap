{
 "cells": [
  {
   "cell_type": "code",
   "execution_count": 1,
   "metadata": {},
   "outputs": [],
   "source": [
    "\n",
    "import torch\n",
    "from torch import tensor\n",
    "\n",
    "\n",
    "step_0 = {3995: tensor([[False, False, False, False,  True,  True,  True, False, False, False,\n",
    "         False, False, False, False, False, False, False, False, False, False,\n",
    "         False,  True, False, False, False,  True]]), 1894: tensor([[ True,  True,  True,  True,  True, False, False, False, False, False,\n",
    "         False, False, False, False, False, False, False, False, False, False,\n",
    "         False, False, False, False, False, False]]), 1393: tensor([[False, False,  True, False, False,  True,  True,  True, False,  True,\n",
    "         False, False, False, False, False, False,  True, False, False, False,\n",
    "         False, False, False, False, False, False]]), 2478: tensor([[ True,  True,  True,  True, False, False,  True,  True, False, False,\n",
    "         False, False, False, False, False, False, False, False, False, False,\n",
    "         False, False, False, False, False, False]]), 4313: tensor([[ True,  True,  True,  True,  True, False, False, False,  True, False,\n",
    "         False, False, False, False,  True, False, False, False, False, False,\n",
    "         False, False, False, False, False, False]]), 1045: tensor([[ True,  True,  True, False,  True,  True, False, False, False, False,\n",
    "         False, False,  True, False, False, False, False, False, False, False,\n",
    "         False, False, False, False,  True, False]]), 5380: tensor([[ True, False,  True,  True,  True, False, False, False, False, False,\n",
    "         False,  True, False, False, False, False, False, False,  True, False,\n",
    "         False, False, False, False, False, False]]), 5742: tensor([[False, False,  True,  True, False, False, False, False, False, False,\n",
    "         False, False, False, False, False, False, False, False, False, False,\n",
    "         False, False,  True, False, False, False]]), 6783: tensor([[False, False, False,  True,  True, False, False,  True, False, False,\n",
    "         False, False, False, False, False, False, False, False, False, False,\n",
    "         False, False, False, False, False, False]]), 5429: tensor([[False,  True,  True, False,  True, False, False, False, False, False,\n",
    "         False, False, False, False, False, False, False, False, False, False,\n",
    "         False, False, False, False, False, False]]), 3802: tensor([[False,  True,  True,  True,  True, False, False, False, False,  True,\n",
    "         False, False, False, False, False, False, False, False,  True, False,\n",
    "         False,  True, False, False,  True, False]]), 4053: tensor([[False,  True, False, False,  True,  True, False, False, False,  True,\n",
    "          True, False, False, False, False, False, False, False, False, False,\n",
    "         False, False, False, False, False, False]]), 8354: tensor([[False, False, False,  True, False, False, False, False, False,  True,\n",
    "         False, False, False, False, False, False, False, False, False,  True,\n",
    "         False, False, False, False, False, False]]), 3261: tensor([[False,  True,  True,  True, False, False, False, False, False, False,\n",
    "         False, False, False, False, False, False, False, False,  True, False,\n",
    "         False, False, False, False, False, False]]), 3963: tensor([[False, False, False, False,  True, False,  True,  True, False, False,\n",
    "         False, False, False, False, False, False, False, False, False, False,\n",
    "         False, False, False,  True, False, False]]), 2373: tensor([[False, False, False, False, False, False, False, False,  True,  True,\n",
    "          True, False, False, False, False, False, False,  True, False, False,\n",
    "         False,  True, False, False, False, False]]), 4033: tensor([[ True,  True, False, False, False, False, False, False, False, False,\n",
    "         False,  True, False, False, False, False, False, False, False, False,\n",
    "         False, False, False,  True, False, False]]), 926: tensor([[False,  True, False, False, False, False,  True,  True, False, False,\n",
    "         False, False, False,  True, False, False, False, False, False, False,\n",
    "         False, False, False, False,  True, False]]), 6358: tensor([[ True,  True,  True, False, False, False, False, False, False, False,\n",
    "         False, False, False, False, False, False, False, False, False, False,\n",
    "         False, False, False, False, False, False]]), 828: tensor([[False,  True, False,  True,  True, False, False, False, False, False,\n",
    "         False, False, False, False, False,  True, False, False, False, False,\n",
    "         False, False, False, False, False, False]]), 98: tensor([[False,  True,  True, False, False, False,  True,  True, False,  True,\n",
    "         False, False, False, False, False, False, False, False, False, False,\n",
    "         False, False, False,  True, False, False]]), 2569: tensor([[ True, False,  True, False, False,  True,  True, False, False, False,\n",
    "         False, False, False, False, False, False, False, False, False, False,\n",
    "         False, False, False, False, False, False]]), 2493: tensor([[ True,  True,  True,  True, False, False,  True,  True, False, False,\n",
    "         False, False, False, False, False, False, False, False, False, False,\n",
    "         False, False, False,  True, False, False]]), 8582: tensor([[ True,  True,  True,  True,  True,  True,  True, False, False,  True,\n",
    "          True, False, False, False, False, False, False, False, False, False,\n",
    "         False, False, False, False, False,  True]]), 1785: tensor([[ True, False, False, False,  True,  True,  True, False, False, False,\n",
    "         False, False, False,  True, False, False, False, False, False, False,\n",
    "         False, False, False, False, False,  True]]), 6243: tensor([[ True,  True, False, False, False,  True, False,  True, False, False,\n",
    "          True, False, False, False, False, False,  True, False, False, False,\n",
    "         False, False, False, False, False, False]]), 3571: tensor([[ True,  True, False, False,  True, False, False, False, False, False,\n",
    "         False, False, False, False,  True, False, False, False,  True, False,\n",
    "         False, False, False, False, False, False]]), 3639: tensor([[ True, False, False, False, False, False, False, False, False,  True,\n",
    "         False,  True, False, False, False, False, False, False, False, False,\n",
    "         False, False, False, False, False, False]]), 3031: tensor([[ True, False, False, False, False, False, False, False, False, False,\n",
    "         False, False, False, False, False, False, False, False, False, False,\n",
    "         False, False, False, False, False,  True]]), 2054: tensor([[ True,  True,  True, False, False, False, False,  True, False, False,\n",
    "         False, False, False, False, False, False, False,  True, False, False,\n",
    "         False, False, False, False, False, False]]), 6199: tensor([[False, False, False, False, False, False,  True, False,  True,  True,\n",
    "         False, False, False, False, False, False, False, False, False,  True,\n",
    "         False, False, False, False, False, False]]), 9816: tensor([[ True,  True,  True, False,  True, False, False, False, False, False,\n",
    "         False, False, False, False, False, False, False,  True, False, False,\n",
    "         False, False, False, False, False, False]]), 974: tensor([[ True,  True, False,  True,  True,  True,  True, False, False, False,\n",
    "         False, False, False, False, False, False,  True, False, False,  True,\n",
    "         False, False, False, False, False, False]]), 2429: tensor([[ True,  True, False, False, False, False,  True,  True, False, False,\n",
    "         False, False, False,  True, False,  True, False, False, False, False,\n",
    "         False, False, False,  True, False, False]]), 1634: tensor([[ True, False,  True, False,  True, False, False, False, False, False,\n",
    "          True, False, False, False, False, False, False, False, False, False,\n",
    "         False, False, False, False, False, False]]), 2945: tensor([[False, False, False, False,  True,  True, False, False, False, False,\n",
    "         False, False, False, False, False, False, False, False, False, False,\n",
    "         False, False,  True, False, False, False]]), 3648: tensor([[False,  True, False, False, False, False, False, False, False,  True,\n",
    "         False, False, False, False, False, False, False, False, False, False,\n",
    "         False, False, False, False, False, False]]), 9024: tensor([[False,  True,  True, False, False, False, False, False, False, False,\n",
    "         False, False, False, False, False, False,  True, False, False, False,\n",
    "         False,  True, False, False, False, False]]), 4303: tensor([[False, False, False,  True, False, False, False, False,  True, False,\n",
    "          True, False,  True,  True, False, False, False, False, False, False,\n",
    "         False, False, False, False, False, False]]), 9968: tensor([[False,  True, False,  True, False, False, False,  True,  True, False,\n",
    "          True, False, False, False, False, False, False, False, False, False,\n",
    "         False, False, False, False, False, False]]), 8529: tensor([[False,  True,  True,  True,  True,  True,  True,  True, False, False,\n",
    "         False, False, False, False, False, False,  True, False, False, False,\n",
    "         False, False, False, False, False, False]]), 9081: tensor([[False, False, False,  True, False, False, False, False, False, False,\n",
    "         False, False,  True, False, False, False, False, False, False, False,\n",
    "          True, False, False, False, False, False]])}"
   ]
  },
  {
   "cell_type": "code",
   "execution_count": 2,
   "metadata": {},
   "outputs": [],
   "source": [
    "S_list = []\n",
    "for k in step_0:\n",
    "    S_list.append(step_0[k].squeeze())\n",
    "\n",
    "S = torch.stack(S_list, dim=0)"
   ]
  },
  {
   "cell_type": "code",
   "execution_count": 5,
   "metadata": {},
   "outputs": [
    {
     "data": {
      "text/plain": [
       "([<matplotlib.axis.YTick at 0x7f60b9ccf100>,\n",
       "  <matplotlib.axis.YTick at 0x7f60b9cceaa0>,\n",
       "  <matplotlib.axis.YTick at 0x7f60b9cf5f60>,\n",
       "  <matplotlib.axis.YTick at 0x7f60b9d4aef0>,\n",
       "  <matplotlib.axis.YTick at 0x7f60b9d4b9a0>],\n",
       " [Text(0, 0, '0'),\n",
       "  Text(0, 10, '10'),\n",
       "  Text(0, 20, '20'),\n",
       "  Text(0, 30, '30'),\n",
       "  Text(0, 40, '40')])"
      ]
     },
     "execution_count": 5,
     "metadata": {},
     "output_type": "execute_result"
    },
    {
     "data": {
      "image/png": "[encoded data removed]",
      "text/plain": [
       "<Figure size 640x480 with 1 Axes>"
      ]
     },
     "metadata": {},
     "output_type": "display_data"
    }
   ],
   "source": [
    "from matplotlib import pyplot as plt\n",
    "from seaborn import heatmap\n",
    "\n",
    "\n",
    "heatmap(S, cmap='viridis', cbar=False)\n",
    "# make y ticks less frequent\n",
    "plt.yticks(range(0, S.shape[0], 10), range(0, S.shape[0], 10))\n",
    "\n"
   ]
  },
  {
   "cell_type": "code",
   "execution_count": null,
   "metadata": {},
   "outputs": [],
   "source": []
  }
 ],
 "metadata": {
  "kernelspec": {
   "display_name": "lupi",
   "language": "python",
   "name": "python3"
  },
  "language_info": {
   "codemirror_mode": {
    "name": "ipython",
    "version": 3
   },
   "file_extension": ".py",
   "mimetype": "text/x-python",
   "name": "python",
   "nbconvert_exporter": "python",
   "pygments_lexer": "ipython3",
   "version": "3.10.13"
  }
 },
 "nbformat": 4,
 "nbformat_minor": 2
}
