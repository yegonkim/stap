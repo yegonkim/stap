{
 "cells": [
  {
   "cell_type": "code",
   "execution_count": 1,
   "metadata": {},
   "outputs": [],
   "source": [
    "import h5py\n",
    "import torch\n",
    "import time\n",
    "import random\n",
    "\n",
    "device = torch.device('cuda' if torch.cuda.is_available() else 'cpu')"
   ]
  },
  {
   "cell_type": "code",
   "execution_count": 2,
   "metadata": {},
   "outputs": [
    {
     "name": "stdout",
     "output_type": "stream",
     "text": [
      "Loading training data...\n",
      "Loading test data...\n"
     ]
    }
   ],
   "source": [
    "# with h5py.File('data/KdV_train_1024_default.h5', 'r') as f:\n",
    "#     traj_train = torch.tensor(f['train']['pde_140-256'][:], dtype=torch.float32)\n",
    "# with h5py.File('data/KdV_valid_1024_default.h5', 'r') as f:\n",
    "#     traj_valid = torch.tensor(f['valid']['pde_140-256'][:], dtype=torch.float32)\n",
    "# with h5py.File('data/KdV_test_4096_default.h5', 'r') as f:\n",
    "#     traj_test = torch.tensor(f['test']['pde_140-256'][:], dtype=torch.float32)\n",
    "\n",
    "class args:\n",
    "    equation = 'KdV'\n",
    "    # equation = 'Burgers'\n",
    "\n",
    "class Traj_dataset:\n",
    "    traj_train = None\n",
    "    traj_valid = None\n",
    "    traj_test = None\n",
    "\n",
    "# with h5py.File(f'data/{args.equation}_train_1024_default.h5', 'r') as f:\n",
    "#     Traj_dataset.traj_train = torch.tensor(f['train']['pde_140-256'][:], dtype=torch.float32)[:, :131]\n",
    "# with h5py.File(f'data/{args.equation}_valid_1024_default.h5', 'r') as f:\n",
    "#     Traj_dataset.traj_valid = torch.tensor(f['valid']['pde_140-256'][:], dtype=torch.float32)[:, :131]\n",
    "# with h5py.File(f'data/{args.equation}_test_4096_default.h5', 'r') as f:\n",
    "#     Traj_dataset.traj_test = torch.tensor(f['test']['pde_140-256'][:], dtype=torch.float32)[:, :131]\n",
    "\n",
    "print('Loading training data...')\n",
    "with h5py.File(f'data_large/{args.equation}_train_100000_default.h5', 'r') as f:\n",
    "    # Traj_dataset.traj_train = torch.tensor(f['train']['pde_140-256'][:10000, :131], dtype=torch.float32, device=cfg.device)\n",
    "    Traj_dataset.traj_train = torch.tensor(f['train']['pde_140-256'][:1000, :10], dtype=torch.float32)\n",
    "    # Traj_dataset.traj_train = torch.tensor(f['train']['pde_140-256'][:100, :131], dtype=torch.float32, device=cfg.device)\n",
    "# print('Loading validation data...')\n",
    "# with h5py.File(f'data_large/{cfg.equation}_valid_1024_default.h5', 'r') as f:\n",
    "#     Traj_dataset.traj_valid = torch.tensor(f['valid']['pde_140-256'][:, :131], dtype=torch.float32)\n",
    "print('Loading test data...')\n",
    "with h5py.File(f'data_large/{args.equation}_test_100000_default.h5', 'r') as f:\n",
    "    # Traj_dataset.traj_test = torch.tensor(f['test']['pde_140-256'][:, :131], dtype=torch.float32)\n",
    "    Traj_dataset.traj_test = torch.tensor(f['test']['pde_140-256'][:10000, :10], dtype=torch.float32)"
   ]
  },
  {
   "cell_type": "code",
   "execution_count": 3,
   "metadata": {},
   "outputs": [],
   "source": [
    "from typing import Any, Dict, List, Tuple\n",
    "import torch.nn.functional as F\n",
    "\n",
    "class LpLoss(object):\n",
    "    def __init__(self, d=2, p=2, size_average=True, reduction=True):\n",
    "        super(LpLoss, self).__init__()\n",
    "\n",
    "        #Dimension and Lp-norm type are postive\n",
    "        assert d > 0 and p > 0\n",
    "\n",
    "        self.d = d\n",
    "        self.p = p\n",
    "        self.reduction = reduction\n",
    "        self.size_average = size_average\n",
    "\n",
    "    def abs(self, x, y):\n",
    "        num_examples = x.size()[0]\n",
    "\n",
    "        #Assume uniform mesh\n",
    "        h = 1.0 / (x.size()[1] - 1.0) if x.size()[1] > 1 else 1.0\n",
    "\n",
    "        all_norms = (h**(self.d/self.p))*torch.norm(x.view(num_examples,-1) - y.view(num_examples,-1), self.p, 1)\n",
    "\n",
    "        if self.reduction:\n",
    "            if self.size_average:\n",
    "                return torch.mean(all_norms)\n",
    "            else:\n",
    "                return torch.sum(all_norms)\n",
    "\n",
    "        return all_norms\n",
    "\n",
    "    def rel(self, x, y):\n",
    "        num_examples = x.size()[0]\n",
    "\n",
    "        diff_norms = torch.norm(x.reshape(num_examples,-1) - y.reshape(num_examples,-1), self.p, 1)\n",
    "        y_norms = torch.norm(y.reshape(num_examples,-1), self.p, 1)\n",
    "\n",
    "        if self.reduction:\n",
    "            if self.size_average:\n",
    "                return torch.mean(diff_norms/y_norms)\n",
    "            else:\n",
    "                return torch.sum(diff_norms/y_norms)\n",
    "\n",
    "        return diff_norms/y_norms\n",
    "\n",
    "    def __call__(self, x, y):\n",
    "        return self.rel(x, y)\n",
    "\n",
    "def compute_metrics(y, y_pred, d=1) :\n",
    "    L2_func = LpLoss(d=d, p=2, reduction=False)\n",
    "    if y.shape != y_pred.shape :\n",
    "        raise NotImplementedError\n",
    "    l2 = L2_func.abs(y, y_pred) # [bs]\n",
    "    relative_l2 = L2_func.rel(y, y_pred) # [bs]\n",
    "    mse = F.mse_loss(y_pred, y, reduction='none') # [bs]\n",
    "    mse = mse.mean(dim=tuple(range(1, mse.ndim)))\n",
    "    return l2, relative_l2, mse\n"
   ]
  },
  {
   "cell_type": "code",
   "execution_count": 4,
   "metadata": {},
   "outputs": [],
   "source": [
    "epochs = 500\n",
    "lr = 0.001\n",
    "batch_size = 32\n",
    "\n",
    "initial_datasize=128\n",
    "batch_acquire=32\n",
    "ensemble_size = 5"
   ]
  },
  {
   "cell_type": "code",
   "execution_count": 5,
   "metadata": {},
   "outputs": [
    {
     "name": "stderr",
     "output_type": "stream",
     "text": [
      "100%|██████████| 5/5 [03:22<00:00, 40.58s/it]\n"
     ]
    },
    {
     "name": "stdout",
     "output_type": "stream",
     "text": [
      "Datasize: 128, L2: 1.0003101825714111, Relative L2: 0.0758710503578186, MSE: 0.018993154168128967\n"
     ]
    }
   ],
   "source": [
    "import torch\n",
    "import numpy as np\n",
    "from neuralop.models import FNO\n",
    "from tqdm import tqdm\n",
    "import copy\n",
    "\n",
    "from acquisition.acquirers import select\n",
    "\n",
    "def train(X_train, Y_train):\n",
    "    model = FNO(n_modes=cfg.model.n_modes, hidden_channels=64,\n",
    "                    in_channels=1, out_channels=1)\n",
    "\n",
    "    model = model.to(device)\n",
    "\n",
    "    model.train()\n",
    "\n",
    "    optimizer = torch.optim.Adam(model.parameters(), lr=lr)\n",
    "    scheduler = torch.optim.lr_scheduler.CosineAnnealingLR(optimizer, epochs)\n",
    "    criterion = torch.nn.MSELoss()\n",
    "\n",
    "    dataset = torch.utils.data.TensorDataset(X_train, Y_train)\n",
    "    dataloader = torch.utils.data.DataLoader(dataset, batch_size=batch_size, shuffle=True)\n",
    "\n",
    "    for epoch in range(epochs):\n",
    "        for x, y in dataloader:\n",
    "            # x, y = x.to(device), y.to(device)\n",
    "            optimizer.zero_grad()\n",
    "            y_pred = model(x)\n",
    "            loss = criterion(y_pred, y)\n",
    "            loss.backward()\n",
    "            optimizer.step()\n",
    "        scheduler.step()\n",
    "    \n",
    "    return model\n",
    "\n",
    "def test(model):\n",
    "    X_test = Traj_dataset.traj_test[:,0,:].unsqueeze(1).to(device)\n",
    "    Y_test = Traj_dataset.traj_test[:,-1,:].unsqueeze(1).to(device)\n",
    "\n",
    "    testset = torch.utils.data.TensorDataset(X_test, Y_test)\n",
    "    testloader = torch.utils.data.DataLoader(testset, batch_size=batch_size, shuffle=False)\n",
    "\n",
    "    model.eval()\n",
    "    \n",
    "    Y_test_pred = []\n",
    "    with torch.no_grad():\n",
    "        for x, y in testloader:\n",
    "            # x, y = x.to(device), y.to(device)\n",
    "            y_pred = model(x)\n",
    "            Y_test_pred.append(y_pred)\n",
    "        Y_test_pred = torch.cat(Y_test_pred, dim=0).to(Y_test.device)\n",
    "    \n",
    "    metrics = compute_metrics(Y_test, Y_test_pred, d=1)\n",
    "    return metrics\n",
    "\n",
    "\n",
    "results = {'datasize': [], 'rel_l2': [], 'l2': [], 'mse': [], 'ensemble': [], 'method': []}\n",
    "\n",
    "X = Traj_dataset.traj_train[:,0].unsqueeze(1).to(device)\n",
    "Y = Traj_dataset.traj_train[:,-1].unsqueeze(1).to(device)\n",
    "\n",
    "train_idxs = torch.arange(initial_datasize, device=device)\n",
    "pool_idxs = torch.arange(initial_datasize, X.shape[0], device=device)\n",
    "\n",
    "X_train = X[train_idxs]\n",
    "Y_train = Y[train_idxs]\n",
    "X_pool = X[pool_idxs]\n",
    "\n",
    "ensemble = [train(X_train, Y_train) for _ in tqdm(range(ensemble_size))]\n",
    "\n",
    "results['datasize'].append(train_idxs.shape[0])\n",
    "results['ensemble'].append(copy.deepcopy(ensemble))\n",
    "results['method'].append('random')\n",
    "l2_list = [test(model)[0].mean().item() for model in ensemble]\n",
    "rel_l2_list = [test(model)[1].mean().item() for model in ensemble]\n",
    "mse_list = [test(model)[2].mean().item() for model in ensemble]\n",
    "results['l2'].append(torch.mean(torch.tensor(l2_list)).item())\n",
    "results['rel_l2'].append(torch.mean(torch.tensor(rel_l2_list)).item())\n",
    "results['mse'].append(torch.mean(torch.tensor(mse_list)).item())\n",
    "print(f'Datasize: {results[\"datasize\"][-1]}, L2: {results[\"l2\"][-1]}, Relative L2: {results[\"rel_l2\"][-1]}, MSE: {results[\"mse\"][-1]}')\n"
   ]
  },
  {
   "cell_type": "code",
   "execution_count": 6,
   "metadata": {},
   "outputs": [
    {
     "name": "stdout",
     "output_type": "stream",
     "text": [
      "random\n",
      "tensor([216, 387, 593, 121, 300,  97, 852, 496, 487, 402, 515,  76, 727, 867,\n",
      "        779, 847, 629, 180, 372, 673, 444, 462, 292, 205, 327, 742,  77,  92,\n",
      "        533, 410, 786, 560], device='cuda:0')\n"
     ]
    },
    {
     "name": "stderr",
     "output_type": "stream",
     "text": [
      "  0%|          | 0/5 [00:00<?, ?it/s]"
     ]
    },
    {
     "name": "stderr",
     "output_type": "stream",
     "text": [
      "100%|██████████| 5/5 [04:07<00:00, 49.51s/it]\n"
     ]
    },
    {
     "name": "stdout",
     "output_type": "stream",
     "text": [
      "Datasize: 128, L2: 0.886997401714325, Relative L2: 0.06571687757968903, MSE: 0.016933556646108627\n",
      "random time: 264.9664704799652 s\n",
      "variance\n",
      "tensor([754, 802, 547, 697, 644,  20, 308, 501, 839, 558, 329,  74, 414, 571,\n",
      "        253,  58, 287, 176, 814, 405, 437, 735, 774, 218, 301, 852, 100, 137,\n",
      "         95, 407, 728, 652], device='cuda:0')\n"
     ]
    },
    {
     "name": "stderr",
     "output_type": "stream",
     "text": [
      "100%|██████████| 5/5 [04:07<00:00, 49.49s/it]\n"
     ]
    },
    {
     "name": "stdout",
     "output_type": "stream",
     "text": [
      "Datasize: 128, L2: 0.7935059070587158, Relative L2: 0.06083448976278305, MSE: 0.01104064006358385\n",
      "variance time: 265.11215567588806 s\n",
      "stochastic\n",
      "tensor([571, 230, 735, 630, 318,  20, 218, 558, 754, 453, 398, 854,  58, 652,\n",
      "        196, 848, 644, 817, 802, 449, 770, 852, 132, 253, 456, 418, 597, 310,\n",
      "        825, 776, 717, 176], device='cuda:0')\n"
     ]
    },
    {
     "name": "stderr",
     "output_type": "stream",
     "text": [
      "100%|██████████| 5/5 [04:06<00:00, 49.24s/it]\n"
     ]
    },
    {
     "name": "stdout",
     "output_type": "stream",
     "text": [
      "Datasize: 128, L2: 0.8061470985412598, Relative L2: 0.061047106981277466, MSE: 0.012720659375190735\n",
      "stochastic time: 263.8111062049866 s\n",
      "lcmd\n",
      "tensor([754, 839, 501,  20, 253, 414, 547,  58, 558, 587, 449, 735, 571, 680,\n",
      "        218, 407, 453, 287,   5, 308, 697, 137,  97, 237, 405, 641,  74, 814,\n",
      "        644, 802, 410, 854], device='cuda:0')\n"
     ]
    },
    {
     "name": "stderr",
     "output_type": "stream",
     "text": [
      "100%|██████████| 5/5 [04:08<00:00, 49.61s/it]\n"
     ]
    },
    {
     "name": "stdout",
     "output_type": "stream",
     "text": [
      "Datasize: 128, L2: 0.8203738331794739, Relative L2: 0.06296046078205109, MSE: 0.012000292539596558\n",
      "lcmd time: 265.9070177078247 s\n",
      "lcmd_shared\n",
      "tensor([ 20, 644, 839, 308,  74, 287, 697, 449, 504, 754, 571, 100, 802, 825,\n",
      "        776,  58, 814, 218, 414,   5, 652, 694,  63, 253,  95, 854, 176, 558,\n",
      "        547, 227, 301, 177], device='cuda:0')\n"
     ]
    },
    {
     "name": "stderr",
     "output_type": "stream",
     "text": [
      "100%|██████████| 5/5 [04:08<00:00, 49.68s/it]\n"
     ]
    },
    {
     "name": "stdout",
     "output_type": "stream",
     "text": [
      "Datasize: 128, L2: 0.7886824607849121, Relative L2: 0.060593217611312866, MSE: 0.011279908940196037\n",
      "lcmd_shared time: 268.18438506126404 s\n"
     ]
    }
   ],
   "source": [
    "for method in ['random', 'variance', 'stochastic', 'lcmd', 'lcmd_shared']:\n",
    "    print(method)\n",
    "    time_start = time.time()\n",
    "    \n",
    "    X_train = X[train_idxs]\n",
    "    Y_train = Y[train_idxs]\n",
    "    X_pool = X[pool_idxs]\n",
    "    \n",
    "    new_idxs = select(ensemble, X_train, X_pool, batch_acquire, selection_method=method, device=device)\n",
    "    # new_idxs = select_var(ensemble, X_pool, batch_acquire)\n",
    "\n",
    "    new_idxs = new_idxs.to(device)\n",
    "    print(new_idxs)\n",
    "    # print(f'{len(new_idxs)=}')\n",
    "    logical_new_idxs = torch.zeros(pool_idxs.shape[-1], dtype=torch.bool, device=device)\n",
    "    logical_new_idxs[new_idxs] = True\n",
    "    train_idxs_new = torch.cat([train_idxs, pool_idxs[logical_new_idxs]], dim=-1)\n",
    "    pool_idxs_new = pool_idxs[~logical_new_idxs]\n",
    "\n",
    "    X_train = X[train_idxs_new]\n",
    "    Y_train = Y[train_idxs_new]\n",
    "\n",
    "    X_pool = X[pool_idxs_new]\n",
    "\n",
    "    ensemble_new = [train(X_train, Y_train) for _ in tqdm(range(ensemble_size))]\n",
    "\n",
    "    results['datasize'].append(train_idxs.shape[0])\n",
    "    results['ensemble'].append(copy.deepcopy(ensemble_new))\n",
    "    results['method'].append(method)\n",
    "    l2_list = [test(model)[0].mean().item() for model in ensemble_new]\n",
    "    rel_l2_list = [test(model)[1].mean().item() for model in ensemble_new]\n",
    "    mse_list = [test(model)[2].mean().item() for model in ensemble_new]\n",
    "    results['l2'].append(torch.mean(torch.tensor(l2_list)).item())\n",
    "    results['rel_l2'].append(torch.mean(torch.tensor(rel_l2_list)).item())\n",
    "    results['mse'].append(torch.mean(torch.tensor(mse_list)).item())\n",
    "    print(f'Datasize: {results[\"datasize\"][-1]}, L2: {results[\"l2\"][-1]}, Relative L2: {results[\"rel_l2\"][-1]}, MSE: {results[\"mse\"][-1]}')\n",
    "\n",
    "    time_end = time.time()\n",
    "    print(f'{method} time: {time_end-time_start} s')\n"
   ]
  },
  {
   "cell_type": "code",
   "execution_count": null,
   "metadata": {},
   "outputs": [],
   "source": []
  }
 ],
 "metadata": {
  "kernelspec": {
   "display_name": "operator",
   "language": "python",
   "name": "python3"
  },
  "language_info": {
   "codemirror_mode": {
    "name": "ipython",
    "version": 3
   },
   "file_extension": ".py",
   "mimetype": "text/x-python",
   "name": "python",
   "nbconvert_exporter": "python",
   "pygments_lexer": "ipython3",
   "version": "3.10.13"
  }
 },
 "nbformat": 4,
 "nbformat_minor": 2
}
