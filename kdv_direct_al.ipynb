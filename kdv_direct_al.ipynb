{
 "cells": [
  {
   "cell_type": "code",
   "execution_count": 1,
   "metadata": {},
   "outputs": [],
   "source": [
    "import h5py\n",
    "import torch\n",
    "import random\n",
    "\n",
    "device = torch.device('cuda' if torch.cuda.is_available() else 'cpu')"
   ]
  },
  {
   "cell_type": "code",
   "execution_count": 2,
   "metadata": {},
   "outputs": [],
   "source": [
    "# with h5py.File('data/KdV_train_1024_default.h5', 'r') as f:\n",
    "#     traj_train = torch.tensor(f['train']['pde_140-256'][:], dtype=torch.float32)\n",
    "# with h5py.File('data/KdV_valid_1024_default.h5', 'r') as f:\n",
    "#     traj_valid = torch.tensor(f['valid']['pde_140-256'][:], dtype=torch.float32)\n",
    "# with h5py.File('data/KdV_test_4096_default.h5', 'r') as f:\n",
    "#     traj_test = torch.tensor(f['test']['pde_140-256'][:], dtype=torch.float32)\n",
    "\n",
    "class args:\n",
    "    # equation = 'KdV'\n",
    "    equation = 'Burgers'\n",
    "\n",
    "class Traj_dataset:\n",
    "    traj_train = None\n",
    "    traj_valid = None\n",
    "    traj_test = None\n",
    "\n",
    "with h5py.File(f'data/{args.equation}_train_1024_default.h5', 'r') as f:\n",
    "    Traj_dataset.traj_train = torch.tensor(f['train']['pde_140-256'][:], dtype=torch.float32)[:, :131]\n",
    "with h5py.File(f'data/{args.equation}_valid_1024_default.h5', 'r') as f:\n",
    "    Traj_dataset.traj_valid = torch.tensor(f['valid']['pde_140-256'][:], dtype=torch.float32)[:, :131]\n",
    "with h5py.File(f'data/{args.equation}_test_4096_default.h5', 'r') as f:\n",
    "    Traj_dataset.traj_test = torch.tensor(f['test']['pde_140-256'][:], dtype=torch.float32)[:, :131]"
   ]
  },
  {
   "cell_type": "code",
   "execution_count": 3,
   "metadata": {},
   "outputs": [],
   "source": [
    "from typing import Any, Dict, List, Tuple\n",
    "import torch.nn.functional as F\n",
    "\n",
    "class LpLoss(object):\n",
    "    def __init__(self, d=2, p=2, size_average=True, reduction=True):\n",
    "        super(LpLoss, self).__init__()\n",
    "\n",
    "        #Dimension and Lp-norm type are postive\n",
    "        assert d > 0 and p > 0\n",
    "\n",
    "        self.d = d\n",
    "        self.p = p\n",
    "        self.reduction = reduction\n",
    "        self.size_average = size_average\n",
    "\n",
    "    def abs(self, x, y):\n",
    "        num_examples = x.size()[0]\n",
    "\n",
    "        #Assume uniform mesh\n",
    "        h = 1.0 / (x.size()[1] - 1.0) if x.size()[1] > 1 else 1.0\n",
    "\n",
    "        all_norms = (h**(self.d/self.p))*torch.norm(x.view(num_examples,-1) - y.view(num_examples,-1), self.p, 1)\n",
    "\n",
    "        if self.reduction:\n",
    "            if self.size_average:\n",
    "                return torch.mean(all_norms)\n",
    "            else:\n",
    "                return torch.sum(all_norms)\n",
    "\n",
    "        return all_norms\n",
    "\n",
    "    def rel(self, x, y):\n",
    "        num_examples = x.size()[0]\n",
    "\n",
    "        diff_norms = torch.norm(x.reshape(num_examples,-1) - y.reshape(num_examples,-1), self.p, 1)\n",
    "        y_norms = torch.norm(y.reshape(num_examples,-1), self.p, 1)\n",
    "\n",
    "        if self.reduction:\n",
    "            if self.size_average:\n",
    "                return torch.mean(diff_norms/y_norms)\n",
    "            else:\n",
    "                return torch.sum(diff_norms/y_norms)\n",
    "\n",
    "        return diff_norms/y_norms\n",
    "\n",
    "    def __call__(self, x, y):\n",
    "        return self.rel(x, y)\n",
    "\n",
    "def compute_metrics(y, y_pred, d=1) :\n",
    "    L2_func = LpLoss(d=d, p=2, reduction=False)\n",
    "    if y.shape != y_pred.shape :\n",
    "        raise NotImplementedError\n",
    "    l2 = L2_func.abs(y, y_pred) # [bs]\n",
    "    relative_l2 = L2_func.rel(y, y_pred) # [bs]\n",
    "    mse = F.mse_loss(y_pred, y, reduction='none') # [bs]\n",
    "    mse = mse.mean(dim=tuple(range(1, mse.ndim)))\n",
    "    return l2, relative_l2, mse\n"
   ]
  },
  {
   "cell_type": "code",
   "execution_count": 4,
   "metadata": {},
   "outputs": [],
   "source": [
    "epochs = 500\n",
    "lr = 0.001\n",
    "batch_size = 32"
   ]
  },
  {
   "cell_type": "code",
   "execution_count": 5,
   "metadata": {},
   "outputs": [
    {
     "name": "stderr",
     "output_type": "stream",
     "text": [
      "100%|██████████| 5/5 [07:58<00:00, 95.76s/it] \n"
     ]
    },
    {
     "name": "stdout",
     "output_type": "stream",
     "text": [
      "256, 0.003188951639458537\n"
     ]
    }
   ],
   "source": [
    "import torch\n",
    "import numpy as np\n",
    "from neuralop.models import FNO\n",
    "from tqdm import tqdm\n",
    "import copy\n",
    "\n",
    "from acquisition.acquirers import select\n",
    "\n",
    "def train(X_train, Y_train):\n",
    "    model = FNO(n_modes=(256, ), hidden_channels=64,\n",
    "                    in_channels=1, out_channels=1)\n",
    "\n",
    "    model = model.to(device)\n",
    "\n",
    "    model.train()\n",
    "\n",
    "    optimizer = torch.optim.Adam(model.parameters(), lr=lr)\n",
    "    scheduler = torch.optim.lr_scheduler.CosineAnnealingLR(optimizer, epochs)\n",
    "    criterion = torch.nn.MSELoss()\n",
    "\n",
    "    dataset = torch.utils.data.TensorDataset(X_train, Y_train)\n",
    "    dataloader = torch.utils.data.DataLoader(dataset, batch_size=batch_size, shuffle=True)\n",
    "\n",
    "    for epoch in range(epochs):\n",
    "        for x, y in dataloader:\n",
    "            # x, y = x.to(device), y.to(device)\n",
    "            optimizer.zero_grad()\n",
    "            y_pred = model(x)\n",
    "            loss = criterion(y_pred, y)\n",
    "            loss.backward()\n",
    "            optimizer.step()\n",
    "        scheduler.step()\n",
    "    \n",
    "    return model\n",
    "\n",
    "def test(model):\n",
    "    X_test = Traj_dataset.traj_test[:,0,:].unsqueeze(1).to(device)\n",
    "    Y_test = Traj_dataset.traj_test[:,-1,:].unsqueeze(1).to(device)\n",
    "\n",
    "    testset = torch.utils.data.TensorDataset(X_test, Y_test)\n",
    "    testloader = torch.utils.data.DataLoader(testset, batch_size=batch_size, shuffle=False)\n",
    "\n",
    "    model.eval()\n",
    "    \n",
    "    Y_test_pred = []\n",
    "    with torch.no_grad():\n",
    "        for x, y in testloader:\n",
    "            # x, y = x.to(device), y.to(device)\n",
    "            y_pred = model(x)\n",
    "            Y_test_pred.append(y_pred)\n",
    "        Y_test_pred = torch.cat(Y_test_pred, dim=0).to(Y_test.device)\n",
    "    \n",
    "    metrics = compute_metrics(Y_test, Y_test_pred, d=1)\n",
    "    return metrics\n",
    "\n",
    "\n",
    "initial_datasize=256\n",
    "batch_acquire=32\n",
    "num_acquire=1\n",
    "ensemble_size = 5\n",
    "\n",
    "results = {'datasize': [], 'rel_l2': []}\n",
    "\n",
    "X = Traj_dataset.traj_train[:,0].unsqueeze(1).to(device)\n",
    "Y = Traj_dataset.traj_train[:,-1].unsqueeze(1).to(device)\n",
    "\n",
    "train_idxs = torch.arange(initial_datasize, device=device)\n",
    "pool_idxs = torch.arange(initial_datasize, X.shape[0], device=device)\n",
    "\n",
    "X_train = X[train_idxs]\n",
    "Y_train = Y[train_idxs]\n",
    "\n",
    "X_pool = X[pool_idxs]\n",
    "\n",
    "ensemble = [train(X_train, Y_train) for _ in tqdm(range(ensemble_size))]\n",
    "\n",
    "results['datasize'].append(train_idxs.shape[0])\n",
    "rel_l2_list = [test(model)[1].mean().item() for model in ensemble]\n",
    "results['rel_l2'].append(torch.mean(torch.tensor(rel_l2_list)).item())\n",
    "print(f'{results[\"datasize\"][-1]}, {results[\"rel_l2\"][-1]}')\n",
    "\n",
    "ensemble_base = copy.deepcopy(ensemble)\n"
   ]
  },
  {
   "cell_type": "code",
   "execution_count": 6,
   "metadata": {},
   "outputs": [
    {
     "name": "stdout",
     "output_type": "stream",
     "text": [
      "tensor([550, 574, 341, 530, 410, 350, 272, 646, 444, 519, 652, 141, 269, 358,\n",
      "        573, 609, 720, 617, 217,  79, 115, 464, 627, 538, 727, 665, 362, 302,\n",
      "        240, 363, 552, 472], device='cuda:0')\n"
     ]
    },
    {
     "name": "stderr",
     "output_type": "stream",
     "text": [
      "100%|██████████| 5/5 [08:47<00:00, 105.50s/it]\n"
     ]
    },
    {
     "name": "stdout",
     "output_type": "stream",
     "text": [
      "288, 0.0026719924062490463\n"
     ]
    }
   ],
   "source": [
    "ensemble = ensemble_base\n",
    "\n",
    "for i in range(num_acquire):\n",
    "    new_idxs = select(ensemble, X_train, X_pool, batch_acquire, selection_method='lcmd', acquisition_function='variance', device=device)\n",
    "    # new_idxs = select_var(ensemble, X_pool, batch_acquire)\n",
    "\n",
    "    new_idxs = new_idxs.to(device)\n",
    "    print(new_idxs)\n",
    "    # print(f'{len(new_idxs)=}')\n",
    "    logical_new_idxs = torch.zeros(pool_idxs.shape[-1], dtype=torch.bool, device=device)\n",
    "    logical_new_idxs[new_idxs] = True\n",
    "    train_idxs = torch.cat([train_idxs, pool_idxs[logical_new_idxs]], dim=-1)\n",
    "    pool_idxs = pool_idxs[~logical_new_idxs]\n",
    "\n",
    "    X_train = X[train_idxs]\n",
    "    Y_train = Y[train_idxs]\n",
    "\n",
    "    X_pool = X[pool_idxs]\n",
    "\n",
    "    ensemble = [train(X_train, Y_train) for _ in tqdm(range(ensemble_size))]\n",
    "\n",
    "    results['datasize'].append(train_idxs.shape[0])\n",
    "    rel_l2_list = [test(model)[1].mean().item() for model in ensemble]\n",
    "    results['rel_l2'].append(torch.mean(torch.tensor(rel_l2_list)).item())\n",
    "    print(f'{results[\"datasize\"][-1]}, {results[\"rel_l2\"][-1]}')"
   ]
  },
  {
   "cell_type": "code",
   "execution_count": null,
   "metadata": {},
   "outputs": [],
   "source": []
  }
 ],
 "metadata": {
  "kernelspec": {
   "display_name": "operator",
   "language": "python",
   "name": "python3"
  },
  "language_info": {
   "codemirror_mode": {
    "name": "ipython",
    "version": 3
   },
   "file_extension": ".py",
   "mimetype": "text/x-python",
   "name": "python",
   "nbconvert_exporter": "python",
   "pygments_lexer": "ipython3",
   "version": "3.10.13"
  }
 },
 "nbformat": 4,
 "nbformat_minor": 2
}
